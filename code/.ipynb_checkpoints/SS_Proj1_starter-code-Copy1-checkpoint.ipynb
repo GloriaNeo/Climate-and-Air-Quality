{
 "cells": [
  {
   "cell_type": "markdown",
   "metadata": {},
   "source": [
    "<img src=\"http://imgur.com/1ZcRyrc.png\" style=\"float: left; margin: 20px; height: 55px\">\n",
    "\n",
    "# Project 1: Data Analysis of Singapore Rainfall"
   ]
  },
  {
   "cell_type": "markdown",
   "metadata": {},
   "source": [
    "--- \n",
    "# Part 1\n",
    "\n",
    "Part 1 requires knowledge of basic Python.\n",
    "\n",
    "---"
   ]
  },
  {
   "cell_type": "markdown",
   "metadata": {},
   "source": [
    "### Contents:\n",
    "- [Background](#Background)\n",
    "- [Data Import & Cleaning](#Data-Import-and-Cleaning)\n",
    "- [Exploratory Data Analysis](#Exploratory-Data-Analysis)\n",
    "- [Data Visualization](#Visualize-the-Data)\n",
    "- [Conclusions and Recommendations](#Conclusions-and-Recommendations)"
   ]
  },
  {
   "cell_type": "markdown",
   "metadata": {},
   "source": [
    "## Background"
   ]
  },
  {
   "cell_type": "markdown",
   "metadata": {},
   "source": [
    "According to the [Meteorological Services Singapore](http://www.weather.gov.sg/climate-climate-of-singapore/#:~:text=Singapore%20is%20situated%20near%20the,month%2Dto%2Dmonth%20variation.), Singapore has typical tropical climate with adundant rainfall, high and uniform temperatures and high humidity all year round, since its situated near the equator. There are many factors that help us understand the climate of a country and in this project we are going to look into a few, especially rainfall.\n",
    "\n",
    "Singapore’s climate is characterised by two main monsoon seasons separated by inter-monsoonal periods.  The **Northeast Monsoon** occurs from December to early March, and the **Southwest Monsoon** from June to September.\n",
    "\n",
    "The major weather systems affecting Singapore that can lead to heavy rainfall are:\n",
    "* Monsoon surges, or strong wind episodes in the Northeast Monsoon flow bringing about major rainfall events;\n",
    "* Sumatra squalls, an organised line of thunderstorms travelling eastward across Singapore, having developed over the island of Sumatra or Straits of Malacca west of us;\n",
    "* Afternoon and evening thunderstorms caused by strong surface heating and by the sea breeze circulation that develops in the afternoon.\n",
    "\n",
    "Singapore’s climate station has been located at several different sites in the past 140 years. The station had been decommissioned at various points in the past due to changes to local land use in the site’s vicinity, and had to be relocated. Since 1984, the climate station has been located at **Changi**.\n",
    "There are other metrics of climate such as temperature, humidity, sun shine duration, wind speed, cloud cover etc. All the dataset used in the project comes from [data.gov.sg](data.gov.sg), as recorded at the Changi climate station \n"
   ]
  },
  {
   "cell_type": "markdown",
   "metadata": {
    "jp-MarkdownHeadingCollapsed": true
   },
   "source": [
    "### Choose your Data\n",
    "\n",
    "**Datasets corresponding to rainfall information:**\n",
    "\n",
    "* [`rainfall-monthly-number-of-rain-days.csv`](./data/rainfall-monthly-number-of-rain-days.csv): Monthly number of rain days from 1982 to 2022. A day is considered to have “rained” if the total rainfall for that day is 0.2mm or more.\n",
    "* [`rainfall-monthly-total.csv`](./data/rainfall-monthly-total.csv): Monthly total rain recorded in mm(millimeters) from 1982 to 2022\n",
    "* [`rainfall-monthly-highest-daily-total.csv`](./data/rainfall-monthly-highest-daily-total.csv): The highest daily total rainfall for the month recorded\n",
    "* [`relative-humidity-monthly-mean`](./data/relative-humidity-monthly-mean.csv): The monthly mean relative humidity recorded\n",
    "* [`SurfaceAirTemperatureMonthlyMeanDailyMaximum`](./data/SurfaceAirTemperatureMonthlyMeanDailyMaximum.csv): The monthly mean daily minimum temperature recorded at the Changi Climate Station\n",
    "* [`surface-air-temperature-monthly-mean-daily-minimum`](./data/surface-air-temperature-monthly-mean-daily-minimum.csv): The monthly mean daily maximum temperature recorded at the Changi Climate Station\n",
    "* [`SurfaceAirTemperatureMonthlyAbsoluteExtremeMaximum`](./data/SurfaceAirTemperatureMonthlyAbsoluteExtremeMaximum.csv): The monthly extreme maximum air temperature recorded at the Changi Climate Station\n",
    "* [`SurfaceAirTemperatureMonthlyAbsoluteExtremeMinimum`](./data/SurfaceAirTemperatureMonthlyAbsoluteExtremeMinimum.csv): The absolute extreme minimum air temperature recorded at the Changi Climate Station\n",
    "* [`sunshine-duration-monthly-mean-daily-duration`](./data/sunshine-duration-monthly-mean-daily-duration.csv): The monthly mean sunshine hours in a day recorded at the Changi Climate Station\n",
    "\n",
    "**Datasets corresponding to Air Quality:**\n",
    "* [`air-pollutant-ozone`](./data/air-pollutant-ozone.csv): Annual daily maximum 8-hr means for ozone (µg/m3)\n",
    "* [`air-pollutant-particulate-matter-pm2-5`](./data/air-pollutant-particulate-matter-pm2-5.csv): Annual means for PM2.5 (µg/m3)\n",
    "* [`AirPollutantParticulateMatterPM10`](./data/AirPollutantParticulateMatterPM10.csv): Annual 24-hr means (99th percentile) for PM10 (µg/m3)\n",
    "* [`AirPollutantCarbonMonoxide2ndMaximum8HourMean`](./data/AirPollutantCarbonMonoxide2ndMaximum8HourMeancsv): Annual maximum 8-hr means for carbon monoxide (mg/m3) are based on WHO Air Quality Guidelines (for Europe, 2000).\n",
    "* [`AirPollutantNitrogenDioxide`](./data/AirPollutantNitrogenDioxide.csv): Annual means for nitrogen dioxide (µg/m3)\n",
    "* [`AirPollutantSulphurDioxide`](./data/AirPollutantSulphurDioxide.csv): Annual means for sulphur dioxide (µg/m3)\n",
    "* [`historical-24-hr-psi`](./data/historical-24-hr-psi.csv): Historical regional 24-hr PSI\n",
    "\n",
    "**Datasets corresponding to Healthcare:**\n",
    "* [`age-standardised-mortality-rate-for-cancer`](./data/age-standardised-mortality-rate-for-cancer.csv): Age-standardised mortality rates for Cancer\n",
    "* [`age-standardised-mortality-rate-for-stroke`](./data/age-standardised-mortality-rate-for-stroke.csv): Age-standardised mortality rates for Stroke\n",
    "* [`age-standardised-mortality-rate-for-ischaemic-heart-disease`](./data/age-standardised-mortality-rate-for-ischaemic-heart-disease.csv): Age-standardised mortality rates for Ischaemic Heart Disease\n",
    "* [`HospitalAdmissionRatebyAgeandSex`](./data/HospitalAdmissionRatebyAgeandSex.csv): Hospital Admission Rate by Age and Sex\n",
    "* [`average-daily-polyclinic-attendances-for-selected-diseases`](./data/average-daily-polyclinic-attendances-for-selected-diseases.csv): Average daily polyclinic attendances for selected diseases - Acute Upper Respiratory Tract infections, Acute Conjunctivitis, Acute Diarrhoea, Chickenpox and HFMD( from 2018)\n",
    "\n",
    "---"
   ]
  },
  {
   "cell_type": "markdown",
   "metadata": {},
   "source": [
    "## Problem Statement"
   ]
  },
  {
   "cell_type": "markdown",
   "metadata": {},
   "source": [
    "**Context:**<br>\n",
    "Ongoing climate change, the return of El Nino and La Nina events, recurrent transboundary Southeast Asian Haze. These are some of the major factors that have caused notable shifts in weather patterns. This phenomenon has been apparent in 2023, where we have been experiencing erratic weather variations in Singapore, including heavy rainfall and heatwaves. As such, Air Quality is increasingly a topic of concern. The increased frequency and intensity of extreme weather events contribute to higher levels of air pollutants, including particulate matter (PM2.5 and PM10), nitrogen dioxide (NO2), sulfur dioxide (SO2), and ozone (O3). This worsening AQI poses a significant risk to public health and can lead to various health issues, including respiratory problems and cardiovascular diseases like heart disease and stroke.<br><br>\n",
    "**Problem Statement:**<br>\n",
    "You are part of the Ministry of Health (MOH) taskforce set up to understand the impact (immediacy, magnitude) of weather on air quality, and the correlation of these environmental factors on the population's health. This study should provide insights regarding manpower and/or resource allocation to cope with the consequences of the extreme weather conditions ahead, and provide the premise for further studies to be conducted.<br><br>\n",
    "**Some guiding questions to address:**\n",
    "* How do weather conditions, including temperature, humidity, wind patterns, and rainfall, affect the various air pollutants?\n",
    "* What can we learn about potential health risks associated with exposure to different air pollutants, and how weather affects them?\n",
    "* How do the changes in weather and air quality relate to the potential health issues? Are there any trends to the severity and immediacy? \n",
    "\n",
    "---"
   ]
  },
  {
   "cell_type": "markdown",
   "metadata": {},
   "source": [
    "### Outside Research"
   ]
  },
  {
   "cell_type": "markdown",
   "metadata": {},
   "source": [
    "*Based on your problem statement and your chosen datasets, spend some time doing outside research on how climate change is affecting different industries or additional information that might be relevant. Summarize your findings below. If you bring in any outside tables or charts, make sure you are explicit about having borrowed them. If you quote any text, make sure that it renders as being quoted. **Make sure that you cite your sources.***\n",
    "\n",
    "<mark>COME BACK</mark>\n",
    "*During my earlier research, I learnt that rainfall could improve air quality as the rain could help remove pollutants in a phenomenon called 'Wet Deposition'. On the other hand, hot weather could lead to low air quality as air is likelier to stagnate, causing pollutants to settle and build up.\n",
    "\n",
    "* Current weather phenomenon\n",
    "* Rain vs hot weather\n",
    "* Air quality factors\n",
    "* "
   ]
  },
  {
   "cell_type": "markdown",
   "metadata": {},
   "source": [
    "**Sources**<br>\n",
    "1. https://www.nea.gov.sg/our-services/pollution-control/air-pollution/air-quality\n",
    "1. https://www.who.int/news/item/22-09-2021-new-who-global-air-quality-guidelines-aim-to-save-millions-of-lives-from-air-pollution\n",
    "2. https://www.who.int/publications/i/item/9789240034228\n",
    "3. https://www.todayonline.com/singapore/explainer-erratic-weather-heatwave-what-do-extreme-changes-ahead-2172341\n",
    "4. https://blog.breezometer.com/air-pollution-weather-rainy-day/\n",
    "5. https://www.haze.gov.sg/docs/default-source/faq/computation-of-the-pollutant-standards-index-(psi).pdf\n",
    "\n",
    "\n",
    "---"
   ]
  },
  {
   "cell_type": "markdown",
   "metadata": {
    "jp-MarkdownHeadingCollapsed": true
   },
   "source": [
    "### Coding Challenges\n",
    "\n",
    "1. Manually calculate mean:\n",
    "\n",
    "    Write a function that takes in values and returns the mean of the values. Create a list of numbers that you test on your function to check to make sure your function works!\n",
    "    \n",
    "    *Note*: Do not use any mean methods built-in to any Python libraries to do this! This should be done without importing any additional libraries."
   ]
  },
  {
   "cell_type": "code",
   "execution_count": 1,
   "metadata": {},
   "outputs": [],
   "source": [
    "# Defining function that calculates mean\n",
    "def calc_mean(values):\n",
    "    return sum(values)/len(values)"
   ]
  },
  {
   "cell_type": "code",
   "execution_count": 2,
   "metadata": {},
   "outputs": [
    {
     "data": {
      "text/plain": [
       "4.0"
      ]
     },
     "execution_count": 2,
     "metadata": {},
     "output_type": "execute_result"
    }
   ],
   "source": [
    "# To test if function works\n",
    "mean_val = calc_mean([5,4,3])\n",
    "mean_val"
   ]
  },
  {
   "cell_type": "markdown",
   "metadata": {},
   "source": [
    "2. Manually calculate standard deviation:\n",
    "\n",
    "    The formula for standard deviation is below:\n",
    "\n",
    "    $$\\sigma = \\sqrt{\\frac{1}{n}\\sum_{i=1}^n(x_i - \\mu)^2}$$\n",
    "\n",
    "    Where $x_i$ represents each value in the dataset, $\\mu$ represents the mean of all values in the dataset and $n$ represents the number of values in the dataset.\n",
    "\n",
    "    Write a function that takes in values and returns the standard deviation of the values using the formula above. Hint: use the function you wrote above to calculate the mean! Use the list of numbers you created above to test on your function.\n",
    "    \n",
    "    *Note*: Do not use any standard deviation methods built-in to any Python libraries to do this! This should be done without importing any additional libraries."
   ]
  },
  {
   "cell_type": "code",
   "execution_count": 3,
   "metadata": {},
   "outputs": [],
   "source": [
    "# Defining function that calculates standard deviation\n",
    "def std_dev(values):\n",
    "\n",
    "#calculate squared differences and place them in list\n",
    "    squared_diff = []\n",
    "\n",
    "    for value in values:\n",
    "        squared_diff.append((value - mean_val)**2)\n",
    "\n",
    "#calculate variance = avg of squared differences\n",
    "    variance = sum(squared_diff) / len(values)\n",
    "\n",
    "#calculate std_dev = sq rt of variance\n",
    "    import math\n",
    "    return math.sqrt(variance)"
   ]
  },
  {
   "cell_type": "code",
   "execution_count": 4,
   "metadata": {},
   "outputs": [
    {
     "data": {
      "text/plain": [
       "0.816496580927726"
      ]
     },
     "execution_count": 4,
     "metadata": {},
     "output_type": "execute_result"
    }
   ],
   "source": [
    "# To test if function works\n",
    "std_dev([5, 4, 3])"
   ]
  },
  {
   "cell_type": "markdown",
   "metadata": {},
   "source": [
    "--- \n",
    "# Part 2\n",
    "\n",
    "Part 2 requires knowledge of Pandas, EDA, data cleaning, and data visualization.\n",
    "\n",
    "---"
   ]
  },
  {
   "cell_type": "markdown",
   "metadata": {},
   "source": [
    "*All libraries used should be added here*"
   ]
  },
  {
   "cell_type": "code",
   "execution_count": 5,
   "metadata": {},
   "outputs": [],
   "source": [
    "# Imports:\n",
    "import numpy as np\n",
    "import pandas as pd\n",
    "import matplotlib.pyplot as plt\n",
    "import seaborn as sns"
   ]
  },
  {
   "cell_type": "markdown",
   "metadata": {},
   "source": [
    "## Data Import and Cleaning"
   ]
  },
  {
   "cell_type": "markdown",
   "metadata": {},
   "source": [
    "### Data Import Strategy:\n",
    "To make things more organised, I will be importing data in 3 batches -  1) Weather-related, 2) Air Quality related, 3) Health-related. Within these 3 batches, I have decided to combine the dataframes where possible, if there are common identifier variables between the dataframes that I can use to merge.\n",
    "\n",
    "### Data Cleaning Strategy:\n",
    "The usual data cleaning of checking for shape, data types, missing values and duplicates are done.\n",
    "As most of the data came from the same source: data.gov.sg, data was easy to clean with little or no null values. Most NEA-sourced data (for the weather conditions and air pollutants) involved data collected from a similar period, with similar date-time formatting. <br><br>"
   ]
  },
  {
   "cell_type": "markdown",
   "metadata": {},
   "source": [
    "**General steps for data import and cleaning**<br>\n",
    "1.  Display the data: print the first 5 rows of each dataframe.\n",
    "2.  Check for missing values and datatype, fix errors.\n",
    "3.  Fix any incorrect data types.\n",
    "4.  Rename Columns.\n",
    "5.  Drop unnecessary rows (if needed).\n",
    "6.  Merge dataframes that can be merged.\n",
    "7.  Perform any additional cleaning necessary.\n",
    "8.  Save cleaned and merged dataframes as csv files."
   ]
  },
  {
   "cell_type": "markdown",
   "metadata": {},
   "source": [
    "### Weather Data Import"
   ]
  },
  {
   "cell_type": "code",
   "execution_count": 6,
   "metadata": {},
   "outputs": [],
   "source": [
    "# Bring in weather data\n",
    "rainf_rain_days = pd.read_csv(r'..\\data\\rainfall-monthly-number-of-rain-days.csv')\n",
    "rainf_total = pd.read_csv(r'..\\data\\rainfall-monthly-total.csv')\n",
    "rainf_daily_high = pd.read_csv(r'..\\data\\rainfall-monthly-highest-daily-total.csv')\n",
    "humi_mean = pd.read_csv(r'..\\data\\relative-humidity-monthly-mean.csv')\n",
    "temp_min = pd.read_csv(r'..\\data\\surface-air-temperature-monthly-mean-daily-minimum.csv')\n",
    "temp_max = pd.read_csv(r'..\\data\\SurfaceAirTemperatureMonthlyMeanDailyMaximum.csv')\n",
    "sunsh_duratn = pd.read_csv(r'..\\data\\sunshine-duration-monthly-mean-daily-duration.csv')\n",
    "temp_abs_max = pd.read_csv(r'..\\data\\SurfaceAirTemperatureMonthlyAbsoluteExtremeMaximum.csv')\n",
    "temp_abs_min = pd.read_csv(r'..\\data\\SurfaceAirTemperatureMonthlyAbsoluteExtremeMinimum.csv')"
   ]
  },
  {
   "cell_type": "code",
   "execution_count": 7,
   "metadata": {},
   "outputs": [
    {
     "name": "stdout",
     "output_type": "stream",
     "text": [
      "(488, 2)\n",
      "<class 'pandas.core.frame.DataFrame'>\n",
      "RangeIndex: 488 entries, 0 to 487\n",
      "Data columns (total 2 columns):\n",
      " #   Column            Non-Null Count  Dtype         \n",
      "---  ------            --------------  -----         \n",
      " 0   month             488 non-null    datetime64[ns]\n",
      " 1   no_of_rainy_days  488 non-null    int64         \n",
      "dtypes: datetime64[ns](1), int64(1)\n",
      "memory usage: 7.8 KB\n",
      "None\n"
     ]
    },
    {
     "data": {
      "text/html": [
       "<div>\n",
       "<style scoped>\n",
       "    .dataframe tbody tr th:only-of-type {\n",
       "        vertical-align: middle;\n",
       "    }\n",
       "\n",
       "    .dataframe tbody tr th {\n",
       "        vertical-align: top;\n",
       "    }\n",
       "\n",
       "    .dataframe thead th {\n",
       "        text-align: right;\n",
       "    }\n",
       "</style>\n",
       "<table border=\"1\" class=\"dataframe\">\n",
       "  <thead>\n",
       "    <tr style=\"text-align: right;\">\n",
       "      <th></th>\n",
       "      <th>month</th>\n",
       "      <th>no_of_rainy_days</th>\n",
       "    </tr>\n",
       "  </thead>\n",
       "  <tbody>\n",
       "    <tr>\n",
       "      <th>0</th>\n",
       "      <td>1982-01-01</td>\n",
       "      <td>10</td>\n",
       "    </tr>\n",
       "    <tr>\n",
       "      <th>1</th>\n",
       "      <td>1982-02-01</td>\n",
       "      <td>5</td>\n",
       "    </tr>\n",
       "    <tr>\n",
       "      <th>2</th>\n",
       "      <td>1982-03-01</td>\n",
       "      <td>11</td>\n",
       "    </tr>\n",
       "    <tr>\n",
       "      <th>3</th>\n",
       "      <td>1982-04-01</td>\n",
       "      <td>14</td>\n",
       "    </tr>\n",
       "    <tr>\n",
       "      <th>4</th>\n",
       "      <td>1982-05-01</td>\n",
       "      <td>10</td>\n",
       "    </tr>\n",
       "  </tbody>\n",
       "</table>\n",
       "</div>"
      ],
      "text/plain": [
       "       month  no_of_rainy_days\n",
       "0 1982-01-01                10\n",
       "1 1982-02-01                 5\n",
       "2 1982-03-01                11\n",
       "3 1982-04-01                14\n",
       "4 1982-05-01                10"
      ]
     },
     "execution_count": 7,
     "metadata": {},
     "output_type": "execute_result"
    }
   ],
   "source": [
    "# Check out the first five rows of the rainf_rain_days data\n",
    "print(rainf_rain_days.shape)\n",
    "\n",
    "#'month' is currently an object Dtype, itshould be a date-time Dtype.\n",
    "# decided to convert first to avoid errors in merging\n",
    "rainf_rain_days['month'] = pd.to_datetime(rainf_rain_days['month'], format= '%Y-%m')\n",
    "print(rainf_rain_days.info())\n",
    "\n",
    "# print head again to check\n",
    "rainf_rain_days.head()"
   ]
  },
  {
   "cell_type": "code",
   "execution_count": 8,
   "metadata": {},
   "outputs": [
    {
     "name": "stdout",
     "output_type": "stream",
     "text": [
      "(488, 2)\n",
      "<class 'pandas.core.frame.DataFrame'>\n",
      "RangeIndex: 488 entries, 0 to 487\n",
      "Data columns (total 2 columns):\n",
      " #   Column          Non-Null Count  Dtype         \n",
      "---  ------          --------------  -----         \n",
      " 0   month           488 non-null    datetime64[ns]\n",
      " 1   total_rainfall  488 non-null    float64       \n",
      "dtypes: datetime64[ns](1), float64(1)\n",
      "memory usage: 7.8 KB\n",
      "None\n"
     ]
    },
    {
     "data": {
      "text/html": [
       "<div>\n",
       "<style scoped>\n",
       "    .dataframe tbody tr th:only-of-type {\n",
       "        vertical-align: middle;\n",
       "    }\n",
       "\n",
       "    .dataframe tbody tr th {\n",
       "        vertical-align: top;\n",
       "    }\n",
       "\n",
       "    .dataframe thead th {\n",
       "        text-align: right;\n",
       "    }\n",
       "</style>\n",
       "<table border=\"1\" class=\"dataframe\">\n",
       "  <thead>\n",
       "    <tr style=\"text-align: right;\">\n",
       "      <th></th>\n",
       "      <th>month</th>\n",
       "      <th>total_rainfall</th>\n",
       "    </tr>\n",
       "  </thead>\n",
       "  <tbody>\n",
       "    <tr>\n",
       "      <th>0</th>\n",
       "      <td>1982-01-01</td>\n",
       "      <td>107.1</td>\n",
       "    </tr>\n",
       "    <tr>\n",
       "      <th>1</th>\n",
       "      <td>1982-02-01</td>\n",
       "      <td>27.8</td>\n",
       "    </tr>\n",
       "    <tr>\n",
       "      <th>2</th>\n",
       "      <td>1982-03-01</td>\n",
       "      <td>160.8</td>\n",
       "    </tr>\n",
       "    <tr>\n",
       "      <th>3</th>\n",
       "      <td>1982-04-01</td>\n",
       "      <td>157.0</td>\n",
       "    </tr>\n",
       "    <tr>\n",
       "      <th>4</th>\n",
       "      <td>1982-05-01</td>\n",
       "      <td>102.2</td>\n",
       "    </tr>\n",
       "  </tbody>\n",
       "</table>\n",
       "</div>"
      ],
      "text/plain": [
       "       month  total_rainfall\n",
       "0 1982-01-01           107.1\n",
       "1 1982-02-01            27.8\n",
       "2 1982-03-01           160.8\n",
       "3 1982-04-01           157.0\n",
       "4 1982-05-01           102.2"
      ]
     },
     "execution_count": 8,
     "metadata": {},
     "output_type": "execute_result"
    }
   ],
   "source": [
    "# Check out the first five rows of the rainf_total data\n",
    "print(rainf_total.shape) \n",
    "\n",
    "#'month' is currently an object Dtype, itshould be a date-time Dtype.\n",
    "# decided to convert first to avoid errors in merging\n",
    "rainf_total['month'] = pd.to_datetime(rainf_total['month'], format= '%Y-%m')\n",
    "print(rainf_total.info())\n",
    "\n",
    "# print head again to check\n",
    "rainf_total.head()"
   ]
  },
  {
   "cell_type": "code",
   "execution_count": 9,
   "metadata": {},
   "outputs": [
    {
     "name": "stdout",
     "output_type": "stream",
     "text": [
      "(497, 2)\n",
      "<class 'pandas.core.frame.DataFrame'>\n",
      "RangeIndex: 497 entries, 0 to 496\n",
      "Data columns (total 2 columns):\n",
      " #   Column                     Non-Null Count  Dtype         \n",
      "---  ------                     --------------  -----         \n",
      " 0   month                      497 non-null    datetime64[ns]\n",
      " 1   maximum_rainfall_in_a_day  497 non-null    float64       \n",
      "dtypes: datetime64[ns](1), float64(1)\n",
      "memory usage: 7.9 KB\n",
      "None\n"
     ]
    },
    {
     "data": {
      "text/html": [
       "<div>\n",
       "<style scoped>\n",
       "    .dataframe tbody tr th:only-of-type {\n",
       "        vertical-align: middle;\n",
       "    }\n",
       "\n",
       "    .dataframe tbody tr th {\n",
       "        vertical-align: top;\n",
       "    }\n",
       "\n",
       "    .dataframe thead th {\n",
       "        text-align: right;\n",
       "    }\n",
       "</style>\n",
       "<table border=\"1\" class=\"dataframe\">\n",
       "  <thead>\n",
       "    <tr style=\"text-align: right;\">\n",
       "      <th></th>\n",
       "      <th>month</th>\n",
       "      <th>maximum_rainfall_in_a_day</th>\n",
       "    </tr>\n",
       "  </thead>\n",
       "  <tbody>\n",
       "    <tr>\n",
       "      <th>0</th>\n",
       "      <td>1982-01-01</td>\n",
       "      <td>36.5</td>\n",
       "    </tr>\n",
       "    <tr>\n",
       "      <th>1</th>\n",
       "      <td>1982-02-01</td>\n",
       "      <td>9.4</td>\n",
       "    </tr>\n",
       "    <tr>\n",
       "      <th>2</th>\n",
       "      <td>1982-03-01</td>\n",
       "      <td>61.7</td>\n",
       "    </tr>\n",
       "    <tr>\n",
       "      <th>3</th>\n",
       "      <td>1982-04-01</td>\n",
       "      <td>45.1</td>\n",
       "    </tr>\n",
       "    <tr>\n",
       "      <th>4</th>\n",
       "      <td>1982-05-01</td>\n",
       "      <td>33.0</td>\n",
       "    </tr>\n",
       "  </tbody>\n",
       "</table>\n",
       "</div>"
      ],
      "text/plain": [
       "       month  maximum_rainfall_in_a_day\n",
       "0 1982-01-01                       36.5\n",
       "1 1982-02-01                        9.4\n",
       "2 1982-03-01                       61.7\n",
       "3 1982-04-01                       45.1\n",
       "4 1982-05-01                       33.0"
      ]
     },
     "execution_count": 9,
     "metadata": {},
     "output_type": "execute_result"
    }
   ],
   "source": [
    "# Check out the first five rows of the rainf_daily_high data\n",
    "print(rainf_daily_high.shape) \n",
    "\n",
    "#'month' is currently an object Dtype, itshould be a date-time Dtype.\n",
    "# decided to convert first to avoid errors in merging\n",
    "rainf_daily_high['month'] = pd.to_datetime(rainf_daily_high['month'], format='%Y-%m')\n",
    "print(rainf_daily_high.info())\n",
    "\n",
    "# print head again to check\n",
    "rainf_daily_high.head()"
   ]
  },
  {
   "cell_type": "code",
   "execution_count": 10,
   "metadata": {},
   "outputs": [
    {
     "name": "stdout",
     "output_type": "stream",
     "text": [
      "(497, 2)\n",
      "<class 'pandas.core.frame.DataFrame'>\n",
      "RangeIndex: 497 entries, 0 to 496\n",
      "Data columns (total 2 columns):\n",
      " #   Column   Non-Null Count  Dtype         \n",
      "---  ------   --------------  -----         \n",
      " 0   month    497 non-null    datetime64[ns]\n",
      " 1   mean_rh  497 non-null    float64       \n",
      "dtypes: datetime64[ns](1), float64(1)\n",
      "memory usage: 7.9 KB\n",
      "None\n"
     ]
    },
    {
     "data": {
      "text/html": [
       "<div>\n",
       "<style scoped>\n",
       "    .dataframe tbody tr th:only-of-type {\n",
       "        vertical-align: middle;\n",
       "    }\n",
       "\n",
       "    .dataframe tbody tr th {\n",
       "        vertical-align: top;\n",
       "    }\n",
       "\n",
       "    .dataframe thead th {\n",
       "        text-align: right;\n",
       "    }\n",
       "</style>\n",
       "<table border=\"1\" class=\"dataframe\">\n",
       "  <thead>\n",
       "    <tr style=\"text-align: right;\">\n",
       "      <th></th>\n",
       "      <th>month</th>\n",
       "      <th>mean_rh</th>\n",
       "    </tr>\n",
       "  </thead>\n",
       "  <tbody>\n",
       "    <tr>\n",
       "      <th>0</th>\n",
       "      <td>1982-01-01</td>\n",
       "      <td>81.2</td>\n",
       "    </tr>\n",
       "    <tr>\n",
       "      <th>1</th>\n",
       "      <td>1982-02-01</td>\n",
       "      <td>79.5</td>\n",
       "    </tr>\n",
       "    <tr>\n",
       "      <th>2</th>\n",
       "      <td>1982-03-01</td>\n",
       "      <td>82.3</td>\n",
       "    </tr>\n",
       "    <tr>\n",
       "      <th>3</th>\n",
       "      <td>1982-04-01</td>\n",
       "      <td>85.9</td>\n",
       "    </tr>\n",
       "    <tr>\n",
       "      <th>4</th>\n",
       "      <td>1982-05-01</td>\n",
       "      <td>83.2</td>\n",
       "    </tr>\n",
       "  </tbody>\n",
       "</table>\n",
       "</div>"
      ],
      "text/plain": [
       "       month  mean_rh\n",
       "0 1982-01-01     81.2\n",
       "1 1982-02-01     79.5\n",
       "2 1982-03-01     82.3\n",
       "3 1982-04-01     85.9\n",
       "4 1982-05-01     83.2"
      ]
     },
     "execution_count": 10,
     "metadata": {},
     "output_type": "execute_result"
    }
   ],
   "source": [
    "# Check out the first five rows of the humi_mean data\n",
    "print(humi_mean.shape) \n",
    "\n",
    "#'month' is currently an object Dtype, itshould be a date-time Dtype.\n",
    "# decided to convert first to avoid errors in merging\n",
    "humi_mean['month'] = pd.to_datetime(humi_mean['month'], format='%Y-%m')\n",
    "print(humi_mean.info())\n",
    "\n",
    "# print head again to check\n",
    "humi_mean.head()"
   ]
  },
  {
   "cell_type": "code",
   "execution_count": 11,
   "metadata": {},
   "outputs": [
    {
     "name": "stdout",
     "output_type": "stream",
     "text": [
      "(497, 2)\n",
      "<class 'pandas.core.frame.DataFrame'>\n",
      "RangeIndex: 497 entries, 0 to 496\n",
      "Data columns (total 2 columns):\n",
      " #   Column               Non-Null Count  Dtype         \n",
      "---  ------               --------------  -----         \n",
      " 0   month                497 non-null    datetime64[ns]\n",
      " 1   temp_mean_daily_min  497 non-null    float64       \n",
      "dtypes: datetime64[ns](1), float64(1)\n",
      "memory usage: 7.9 KB\n",
      "None\n"
     ]
    },
    {
     "data": {
      "text/html": [
       "<div>\n",
       "<style scoped>\n",
       "    .dataframe tbody tr th:only-of-type {\n",
       "        vertical-align: middle;\n",
       "    }\n",
       "\n",
       "    .dataframe tbody tr th {\n",
       "        vertical-align: top;\n",
       "    }\n",
       "\n",
       "    .dataframe thead th {\n",
       "        text-align: right;\n",
       "    }\n",
       "</style>\n",
       "<table border=\"1\" class=\"dataframe\">\n",
       "  <thead>\n",
       "    <tr style=\"text-align: right;\">\n",
       "      <th></th>\n",
       "      <th>month</th>\n",
       "      <th>temp_mean_daily_min</th>\n",
       "    </tr>\n",
       "  </thead>\n",
       "  <tbody>\n",
       "    <tr>\n",
       "      <th>0</th>\n",
       "      <td>1982-01-01</td>\n",
       "      <td>23.3</td>\n",
       "    </tr>\n",
       "    <tr>\n",
       "      <th>1</th>\n",
       "      <td>1982-02-01</td>\n",
       "      <td>23.9</td>\n",
       "    </tr>\n",
       "    <tr>\n",
       "      <th>2</th>\n",
       "      <td>1982-03-01</td>\n",
       "      <td>24.3</td>\n",
       "    </tr>\n",
       "    <tr>\n",
       "      <th>3</th>\n",
       "      <td>1982-04-01</td>\n",
       "      <td>24.3</td>\n",
       "    </tr>\n",
       "    <tr>\n",
       "      <th>4</th>\n",
       "      <td>1982-05-01</td>\n",
       "      <td>25.2</td>\n",
       "    </tr>\n",
       "  </tbody>\n",
       "</table>\n",
       "</div>"
      ],
      "text/plain": [
       "       month  temp_mean_daily_min\n",
       "0 1982-01-01                 23.3\n",
       "1 1982-02-01                 23.9\n",
       "2 1982-03-01                 24.3\n",
       "3 1982-04-01                 24.3\n",
       "4 1982-05-01                 25.2"
      ]
     },
     "execution_count": 11,
     "metadata": {},
     "output_type": "execute_result"
    }
   ],
   "source": [
    "# Check out the first five rows of the temp_min data\n",
    "print(temp_min.shape) \n",
    "\n",
    "#'month' is currently an object Dtype, itshould be a date-time Dtype.\n",
    "# decided to convert first to avoid errors in merging\n",
    "temp_min['month'] = pd.to_datetime(temp_min['month'], format='%Y-%m')\n",
    "print(temp_min.info())\n",
    "\n",
    "# print head again to check\n",
    "temp_min.head()"
   ]
  },
  {
   "cell_type": "code",
   "execution_count": 12,
   "metadata": {},
   "outputs": [
    {
     "name": "stdout",
     "output_type": "stream",
     "text": [
      "(497, 2)\n",
      "<class 'pandas.core.frame.DataFrame'>\n",
      "RangeIndex: 497 entries, 0 to 496\n",
      "Data columns (total 2 columns):\n",
      " #   Column               Non-Null Count  Dtype         \n",
      "---  ------               --------------  -----         \n",
      " 0   month                497 non-null    datetime64[ns]\n",
      " 1   temp_mean_daily_max  497 non-null    float64       \n",
      "dtypes: datetime64[ns](1), float64(1)\n",
      "memory usage: 7.9 KB\n",
      "None\n"
     ]
    },
    {
     "data": {
      "text/html": [
       "<div>\n",
       "<style scoped>\n",
       "    .dataframe tbody tr th:only-of-type {\n",
       "        vertical-align: middle;\n",
       "    }\n",
       "\n",
       "    .dataframe tbody tr th {\n",
       "        vertical-align: top;\n",
       "    }\n",
       "\n",
       "    .dataframe thead th {\n",
       "        text-align: right;\n",
       "    }\n",
       "</style>\n",
       "<table border=\"1\" class=\"dataframe\">\n",
       "  <thead>\n",
       "    <tr style=\"text-align: right;\">\n",
       "      <th></th>\n",
       "      <th>month</th>\n",
       "      <th>temp_mean_daily_max</th>\n",
       "    </tr>\n",
       "  </thead>\n",
       "  <tbody>\n",
       "    <tr>\n",
       "      <th>0</th>\n",
       "      <td>1982-01-01</td>\n",
       "      <td>29.8</td>\n",
       "    </tr>\n",
       "    <tr>\n",
       "      <th>1</th>\n",
       "      <td>1982-02-01</td>\n",
       "      <td>32.3</td>\n",
       "    </tr>\n",
       "    <tr>\n",
       "      <th>2</th>\n",
       "      <td>1982-03-01</td>\n",
       "      <td>31.7</td>\n",
       "    </tr>\n",
       "    <tr>\n",
       "      <th>3</th>\n",
       "      <td>1982-04-01</td>\n",
       "      <td>31.4</td>\n",
       "    </tr>\n",
       "    <tr>\n",
       "      <th>4</th>\n",
       "      <td>1982-05-01</td>\n",
       "      <td>31.7</td>\n",
       "    </tr>\n",
       "  </tbody>\n",
       "</table>\n",
       "</div>"
      ],
      "text/plain": [
       "       month  temp_mean_daily_max\n",
       "0 1982-01-01                 29.8\n",
       "1 1982-02-01                 32.3\n",
       "2 1982-03-01                 31.7\n",
       "3 1982-04-01                 31.4\n",
       "4 1982-05-01                 31.7"
      ]
     },
     "execution_count": 12,
     "metadata": {},
     "output_type": "execute_result"
    }
   ],
   "source": [
    "# Check out the first five rows of the temp_max data\n",
    "print(temp_max.shape) \n",
    "\n",
    "#'month' is currently an object Dtype, itshould be a date-time Dtype.\n",
    "# decided to convert first to avoid errors in merging\n",
    "temp_max['month'] = pd.to_datetime(temp_max['month'], format='%Y-%m')\n",
    "print(temp_max.info())\n",
    "\n",
    "# print head again to check\n",
    "temp_max.head()"
   ]
  },
  {
   "cell_type": "code",
   "execution_count": 13,
   "metadata": {},
   "outputs": [
    {
     "name": "stdout",
     "output_type": "stream",
     "text": [
      "(497, 2)\n",
      "<class 'pandas.core.frame.DataFrame'>\n",
      "RangeIndex: 497 entries, 0 to 496\n",
      "Data columns (total 2 columns):\n",
      " #   Column             Non-Null Count  Dtype         \n",
      "---  ------             --------------  -----         \n",
      " 0   month              497 non-null    datetime64[ns]\n",
      " 1   mean_sunshine_hrs  497 non-null    float64       \n",
      "dtypes: datetime64[ns](1), float64(1)\n",
      "memory usage: 7.9 KB\n",
      "None\n"
     ]
    },
    {
     "data": {
      "text/html": [
       "<div>\n",
       "<style scoped>\n",
       "    .dataframe tbody tr th:only-of-type {\n",
       "        vertical-align: middle;\n",
       "    }\n",
       "\n",
       "    .dataframe tbody tr th {\n",
       "        vertical-align: top;\n",
       "    }\n",
       "\n",
       "    .dataframe thead th {\n",
       "        text-align: right;\n",
       "    }\n",
       "</style>\n",
       "<table border=\"1\" class=\"dataframe\">\n",
       "  <thead>\n",
       "    <tr style=\"text-align: right;\">\n",
       "      <th></th>\n",
       "      <th>month</th>\n",
       "      <th>mean_sunshine_hrs</th>\n",
       "    </tr>\n",
       "  </thead>\n",
       "  <tbody>\n",
       "    <tr>\n",
       "      <th>0</th>\n",
       "      <td>1982-01-01</td>\n",
       "      <td>5.6</td>\n",
       "    </tr>\n",
       "    <tr>\n",
       "      <th>1</th>\n",
       "      <td>1982-02-01</td>\n",
       "      <td>7.6</td>\n",
       "    </tr>\n",
       "    <tr>\n",
       "      <th>2</th>\n",
       "      <td>1982-03-01</td>\n",
       "      <td>5.1</td>\n",
       "    </tr>\n",
       "    <tr>\n",
       "      <th>3</th>\n",
       "      <td>1982-04-01</td>\n",
       "      <td>4.7</td>\n",
       "    </tr>\n",
       "    <tr>\n",
       "      <th>4</th>\n",
       "      <td>1982-05-01</td>\n",
       "      <td>5.8</td>\n",
       "    </tr>\n",
       "  </tbody>\n",
       "</table>\n",
       "</div>"
      ],
      "text/plain": [
       "       month  mean_sunshine_hrs\n",
       "0 1982-01-01                5.6\n",
       "1 1982-02-01                7.6\n",
       "2 1982-03-01                5.1\n",
       "3 1982-04-01                4.7\n",
       "4 1982-05-01                5.8"
      ]
     },
     "execution_count": 13,
     "metadata": {},
     "output_type": "execute_result"
    }
   ],
   "source": [
    "# Check out the first five rows of the sunsh_duratn data\n",
    "print(sunsh_duratn.shape) \n",
    "\n",
    "#'month' is currently an object Dtype, itshould be a date-time Dtype.\n",
    "# decided to convert first to avoid errors in merging\n",
    "sunsh_duratn['month'] = pd.to_datetime(sunsh_duratn['month'], format='%Y-%m')\n",
    "print(sunsh_duratn.info())\n",
    "\n",
    "# print head again to check\n",
    "sunsh_duratn.head()"
   ]
  },
  {
   "cell_type": "code",
   "execution_count": 14,
   "metadata": {},
   "outputs": [
    {
     "name": "stdout",
     "output_type": "stream",
     "text": [
      "(497, 2)\n",
      "<class 'pandas.core.frame.DataFrame'>\n",
      "RangeIndex: 497 entries, 0 to 496\n",
      "Data columns (total 2 columns):\n",
      " #   Column           Non-Null Count  Dtype         \n",
      "---  ------           --------------  -----         \n",
      " 0   month            497 non-null    datetime64[ns]\n",
      " 1   max_temperature  497 non-null    float64       \n",
      "dtypes: datetime64[ns](1), float64(1)\n",
      "memory usage: 7.9 KB\n",
      "None\n"
     ]
    },
    {
     "data": {
      "text/html": [
       "<div>\n",
       "<style scoped>\n",
       "    .dataframe tbody tr th:only-of-type {\n",
       "        vertical-align: middle;\n",
       "    }\n",
       "\n",
       "    .dataframe tbody tr th {\n",
       "        vertical-align: top;\n",
       "    }\n",
       "\n",
       "    .dataframe thead th {\n",
       "        text-align: right;\n",
       "    }\n",
       "</style>\n",
       "<table border=\"1\" class=\"dataframe\">\n",
       "  <thead>\n",
       "    <tr style=\"text-align: right;\">\n",
       "      <th></th>\n",
       "      <th>month</th>\n",
       "      <th>max_temperature</th>\n",
       "    </tr>\n",
       "  </thead>\n",
       "  <tbody>\n",
       "    <tr>\n",
       "      <th>0</th>\n",
       "      <td>1982-01-01</td>\n",
       "      <td>31.9</td>\n",
       "    </tr>\n",
       "    <tr>\n",
       "      <th>1</th>\n",
       "      <td>1982-02-01</td>\n",
       "      <td>34.3</td>\n",
       "    </tr>\n",
       "    <tr>\n",
       "      <th>2</th>\n",
       "      <td>1982-03-01</td>\n",
       "      <td>34.3</td>\n",
       "    </tr>\n",
       "    <tr>\n",
       "      <th>3</th>\n",
       "      <td>1982-04-01</td>\n",
       "      <td>33.2</td>\n",
       "    </tr>\n",
       "    <tr>\n",
       "      <th>4</th>\n",
       "      <td>1982-05-01</td>\n",
       "      <td>32.9</td>\n",
       "    </tr>\n",
       "  </tbody>\n",
       "</table>\n",
       "</div>"
      ],
      "text/plain": [
       "       month  max_temperature\n",
       "0 1982-01-01             31.9\n",
       "1 1982-02-01             34.3\n",
       "2 1982-03-01             34.3\n",
       "3 1982-04-01             33.2\n",
       "4 1982-05-01             32.9"
      ]
     },
     "execution_count": 14,
     "metadata": {},
     "output_type": "execute_result"
    }
   ],
   "source": [
    "# Check out the first five rows of the temp_abs_max data\n",
    "print(temp_abs_max.shape)\n",
    "\n",
    "#'month' is currently an object Dtype, itshould be a date-time Dtype.\n",
    "# decided to convert first to avoid errors in merging\n",
    "temp_abs_max['month'] = pd.to_datetime(temp_abs_max['month'], format= '%Y-%m')\n",
    "print(temp_abs_max.info())\n",
    "\n",
    "# print head again to check\n",
    "temp_abs_max.head()"
   ]
  },
  {
   "cell_type": "code",
   "execution_count": 15,
   "metadata": {},
   "outputs": [
    {
     "name": "stdout",
     "output_type": "stream",
     "text": [
      "(497, 2)\n",
      "<class 'pandas.core.frame.DataFrame'>\n",
      "RangeIndex: 497 entries, 0 to 496\n",
      "Data columns (total 2 columns):\n",
      " #   Column             Non-Null Count  Dtype         \n",
      "---  ------             --------------  -----         \n",
      " 0   month              497 non-null    datetime64[ns]\n",
      " 1   temp_extremes_min  497 non-null    float64       \n",
      "dtypes: datetime64[ns](1), float64(1)\n",
      "memory usage: 7.9 KB\n",
      "None\n"
     ]
    },
    {
     "data": {
      "text/html": [
       "<div>\n",
       "<style scoped>\n",
       "    .dataframe tbody tr th:only-of-type {\n",
       "        vertical-align: middle;\n",
       "    }\n",
       "\n",
       "    .dataframe tbody tr th {\n",
       "        vertical-align: top;\n",
       "    }\n",
       "\n",
       "    .dataframe thead th {\n",
       "        text-align: right;\n",
       "    }\n",
       "</style>\n",
       "<table border=\"1\" class=\"dataframe\">\n",
       "  <thead>\n",
       "    <tr style=\"text-align: right;\">\n",
       "      <th></th>\n",
       "      <th>month</th>\n",
       "      <th>temp_extremes_min</th>\n",
       "    </tr>\n",
       "  </thead>\n",
       "  <tbody>\n",
       "    <tr>\n",
       "      <th>0</th>\n",
       "      <td>1982-01-01</td>\n",
       "      <td>21.9</td>\n",
       "    </tr>\n",
       "    <tr>\n",
       "      <th>1</th>\n",
       "      <td>1982-02-01</td>\n",
       "      <td>22.6</td>\n",
       "    </tr>\n",
       "    <tr>\n",
       "      <th>2</th>\n",
       "      <td>1982-03-01</td>\n",
       "      <td>22.3</td>\n",
       "    </tr>\n",
       "    <tr>\n",
       "      <th>3</th>\n",
       "      <td>1982-04-01</td>\n",
       "      <td>22.2</td>\n",
       "    </tr>\n",
       "    <tr>\n",
       "      <th>4</th>\n",
       "      <td>1982-05-01</td>\n",
       "      <td>23.7</td>\n",
       "    </tr>\n",
       "  </tbody>\n",
       "</table>\n",
       "</div>"
      ],
      "text/plain": [
       "       month  temp_extremes_min\n",
       "0 1982-01-01               21.9\n",
       "1 1982-02-01               22.6\n",
       "2 1982-03-01               22.3\n",
       "3 1982-04-01               22.2\n",
       "4 1982-05-01               23.7"
      ]
     },
     "execution_count": 15,
     "metadata": {},
     "output_type": "execute_result"
    }
   ],
   "source": [
    "# Check out the first five rows of the temp_abs_min data\n",
    "print(temp_abs_min.shape)\n",
    "\n",
    "#'month' is currently an object Dtype, itshould be a date-time Dtype.\n",
    "# decided to convert first to avoid errors in merging\n",
    "temp_abs_min['month'] = pd.to_datetime(temp_abs_min['month'], format='%Y-%m')\n",
    "print(temp_abs_min.info())\n",
    "\n",
    "# print head again to check\n",
    "temp_abs_min.head()"
   ]
  },
  {
   "cell_type": "code",
   "execution_count": 16,
   "metadata": {},
   "outputs": [],
   "source": [
    "#merge the tables on the 'month' column\n",
    "weather = pd.merge(left = rainf_rain_days,\n",
    "                          right = rainf_total,\n",
    "                          how = 'left',\n",
    "                          on = \"month\")"
   ]
  },
  {
   "cell_type": "code",
   "execution_count": 17,
   "metadata": {},
   "outputs": [],
   "source": [
    "weather = pd.merge(left = weather,\n",
    "                          right = rainf_daily_high,\n",
    "                          how = 'left',\n",
    "                          on = \"month\")"
   ]
  },
  {
   "cell_type": "code",
   "execution_count": 18,
   "metadata": {},
   "outputs": [],
   "source": [
    "weather = pd.merge(left = weather,\n",
    "                          right = humi_mean,\n",
    "                          how = 'left',\n",
    "                          on = \"month\")"
   ]
  },
  {
   "cell_type": "code",
   "execution_count": 19,
   "metadata": {},
   "outputs": [],
   "source": [
    "weather = pd.merge(left = weather,\n",
    "                          right = temp_min,\n",
    "                          how = 'left',\n",
    "                          on = \"month\")"
   ]
  },
  {
   "cell_type": "code",
   "execution_count": 20,
   "metadata": {},
   "outputs": [],
   "source": [
    "weather = pd.merge(left = weather,\n",
    "                          right = temp_max,\n",
    "                          how = 'left',\n",
    "                          on = \"month\")"
   ]
  },
  {
   "cell_type": "code",
   "execution_count": 21,
   "metadata": {},
   "outputs": [],
   "source": [
    "weather = pd.merge(left = weather,\n",
    "                          right = sunsh_duratn,\n",
    "                          how = 'left',\n",
    "                          on = \"month\")"
   ]
  },
  {
   "cell_type": "code",
   "execution_count": 22,
   "metadata": {},
   "outputs": [],
   "source": [
    "weather = pd.merge(left = weather,\n",
    "                          right = temp_abs_max,\n",
    "                          how = 'left',\n",
    "                          on = \"month\")"
   ]
  },
  {
   "cell_type": "code",
   "execution_count": 23,
   "metadata": {},
   "outputs": [],
   "source": [
    "weather = pd.merge(left = weather,\n",
    "                          right = temp_abs_min,\n",
    "                          how = 'left',\n",
    "                          on = \"month\")"
   ]
  },
  {
   "cell_type": "code",
   "execution_count": 24,
   "metadata": {},
   "outputs": [
    {
     "name": "stdout",
     "output_type": "stream",
     "text": [
      "(488, 10)\n"
     ]
    },
    {
     "data": {
      "text/html": [
       "<div>\n",
       "<style scoped>\n",
       "    .dataframe tbody tr th:only-of-type {\n",
       "        vertical-align: middle;\n",
       "    }\n",
       "\n",
       "    .dataframe tbody tr th {\n",
       "        vertical-align: top;\n",
       "    }\n",
       "\n",
       "    .dataframe thead th {\n",
       "        text-align: right;\n",
       "    }\n",
       "</style>\n",
       "<table border=\"1\" class=\"dataframe\">\n",
       "  <thead>\n",
       "    <tr style=\"text-align: right;\">\n",
       "      <th></th>\n",
       "      <th>month</th>\n",
       "      <th>no_of_rainy_days</th>\n",
       "      <th>total_rainfall</th>\n",
       "      <th>maximum_rainfall_in_a_day</th>\n",
       "      <th>mean_rh</th>\n",
       "      <th>temp_mean_daily_min</th>\n",
       "      <th>temp_mean_daily_max</th>\n",
       "      <th>mean_sunshine_hrs</th>\n",
       "      <th>max_temperature</th>\n",
       "      <th>temp_extremes_min</th>\n",
       "    </tr>\n",
       "  </thead>\n",
       "  <tbody>\n",
       "    <tr>\n",
       "      <th>0</th>\n",
       "      <td>1982-01-01</td>\n",
       "      <td>10</td>\n",
       "      <td>107.1</td>\n",
       "      <td>36.5</td>\n",
       "      <td>81.2</td>\n",
       "      <td>23.3</td>\n",
       "      <td>29.8</td>\n",
       "      <td>5.6</td>\n",
       "      <td>31.9</td>\n",
       "      <td>21.9</td>\n",
       "    </tr>\n",
       "    <tr>\n",
       "      <th>1</th>\n",
       "      <td>1982-02-01</td>\n",
       "      <td>5</td>\n",
       "      <td>27.8</td>\n",
       "      <td>9.4</td>\n",
       "      <td>79.5</td>\n",
       "      <td>23.9</td>\n",
       "      <td>32.3</td>\n",
       "      <td>7.6</td>\n",
       "      <td>34.3</td>\n",
       "      <td>22.6</td>\n",
       "    </tr>\n",
       "    <tr>\n",
       "      <th>2</th>\n",
       "      <td>1982-03-01</td>\n",
       "      <td>11</td>\n",
       "      <td>160.8</td>\n",
       "      <td>61.7</td>\n",
       "      <td>82.3</td>\n",
       "      <td>24.3</td>\n",
       "      <td>31.7</td>\n",
       "      <td>5.1</td>\n",
       "      <td>34.3</td>\n",
       "      <td>22.3</td>\n",
       "    </tr>\n",
       "    <tr>\n",
       "      <th>3</th>\n",
       "      <td>1982-04-01</td>\n",
       "      <td>14</td>\n",
       "      <td>157.0</td>\n",
       "      <td>45.1</td>\n",
       "      <td>85.9</td>\n",
       "      <td>24.3</td>\n",
       "      <td>31.4</td>\n",
       "      <td>4.7</td>\n",
       "      <td>33.2</td>\n",
       "      <td>22.2</td>\n",
       "    </tr>\n",
       "    <tr>\n",
       "      <th>4</th>\n",
       "      <td>1982-05-01</td>\n",
       "      <td>10</td>\n",
       "      <td>102.2</td>\n",
       "      <td>33.0</td>\n",
       "      <td>83.2</td>\n",
       "      <td>25.2</td>\n",
       "      <td>31.7</td>\n",
       "      <td>5.8</td>\n",
       "      <td>32.9</td>\n",
       "      <td>23.7</td>\n",
       "    </tr>\n",
       "  </tbody>\n",
       "</table>\n",
       "</div>"
      ],
      "text/plain": [
       "       month  no_of_rainy_days  total_rainfall  maximum_rainfall_in_a_day  \\\n",
       "0 1982-01-01                10           107.1                       36.5   \n",
       "1 1982-02-01                 5            27.8                        9.4   \n",
       "2 1982-03-01                11           160.8                       61.7   \n",
       "3 1982-04-01                14           157.0                       45.1   \n",
       "4 1982-05-01                10           102.2                       33.0   \n",
       "\n",
       "   mean_rh  temp_mean_daily_min  temp_mean_daily_max  mean_sunshine_hrs  \\\n",
       "0     81.2                 23.3                 29.8                5.6   \n",
       "1     79.5                 23.9                 32.3                7.6   \n",
       "2     82.3                 24.3                 31.7                5.1   \n",
       "3     85.9                 24.3                 31.4                4.7   \n",
       "4     83.2                 25.2                 31.7                5.8   \n",
       "\n",
       "   max_temperature  temp_extremes_min  \n",
       "0             31.9               21.9  \n",
       "1             34.3               22.6  \n",
       "2             34.3               22.3  \n",
       "3             33.2               22.2  \n",
       "4             32.9               23.7  "
      ]
     },
     "execution_count": 24,
     "metadata": {},
     "output_type": "execute_result"
    }
   ],
   "source": [
    "#Check merged weather table\n",
    "print(weather.shape)\n",
    "weather.head()"
   ]
  },
  {
   "cell_type": "code",
   "execution_count": 25,
   "metadata": {},
   "outputs": [
    {
     "data": {
      "text/plain": [
       "month                        0\n",
       "no_of_rainy_days             0\n",
       "total_rainfall               0\n",
       "maximum_rainfall_in_a_day    0\n",
       "mean_rh                      0\n",
       "temp_mean_daily_min          0\n",
       "temp_mean_daily_max          0\n",
       "mean_sunshine_hrs            0\n",
       "max_temperature              0\n",
       "temp_extremes_min            0\n",
       "dtype: int64"
      ]
     },
     "execution_count": 25,
     "metadata": {},
     "output_type": "execute_result"
    }
   ],
   "source": [
    "#Check for any null values\n",
    "weather.isna().sum()"
   ]
  },
  {
   "cell_type": "code",
   "execution_count": 26,
   "metadata": {},
   "outputs": [
    {
     "name": "stdout",
     "output_type": "stream",
     "text": [
      "<class 'pandas.core.frame.DataFrame'>\n",
      "Int64Index: 488 entries, 0 to 487\n",
      "Data columns (total 10 columns):\n",
      " #   Column                     Non-Null Count  Dtype         \n",
      "---  ------                     --------------  -----         \n",
      " 0   month                      488 non-null    datetime64[ns]\n",
      " 1   no_of_rainy_days           488 non-null    int64         \n",
      " 2   total_rainfall             488 non-null    float64       \n",
      " 3   maximum_rainfall_in_a_day  488 non-null    float64       \n",
      " 4   mean_rh                    488 non-null    float64       \n",
      " 5   temp_mean_daily_min        488 non-null    float64       \n",
      " 6   temp_mean_daily_max        488 non-null    float64       \n",
      " 7   mean_sunshine_hrs          488 non-null    float64       \n",
      " 8   max_temperature            488 non-null    float64       \n",
      " 9   temp_extremes_min          488 non-null    float64       \n",
      "dtypes: datetime64[ns](1), float64(8), int64(1)\n",
      "memory usage: 41.9 KB\n"
     ]
    }
   ],
   "source": [
    "#Check datatypes\n",
    "weather.info()"
   ]
  },
  {
   "cell_type": "code",
   "execution_count": 27,
   "metadata": {},
   "outputs": [],
   "source": [
    "#separate year and month into new temporary dataframe\n",
    "datetime = {'year':weather['month'].dt.year, 'month':weather['month'].dt.month}\n",
    "datetime = pd.DataFrame(datetime)"
   ]
  },
  {
   "cell_type": "code",
   "execution_count": 28,
   "metadata": {},
   "outputs": [
    {
     "name": "stdout",
     "output_type": "stream",
     "text": [
      "(488, 2)\n"
     ]
    },
    {
     "data": {
      "text/html": [
       "<div>\n",
       "<style scoped>\n",
       "    .dataframe tbody tr th:only-of-type {\n",
       "        vertical-align: middle;\n",
       "    }\n",
       "\n",
       "    .dataframe tbody tr th {\n",
       "        vertical-align: top;\n",
       "    }\n",
       "\n",
       "    .dataframe thead th {\n",
       "        text-align: right;\n",
       "    }\n",
       "</style>\n",
       "<table border=\"1\" class=\"dataframe\">\n",
       "  <thead>\n",
       "    <tr style=\"text-align: right;\">\n",
       "      <th></th>\n",
       "      <th>year</th>\n",
       "      <th>month</th>\n",
       "    </tr>\n",
       "  </thead>\n",
       "  <tbody>\n",
       "    <tr>\n",
       "      <th>0</th>\n",
       "      <td>1982</td>\n",
       "      <td>1</td>\n",
       "    </tr>\n",
       "    <tr>\n",
       "      <th>1</th>\n",
       "      <td>1982</td>\n",
       "      <td>2</td>\n",
       "    </tr>\n",
       "    <tr>\n",
       "      <th>2</th>\n",
       "      <td>1982</td>\n",
       "      <td>3</td>\n",
       "    </tr>\n",
       "    <tr>\n",
       "      <th>3</th>\n",
       "      <td>1982</td>\n",
       "      <td>4</td>\n",
       "    </tr>\n",
       "    <tr>\n",
       "      <th>4</th>\n",
       "      <td>1982</td>\n",
       "      <td>5</td>\n",
       "    </tr>\n",
       "  </tbody>\n",
       "</table>\n",
       "</div>"
      ],
      "text/plain": [
       "   year  month\n",
       "0  1982      1\n",
       "1  1982      2\n",
       "2  1982      3\n",
       "3  1982      4\n",
       "4  1982      5"
      ]
     },
     "execution_count": 28,
     "metadata": {},
     "output_type": "execute_result"
    }
   ],
   "source": [
    "print(datetime.shape)\n",
    "datetime.head()"
   ]
  },
  {
   "cell_type": "code",
   "execution_count": 29,
   "metadata": {},
   "outputs": [],
   "source": [
    "#drop 'month' from main weather df \n",
    "weather.drop(columns = ['month'], axis=1, inplace=True)\n",
    "\n",
    "#merge datetime df to main weather df\n",
    "weather = pd.concat(objs = [datetime, weather], axis=1)"
   ]
  },
  {
   "cell_type": "code",
   "execution_count": 30,
   "metadata": {},
   "outputs": [
    {
     "data": {
      "text/html": [
       "<div>\n",
       "<style scoped>\n",
       "    .dataframe tbody tr th:only-of-type {\n",
       "        vertical-align: middle;\n",
       "    }\n",
       "\n",
       "    .dataframe tbody tr th {\n",
       "        vertical-align: top;\n",
       "    }\n",
       "\n",
       "    .dataframe thead th {\n",
       "        text-align: right;\n",
       "    }\n",
       "</style>\n",
       "<table border=\"1\" class=\"dataframe\">\n",
       "  <thead>\n",
       "    <tr style=\"text-align: right;\">\n",
       "      <th></th>\n",
       "      <th>year</th>\n",
       "      <th>month</th>\n",
       "      <th>no_of_rainy_days</th>\n",
       "      <th>total_rainfall</th>\n",
       "      <th>maximum_rainfall_in_a_day</th>\n",
       "      <th>mean_rh</th>\n",
       "      <th>temp_mean_daily_min</th>\n",
       "      <th>temp_mean_daily_max</th>\n",
       "      <th>mean_sunshine_hrs</th>\n",
       "      <th>max_temperature</th>\n",
       "      <th>temp_extremes_min</th>\n",
       "    </tr>\n",
       "  </thead>\n",
       "  <tbody>\n",
       "    <tr>\n",
       "      <th>0</th>\n",
       "      <td>1982</td>\n",
       "      <td>1</td>\n",
       "      <td>10</td>\n",
       "      <td>107.1</td>\n",
       "      <td>36.5</td>\n",
       "      <td>81.2</td>\n",
       "      <td>23.3</td>\n",
       "      <td>29.8</td>\n",
       "      <td>5.6</td>\n",
       "      <td>31.9</td>\n",
       "      <td>21.9</td>\n",
       "    </tr>\n",
       "    <tr>\n",
       "      <th>1</th>\n",
       "      <td>1982</td>\n",
       "      <td>2</td>\n",
       "      <td>5</td>\n",
       "      <td>27.8</td>\n",
       "      <td>9.4</td>\n",
       "      <td>79.5</td>\n",
       "      <td>23.9</td>\n",
       "      <td>32.3</td>\n",
       "      <td>7.6</td>\n",
       "      <td>34.3</td>\n",
       "      <td>22.6</td>\n",
       "    </tr>\n",
       "    <tr>\n",
       "      <th>2</th>\n",
       "      <td>1982</td>\n",
       "      <td>3</td>\n",
       "      <td>11</td>\n",
       "      <td>160.8</td>\n",
       "      <td>61.7</td>\n",
       "      <td>82.3</td>\n",
       "      <td>24.3</td>\n",
       "      <td>31.7</td>\n",
       "      <td>5.1</td>\n",
       "      <td>34.3</td>\n",
       "      <td>22.3</td>\n",
       "    </tr>\n",
       "    <tr>\n",
       "      <th>3</th>\n",
       "      <td>1982</td>\n",
       "      <td>4</td>\n",
       "      <td>14</td>\n",
       "      <td>157.0</td>\n",
       "      <td>45.1</td>\n",
       "      <td>85.9</td>\n",
       "      <td>24.3</td>\n",
       "      <td>31.4</td>\n",
       "      <td>4.7</td>\n",
       "      <td>33.2</td>\n",
       "      <td>22.2</td>\n",
       "    </tr>\n",
       "    <tr>\n",
       "      <th>4</th>\n",
       "      <td>1982</td>\n",
       "      <td>5</td>\n",
       "      <td>10</td>\n",
       "      <td>102.2</td>\n",
       "      <td>33.0</td>\n",
       "      <td>83.2</td>\n",
       "      <td>25.2</td>\n",
       "      <td>31.7</td>\n",
       "      <td>5.8</td>\n",
       "      <td>32.9</td>\n",
       "      <td>23.7</td>\n",
       "    </tr>\n",
       "  </tbody>\n",
       "</table>\n",
       "</div>"
      ],
      "text/plain": [
       "   year  month  no_of_rainy_days  total_rainfall  maximum_rainfall_in_a_day  \\\n",
       "0  1982      1                10           107.1                       36.5   \n",
       "1  1982      2                 5            27.8                        9.4   \n",
       "2  1982      3                11           160.8                       61.7   \n",
       "3  1982      4                14           157.0                       45.1   \n",
       "4  1982      5                10           102.2                       33.0   \n",
       "\n",
       "   mean_rh  temp_mean_daily_min  temp_mean_daily_max  mean_sunshine_hrs  \\\n",
       "0     81.2                 23.3                 29.8                5.6   \n",
       "1     79.5                 23.9                 32.3                7.6   \n",
       "2     82.3                 24.3                 31.7                5.1   \n",
       "3     85.9                 24.3                 31.4                4.7   \n",
       "4     83.2                 25.2                 31.7                5.8   \n",
       "\n",
       "   max_temperature  temp_extremes_min  \n",
       "0             31.9               21.9  \n",
       "1             34.3               22.6  \n",
       "2             34.3               22.3  \n",
       "3             33.2               22.2  \n",
       "4             32.9               23.7  "
      ]
     },
     "execution_count": 30,
     "metadata": {},
     "output_type": "execute_result"
    }
   ],
   "source": [
    "weather.head()"
   ]
  },
  {
   "cell_type": "code",
   "execution_count": 31,
   "metadata": {},
   "outputs": [],
   "source": [
    "#rename column headers\n",
    "weather.rename(columns={\n",
    "    'no_of_rainy_days': 'rainy_days',\n",
    "    'maximum_rainfall_in_a_day': 'max_daily_rainfall',\n",
    "    'temp_mean_daily_min':'min_daily_temp',\n",
    "     'temp_mean_daily_max':'max_daily_temp',\n",
    "    'max_temperature':'extr_max_temp',\n",
    "    'temp_extremes_min':'extr_min_temp',\n",
    "}, inplace=True)"
   ]
  },
  {
   "cell_type": "code",
   "execution_count": 32,
   "metadata": {},
   "outputs": [
    {
     "data": {
      "text/html": [
       "<div>\n",
       "<style scoped>\n",
       "    .dataframe tbody tr th:only-of-type {\n",
       "        vertical-align: middle;\n",
       "    }\n",
       "\n",
       "    .dataframe tbody tr th {\n",
       "        vertical-align: top;\n",
       "    }\n",
       "\n",
       "    .dataframe thead th {\n",
       "        text-align: right;\n",
       "    }\n",
       "</style>\n",
       "<table border=\"1\" class=\"dataframe\">\n",
       "  <thead>\n",
       "    <tr style=\"text-align: right;\">\n",
       "      <th></th>\n",
       "      <th>year</th>\n",
       "      <th>month</th>\n",
       "      <th>rainy_days</th>\n",
       "      <th>total_rainfall</th>\n",
       "      <th>max_daily_rainfall</th>\n",
       "      <th>mean_rh</th>\n",
       "      <th>min_daily_temp</th>\n",
       "      <th>max_daily_temp</th>\n",
       "      <th>mean_sunshine_hrs</th>\n",
       "      <th>extr_max_temp</th>\n",
       "      <th>extr_min_temp</th>\n",
       "    </tr>\n",
       "  </thead>\n",
       "  <tbody>\n",
       "    <tr>\n",
       "      <th>0</th>\n",
       "      <td>1982</td>\n",
       "      <td>1</td>\n",
       "      <td>10</td>\n",
       "      <td>107.1</td>\n",
       "      <td>36.5</td>\n",
       "      <td>81.2</td>\n",
       "      <td>23.3</td>\n",
       "      <td>29.8</td>\n",
       "      <td>5.6</td>\n",
       "      <td>31.9</td>\n",
       "      <td>21.9</td>\n",
       "    </tr>\n",
       "    <tr>\n",
       "      <th>1</th>\n",
       "      <td>1982</td>\n",
       "      <td>2</td>\n",
       "      <td>5</td>\n",
       "      <td>27.8</td>\n",
       "      <td>9.4</td>\n",
       "      <td>79.5</td>\n",
       "      <td>23.9</td>\n",
       "      <td>32.3</td>\n",
       "      <td>7.6</td>\n",
       "      <td>34.3</td>\n",
       "      <td>22.6</td>\n",
       "    </tr>\n",
       "    <tr>\n",
       "      <th>2</th>\n",
       "      <td>1982</td>\n",
       "      <td>3</td>\n",
       "      <td>11</td>\n",
       "      <td>160.8</td>\n",
       "      <td>61.7</td>\n",
       "      <td>82.3</td>\n",
       "      <td>24.3</td>\n",
       "      <td>31.7</td>\n",
       "      <td>5.1</td>\n",
       "      <td>34.3</td>\n",
       "      <td>22.3</td>\n",
       "    </tr>\n",
       "    <tr>\n",
       "      <th>3</th>\n",
       "      <td>1982</td>\n",
       "      <td>4</td>\n",
       "      <td>14</td>\n",
       "      <td>157.0</td>\n",
       "      <td>45.1</td>\n",
       "      <td>85.9</td>\n",
       "      <td>24.3</td>\n",
       "      <td>31.4</td>\n",
       "      <td>4.7</td>\n",
       "      <td>33.2</td>\n",
       "      <td>22.2</td>\n",
       "    </tr>\n",
       "    <tr>\n",
       "      <th>4</th>\n",
       "      <td>1982</td>\n",
       "      <td>5</td>\n",
       "      <td>10</td>\n",
       "      <td>102.2</td>\n",
       "      <td>33.0</td>\n",
       "      <td>83.2</td>\n",
       "      <td>25.2</td>\n",
       "      <td>31.7</td>\n",
       "      <td>5.8</td>\n",
       "      <td>32.9</td>\n",
       "      <td>23.7</td>\n",
       "    </tr>\n",
       "  </tbody>\n",
       "</table>\n",
       "</div>"
      ],
      "text/plain": [
       "   year  month  rainy_days  total_rainfall  max_daily_rainfall  mean_rh  \\\n",
       "0  1982      1          10           107.1                36.5     81.2   \n",
       "1  1982      2           5            27.8                 9.4     79.5   \n",
       "2  1982      3          11           160.8                61.7     82.3   \n",
       "3  1982      4          14           157.0                45.1     85.9   \n",
       "4  1982      5          10           102.2                33.0     83.2   \n",
       "\n",
       "   min_daily_temp  max_daily_temp  mean_sunshine_hrs  extr_max_temp  \\\n",
       "0            23.3            29.8                5.6           31.9   \n",
       "1            23.9            32.3                7.6           34.3   \n",
       "2            24.3            31.7                5.1           34.3   \n",
       "3            24.3            31.4                4.7           33.2   \n",
       "4            25.2            31.7                5.8           32.9   \n",
       "\n",
       "   extr_min_temp  \n",
       "0           21.9  \n",
       "1           22.6  \n",
       "2           22.3  \n",
       "3           22.2  \n",
       "4           23.7  "
      ]
     },
     "execution_count": 32,
     "metadata": {},
     "output_type": "execute_result"
    }
   ],
   "source": [
    "weather.head()"
   ]
  },
  {
   "cell_type": "code",
   "execution_count": 33,
   "metadata": {},
   "outputs": [],
   "source": [
    "#export weather df to csv file\n",
    "import os # to work with files/directories\n",
    "if not os.path.exists('..\\data\\output'): \n",
    "    os.makedirs('..\\data\\output') \n",
    "weather.to_csv('..\\data\\output\\weather.csv')"
   ]
  },
  {
   "cell_type": "markdown",
   "metadata": {},
   "source": [
    "### Air Quality Data Import"
   ]
  },
  {
   "cell_type": "code",
   "execution_count": 34,
   "metadata": {},
   "outputs": [],
   "source": [
    "# Bring in air quality pollutants data\n",
    "ozone_max_mean = pd.read_csv(r'..\\data\\air-pollutant-ozone.csv')\n",
    "pm_mean = pd.read_csv(r'..\\data\\air-pollutant-particulate-matter-pm2-5.csv')\n",
    "lead_mean = pd.read_csv(r'..\\data\\AirPolluantLead.csv')\n",
    "co_mean = pd.read_csv(r'..\\data\\AirPollutantCarbonMonoxide2ndMaximum8HourMean.csv')\n",
    "no2_mean = pd.read_csv(r'..\\data\\AirPollutantNitrogenDioxide.csv')\n",
    "pm10_mean = pd.read_csv(r'..\\data\\AirPollutantParticulateMatterPM10.csv')\n",
    "so2_mean = pd.read_csv(r'..\\data\\AirPollutantSulphurDioxide.csv')\n",
    "\n",
    "#bring in PSI data\n",
    "psi = pd.read_csv(r'..\\data\\historical-24-hr-psi.csv')"
   ]
  },
  {
   "cell_type": "code",
   "execution_count": 35,
   "metadata": {
    "scrolled": true
   },
   "outputs": [
    {
     "name": "stdout",
     "output_type": "stream",
     "text": [
      "(22, 2)\n",
      "<class 'pandas.core.frame.DataFrame'>\n",
      "RangeIndex: 22 entries, 0 to 21\n",
      "Data columns (total 2 columns):\n",
      " #   Column                    Non-Null Count  Dtype         \n",
      "---  ------                    --------------  -----         \n",
      " 0   year                      22 non-null     datetime64[ns]\n",
      " 1   ozone_maximum_8hour_mean  22 non-null     int64         \n",
      "dtypes: datetime64[ns](1), int64(1)\n",
      "memory usage: 480.0 bytes\n",
      "None\n"
     ]
    },
    {
     "data": {
      "text/html": [
       "<div>\n",
       "<style scoped>\n",
       "    .dataframe tbody tr th:only-of-type {\n",
       "        vertical-align: middle;\n",
       "    }\n",
       "\n",
       "    .dataframe tbody tr th {\n",
       "        vertical-align: top;\n",
       "    }\n",
       "\n",
       "    .dataframe thead th {\n",
       "        text-align: right;\n",
       "    }\n",
       "</style>\n",
       "<table border=\"1\" class=\"dataframe\">\n",
       "  <thead>\n",
       "    <tr style=\"text-align: right;\">\n",
       "      <th></th>\n",
       "      <th>year</th>\n",
       "      <th>ozone_maximum_8hour_mean</th>\n",
       "    </tr>\n",
       "  </thead>\n",
       "  <tbody>\n",
       "    <tr>\n",
       "      <th>0</th>\n",
       "      <td>2000-01-01</td>\n",
       "      <td>112</td>\n",
       "    </tr>\n",
       "    <tr>\n",
       "      <th>1</th>\n",
       "      <td>2001-01-01</td>\n",
       "      <td>133</td>\n",
       "    </tr>\n",
       "    <tr>\n",
       "      <th>2</th>\n",
       "      <td>2002-01-01</td>\n",
       "      <td>131</td>\n",
       "    </tr>\n",
       "    <tr>\n",
       "      <th>3</th>\n",
       "      <td>2003-01-01</td>\n",
       "      <td>118</td>\n",
       "    </tr>\n",
       "    <tr>\n",
       "      <th>4</th>\n",
       "      <td>2004-01-01</td>\n",
       "      <td>146</td>\n",
       "    </tr>\n",
       "  </tbody>\n",
       "</table>\n",
       "</div>"
      ],
      "text/plain": [
       "        year  ozone_maximum_8hour_mean\n",
       "0 2000-01-01                       112\n",
       "1 2001-01-01                       133\n",
       "2 2002-01-01                       131\n",
       "3 2003-01-01                       118\n",
       "4 2004-01-01                       146"
      ]
     },
     "execution_count": 35,
     "metadata": {},
     "output_type": "execute_result"
    }
   ],
   "source": [
    "# Check out the first five rows of the ozone_max_mean data\n",
    "print(ozone_max_mean.shape) \n",
    "\n",
    "#'year' is currently an int Dtype, itshould be a date-time Dtype.\n",
    "# decided to convert first to avoid errors in merging\n",
    "ozone_max_mean['year'] = pd.to_datetime(ozone_max_mean['year'], format='%Y')\n",
    "print(ozone_max_mean.info())\n",
    "\n",
    "# print head again to check\n",
    "ozone_max_mean.head()"
   ]
  },
  {
   "cell_type": "code",
   "execution_count": 36,
   "metadata": {
    "scrolled": true
   },
   "outputs": [
    {
     "name": "stdout",
     "output_type": "stream",
     "text": [
      "(20, 2)\n",
      "<class 'pandas.core.frame.DataFrame'>\n",
      "RangeIndex: 20 entries, 0 to 19\n",
      "Data columns (total 2 columns):\n",
      " #   Column      Non-Null Count  Dtype         \n",
      "---  ------      --------------  -----         \n",
      " 0   year        20 non-null     datetime64[ns]\n",
      " 1   pm2.5_mean  20 non-null     int64         \n",
      "dtypes: datetime64[ns](1), int64(1)\n",
      "memory usage: 448.0 bytes\n",
      "None\n"
     ]
    },
    {
     "data": {
      "text/html": [
       "<div>\n",
       "<style scoped>\n",
       "    .dataframe tbody tr th:only-of-type {\n",
       "        vertical-align: middle;\n",
       "    }\n",
       "\n",
       "    .dataframe tbody tr th {\n",
       "        vertical-align: top;\n",
       "    }\n",
       "\n",
       "    .dataframe thead th {\n",
       "        text-align: right;\n",
       "    }\n",
       "</style>\n",
       "<table border=\"1\" class=\"dataframe\">\n",
       "  <thead>\n",
       "    <tr style=\"text-align: right;\">\n",
       "      <th></th>\n",
       "      <th>year</th>\n",
       "      <th>pm2.5_mean</th>\n",
       "    </tr>\n",
       "  </thead>\n",
       "  <tbody>\n",
       "    <tr>\n",
       "      <th>0</th>\n",
       "      <td>2002-01-01</td>\n",
       "      <td>23</td>\n",
       "    </tr>\n",
       "    <tr>\n",
       "      <th>1</th>\n",
       "      <td>2003-01-01</td>\n",
       "      <td>19</td>\n",
       "    </tr>\n",
       "    <tr>\n",
       "      <th>2</th>\n",
       "      <td>2004-01-01</td>\n",
       "      <td>21</td>\n",
       "    </tr>\n",
       "    <tr>\n",
       "      <th>3</th>\n",
       "      <td>2005-01-01</td>\n",
       "      <td>21</td>\n",
       "    </tr>\n",
       "    <tr>\n",
       "      <th>4</th>\n",
       "      <td>2006-01-01</td>\n",
       "      <td>23</td>\n",
       "    </tr>\n",
       "  </tbody>\n",
       "</table>\n",
       "</div>"
      ],
      "text/plain": [
       "        year  pm2.5_mean\n",
       "0 2002-01-01          23\n",
       "1 2003-01-01          19\n",
       "2 2004-01-01          21\n",
       "3 2005-01-01          21\n",
       "4 2006-01-01          23"
      ]
     },
     "execution_count": 36,
     "metadata": {},
     "output_type": "execute_result"
    }
   ],
   "source": [
    "# Check out the first five rows of the pm_mean data\n",
    "print(pm_mean.shape) \n",
    "\n",
    "#'year' is currently an int Dtype, itshould be a date-time Dtype.\n",
    "# decided to convert first to avoid errors in merging\n",
    "pm_mean['year'] = pd.to_datetime(pm_mean['year'], format='%Y')\n",
    "print(pm_mean.info())\n",
    "\n",
    "# print head again to check\n",
    "pm_mean.head()"
   ]
  },
  {
   "cell_type": "code",
   "execution_count": 37,
   "metadata": {},
   "outputs": [
    {
     "name": "stdout",
     "output_type": "stream",
     "text": [
      "(16, 2)\n",
      "<class 'pandas.core.frame.DataFrame'>\n",
      "RangeIndex: 16 entries, 0 to 15\n",
      "Data columns (total 2 columns):\n",
      " #   Column     Non-Null Count  Dtype         \n",
      "---  ------     --------------  -----         \n",
      " 0   year       16 non-null     datetime64[ns]\n",
      " 1   lead_mean  16 non-null     object        \n",
      "dtypes: datetime64[ns](1), object(1)\n",
      "memory usage: 384.0+ bytes\n",
      "None\n",
      "<0.1    16\n",
      "Name: lead_mean, dtype: int64\n"
     ]
    }
   ],
   "source": [
    "# Check out the first five rows of the lead_mean data\n",
    "print(lead_mean.shape) \n",
    "\n",
    "#'year' is currently an int Dtype, itshould be a date-time Dtype.\n",
    "# decided to convert first to avoid errors in merging\n",
    "lead_mean['year'] = pd.to_datetime(lead_mean['year'], format= '%Y')\n",
    "print(lead_mean.info())\n",
    "\n",
    "# print unique values for lead_mean\n",
    "print(lead_mean['lead_mean'].value_counts())\n"
   ]
  },
  {
   "cell_type": "code",
   "execution_count": 38,
   "metadata": {},
   "outputs": [
    {
     "name": "stdout",
     "output_type": "stream",
     "text": [
      "(22, 2)\n",
      "<class 'pandas.core.frame.DataFrame'>\n",
      "RangeIndex: 22 entries, 0 to 21\n",
      "Data columns (total 2 columns):\n",
      " #   Column             Non-Null Count  Dtype         \n",
      "---  ------             --------------  -----         \n",
      " 0   year               22 non-null     datetime64[ns]\n",
      " 1   co_max_8hour_mean  22 non-null     float64       \n",
      "dtypes: datetime64[ns](1), float64(1)\n",
      "memory usage: 480.0 bytes\n",
      "None\n"
     ]
    },
    {
     "data": {
      "text/html": [
       "<div>\n",
       "<style scoped>\n",
       "    .dataframe tbody tr th:only-of-type {\n",
       "        vertical-align: middle;\n",
       "    }\n",
       "\n",
       "    .dataframe tbody tr th {\n",
       "        vertical-align: top;\n",
       "    }\n",
       "\n",
       "    .dataframe thead th {\n",
       "        text-align: right;\n",
       "    }\n",
       "</style>\n",
       "<table border=\"1\" class=\"dataframe\">\n",
       "  <thead>\n",
       "    <tr style=\"text-align: right;\">\n",
       "      <th></th>\n",
       "      <th>year</th>\n",
       "      <th>co_max_8hour_mean</th>\n",
       "    </tr>\n",
       "  </thead>\n",
       "  <tbody>\n",
       "    <tr>\n",
       "      <th>0</th>\n",
       "      <td>2000-01-01</td>\n",
       "      <td>3.7</td>\n",
       "    </tr>\n",
       "    <tr>\n",
       "      <th>1</th>\n",
       "      <td>2001-01-01</td>\n",
       "      <td>4.2</td>\n",
       "    </tr>\n",
       "    <tr>\n",
       "      <th>2</th>\n",
       "      <td>2002-01-01</td>\n",
       "      <td>2.7</td>\n",
       "    </tr>\n",
       "    <tr>\n",
       "      <th>3</th>\n",
       "      <td>2003-01-01</td>\n",
       "      <td>3.2</td>\n",
       "    </tr>\n",
       "    <tr>\n",
       "      <th>4</th>\n",
       "      <td>2004-01-01</td>\n",
       "      <td>2.8</td>\n",
       "    </tr>\n",
       "  </tbody>\n",
       "</table>\n",
       "</div>"
      ],
      "text/plain": [
       "        year  co_max_8hour_mean\n",
       "0 2000-01-01                3.7\n",
       "1 2001-01-01                4.2\n",
       "2 2002-01-01                2.7\n",
       "3 2003-01-01                3.2\n",
       "4 2004-01-01                2.8"
      ]
     },
     "execution_count": 38,
     "metadata": {},
     "output_type": "execute_result"
    }
   ],
   "source": [
    "# Check out the first five rows of the CO_mean data\n",
    "print(co_mean.shape) \n",
    "\n",
    "#'year' is currently an int Dtype, itshould be a date-time Dtype.\n",
    "# decided to convert first to avoid errors in merging\n",
    "co_mean['year'] = pd.to_datetime(co_mean['year'], format='%Y')\n",
    "print(co_mean.info())\n",
    "\n",
    "# print head again to check\n",
    "co_mean.head()"
   ]
  },
  {
   "cell_type": "code",
   "execution_count": 39,
   "metadata": {},
   "outputs": [
    {
     "name": "stdout",
     "output_type": "stream",
     "text": [
      "(22, 2)\n",
      "<class 'pandas.core.frame.DataFrame'>\n",
      "RangeIndex: 22 entries, 0 to 21\n",
      "Data columns (total 2 columns):\n",
      " #   Column                 Non-Null Count  Dtype         \n",
      "---  ------                 --------------  -----         \n",
      " 0   year                   22 non-null     datetime64[ns]\n",
      " 1   nitrogen_dioxide_mean  22 non-null     int64         \n",
      "dtypes: datetime64[ns](1), int64(1)\n",
      "memory usage: 480.0 bytes\n",
      "None\n"
     ]
    },
    {
     "data": {
      "text/html": [
       "<div>\n",
       "<style scoped>\n",
       "    .dataframe tbody tr th:only-of-type {\n",
       "        vertical-align: middle;\n",
       "    }\n",
       "\n",
       "    .dataframe tbody tr th {\n",
       "        vertical-align: top;\n",
       "    }\n",
       "\n",
       "    .dataframe thead th {\n",
       "        text-align: right;\n",
       "    }\n",
       "</style>\n",
       "<table border=\"1\" class=\"dataframe\">\n",
       "  <thead>\n",
       "    <tr style=\"text-align: right;\">\n",
       "      <th></th>\n",
       "      <th>year</th>\n",
       "      <th>nitrogen_dioxide_mean</th>\n",
       "    </tr>\n",
       "  </thead>\n",
       "  <tbody>\n",
       "    <tr>\n",
       "      <th>0</th>\n",
       "      <td>2000-01-01</td>\n",
       "      <td>30</td>\n",
       "    </tr>\n",
       "    <tr>\n",
       "      <th>1</th>\n",
       "      <td>2001-01-01</td>\n",
       "      <td>26</td>\n",
       "    </tr>\n",
       "    <tr>\n",
       "      <th>2</th>\n",
       "      <td>2002-01-01</td>\n",
       "      <td>27</td>\n",
       "    </tr>\n",
       "    <tr>\n",
       "      <th>3</th>\n",
       "      <td>2003-01-01</td>\n",
       "      <td>24</td>\n",
       "    </tr>\n",
       "    <tr>\n",
       "      <th>4</th>\n",
       "      <td>2004-01-01</td>\n",
       "      <td>26</td>\n",
       "    </tr>\n",
       "  </tbody>\n",
       "</table>\n",
       "</div>"
      ],
      "text/plain": [
       "        year  nitrogen_dioxide_mean\n",
       "0 2000-01-01                     30\n",
       "1 2001-01-01                     26\n",
       "2 2002-01-01                     27\n",
       "3 2003-01-01                     24\n",
       "4 2004-01-01                     26"
      ]
     },
     "execution_count": 39,
     "metadata": {},
     "output_type": "execute_result"
    }
   ],
   "source": [
    "# Check out the first five rows of the no2_mean data\n",
    "print(no2_mean.shape) \n",
    "\n",
    "#'year' is currently an int Dtype, itshould be a date-time Dtype.\n",
    "# decided to convert first to avoid errors in merging\n",
    "no2_mean['year'] = pd.to_datetime(no2_mean['year'], format='%Y')\n",
    "print(no2_mean.info())\n",
    "\n",
    "# print head again to check\n",
    "no2_mean.head()"
   ]
  },
  {
   "cell_type": "code",
   "execution_count": 40,
   "metadata": {},
   "outputs": [
    {
     "name": "stdout",
     "output_type": "stream",
     "text": [
      "(22, 2)\n",
      "<class 'pandas.core.frame.DataFrame'>\n",
      "RangeIndex: 22 entries, 0 to 21\n",
      "Data columns (total 2 columns):\n",
      " #   Column                     Non-Null Count  Dtype         \n",
      "---  ------                     --------------  -----         \n",
      " 0   year                       22 non-null     datetime64[ns]\n",
      " 1   pm10_24hour_mean_99th_per  22 non-null     int64         \n",
      "dtypes: datetime64[ns](1), int64(1)\n",
      "memory usage: 480.0 bytes\n",
      "None\n"
     ]
    },
    {
     "data": {
      "text/html": [
       "<div>\n",
       "<style scoped>\n",
       "    .dataframe tbody tr th:only-of-type {\n",
       "        vertical-align: middle;\n",
       "    }\n",
       "\n",
       "    .dataframe tbody tr th {\n",
       "        vertical-align: top;\n",
       "    }\n",
       "\n",
       "    .dataframe thead th {\n",
       "        text-align: right;\n",
       "    }\n",
       "</style>\n",
       "<table border=\"1\" class=\"dataframe\">\n",
       "  <thead>\n",
       "    <tr style=\"text-align: right;\">\n",
       "      <th></th>\n",
       "      <th>year</th>\n",
       "      <th>pm10_24hour_mean_99th_per</th>\n",
       "    </tr>\n",
       "  </thead>\n",
       "  <tbody>\n",
       "    <tr>\n",
       "      <th>0</th>\n",
       "      <td>2000-01-01</td>\n",
       "      <td>64</td>\n",
       "    </tr>\n",
       "    <tr>\n",
       "      <th>1</th>\n",
       "      <td>2001-01-01</td>\n",
       "      <td>56</td>\n",
       "    </tr>\n",
       "    <tr>\n",
       "      <th>2</th>\n",
       "      <td>2002-01-01</td>\n",
       "      <td>72</td>\n",
       "    </tr>\n",
       "    <tr>\n",
       "      <th>3</th>\n",
       "      <td>2003-01-01</td>\n",
       "      <td>52</td>\n",
       "    </tr>\n",
       "    <tr>\n",
       "      <th>4</th>\n",
       "      <td>2004-01-01</td>\n",
       "      <td>60</td>\n",
       "    </tr>\n",
       "  </tbody>\n",
       "</table>\n",
       "</div>"
      ],
      "text/plain": [
       "        year  pm10_24hour_mean_99th_per\n",
       "0 2000-01-01                         64\n",
       "1 2001-01-01                         56\n",
       "2 2002-01-01                         72\n",
       "3 2003-01-01                         52\n",
       "4 2004-01-01                         60"
      ]
     },
     "execution_count": 40,
     "metadata": {},
     "output_type": "execute_result"
    }
   ],
   "source": [
    "# Check out the first five rows of the pm10_mean data\n",
    "print(pm10_mean.shape) \n",
    "\n",
    "#'year' is currently an int Dtype, itshould be a date-time Dtype.\n",
    "# decided to convert first to avoid errors in merging\n",
    "pm10_mean['year'] = pd.to_datetime(pm10_mean['year'],format= '%Y')\n",
    "print(pm10_mean.info())\n",
    "\n",
    "# print head again to check\n",
    "pm10_mean.head()"
   ]
  },
  {
   "cell_type": "code",
   "execution_count": 41,
   "metadata": {},
   "outputs": [
    {
     "name": "stdout",
     "output_type": "stream",
     "text": [
      "(22, 2)\n",
      "<class 'pandas.core.frame.DataFrame'>\n",
      "RangeIndex: 22 entries, 0 to 21\n",
      "Data columns (total 2 columns):\n",
      " #   Column                Non-Null Count  Dtype         \n",
      "---  ------                --------------  -----         \n",
      " 0   year                  22 non-null     datetime64[ns]\n",
      " 1   sulphur_dioxide_mean  22 non-null     int64         \n",
      "dtypes: datetime64[ns](1), int64(1)\n",
      "memory usage: 480.0 bytes\n",
      "None\n"
     ]
    },
    {
     "data": {
      "text/html": [
       "<div>\n",
       "<style scoped>\n",
       "    .dataframe tbody tr th:only-of-type {\n",
       "        vertical-align: middle;\n",
       "    }\n",
       "\n",
       "    .dataframe tbody tr th {\n",
       "        vertical-align: top;\n",
       "    }\n",
       "\n",
       "    .dataframe thead th {\n",
       "        text-align: right;\n",
       "    }\n",
       "</style>\n",
       "<table border=\"1\" class=\"dataframe\">\n",
       "  <thead>\n",
       "    <tr style=\"text-align: right;\">\n",
       "      <th></th>\n",
       "      <th>year</th>\n",
       "      <th>sulphur_dioxide_mean</th>\n",
       "    </tr>\n",
       "  </thead>\n",
       "  <tbody>\n",
       "    <tr>\n",
       "      <th>0</th>\n",
       "      <td>2000-01-01</td>\n",
       "      <td>22</td>\n",
       "    </tr>\n",
       "    <tr>\n",
       "      <th>1</th>\n",
       "      <td>2001-01-01</td>\n",
       "      <td>22</td>\n",
       "    </tr>\n",
       "    <tr>\n",
       "      <th>2</th>\n",
       "      <td>2002-01-01</td>\n",
       "      <td>18</td>\n",
       "    </tr>\n",
       "    <tr>\n",
       "      <th>3</th>\n",
       "      <td>2003-01-01</td>\n",
       "      <td>15</td>\n",
       "    </tr>\n",
       "    <tr>\n",
       "      <th>4</th>\n",
       "      <td>2004-01-01</td>\n",
       "      <td>14</td>\n",
       "    </tr>\n",
       "  </tbody>\n",
       "</table>\n",
       "</div>"
      ],
      "text/plain": [
       "        year  sulphur_dioxide_mean\n",
       "0 2000-01-01                    22\n",
       "1 2001-01-01                    22\n",
       "2 2002-01-01                    18\n",
       "3 2003-01-01                    15\n",
       "4 2004-01-01                    14"
      ]
     },
     "execution_count": 41,
     "metadata": {},
     "output_type": "execute_result"
    }
   ],
   "source": [
    "# Check out the first five rows of the so2_mean data\n",
    "print(so2_mean.shape) \n",
    "\n",
    "#'year' is currently an int Dtype, itshould be a date-time Dtype.\n",
    "# decided to convert first to avoid errors in merging\n",
    "so2_mean['year'] = pd.to_datetime(so2_mean['year'], format='%Y')\n",
    "print(so2_mean.info())\n",
    "\n",
    "# print head again to check\n",
    "so2_mean.head()"
   ]
  },
  {
   "cell_type": "code",
   "execution_count": 42,
   "metadata": {},
   "outputs": [],
   "source": [
    "#merge df\n",
    "air_qlty = pd.merge(left = ozone_max_mean,\n",
    "                    right = pm_mean,\n",
    "                    how = 'left',\n",
    "                    on = 'year')"
   ]
  },
  {
   "cell_type": "code",
   "execution_count": 43,
   "metadata": {},
   "outputs": [],
   "source": [
    "#merge df\n",
    "air_qlty = pd.merge(left = air_qlty,\n",
    "                    right = lead_mean,\n",
    "                    how = 'left',\n",
    "                    on = 'year')"
   ]
  },
  {
   "cell_type": "code",
   "execution_count": 44,
   "metadata": {},
   "outputs": [],
   "source": [
    "#merge df\n",
    "air_qlty = pd.merge(left = air_qlty,\n",
    "                    right = co_mean,\n",
    "                    how = 'left',\n",
    "                    on = 'year')"
   ]
  },
  {
   "cell_type": "code",
   "execution_count": 45,
   "metadata": {},
   "outputs": [],
   "source": [
    "#merge df\n",
    "air_qlty = pd.merge(left = air_qlty,\n",
    "                    right = no2_mean,\n",
    "                    how = 'left',\n",
    "                    on = 'year')"
   ]
  },
  {
   "cell_type": "code",
   "execution_count": 46,
   "metadata": {},
   "outputs": [],
   "source": [
    "#merge df\n",
    "air_qlty = pd.merge(left = air_qlty,\n",
    "                    right = pm10_mean,\n",
    "                    how = 'left',\n",
    "                    on = 'year')"
   ]
  },
  {
   "cell_type": "code",
   "execution_count": 47,
   "metadata": {},
   "outputs": [],
   "source": [
    "#merge df\n",
    "air_qlty = pd.merge(left = air_qlty,\n",
    "                    right = so2_mean,\n",
    "                    how = 'left',\n",
    "                    on = 'year')"
   ]
  },
  {
   "cell_type": "code",
   "execution_count": 48,
   "metadata": {},
   "outputs": [],
   "source": [
    "#replace year with just the actual datetime format year\n",
    "air_qlty['year'] = air_qlty['year'].dt.year"
   ]
  },
  {
   "cell_type": "code",
   "execution_count": 49,
   "metadata": {},
   "outputs": [],
   "source": [
    "#rename column headers\n",
    "air_qlty.rename(columns={'ozone_maximum_8hour_mean':'ozone_max_mean',\n",
    "                        'co_max_8hour_mean':'co_max_mean',\n",
    "                        'pm10_24hour_mean_99th_per':'pm10_mean',\n",
    "                        'nitrogen_dioxide_mean':'no2_mean',\n",
    "                        'sulphur_dioxide_mean':'so2_mean'},\n",
    "                         inplace=True)"
   ]
  },
  {
   "cell_type": "code",
   "execution_count": 50,
   "metadata": {},
   "outputs": [],
   "source": [
    "air_qlty = air_qlty[['year', 'pm2.5_mean', 'pm10_mean', 'ozone_max_mean', 'lead_mean', 'co_max_mean', 'no2_mean', 'so2_mean']]"
   ]
  },
  {
   "cell_type": "code",
   "execution_count": 51,
   "metadata": {},
   "outputs": [
    {
     "data": {
      "text/html": [
       "<div>\n",
       "<style scoped>\n",
       "    .dataframe tbody tr th:only-of-type {\n",
       "        vertical-align: middle;\n",
       "    }\n",
       "\n",
       "    .dataframe tbody tr th {\n",
       "        vertical-align: top;\n",
       "    }\n",
       "\n",
       "    .dataframe thead th {\n",
       "        text-align: right;\n",
       "    }\n",
       "</style>\n",
       "<table border=\"1\" class=\"dataframe\">\n",
       "  <thead>\n",
       "    <tr style=\"text-align: right;\">\n",
       "      <th></th>\n",
       "      <th>year</th>\n",
       "      <th>pm2.5_mean</th>\n",
       "      <th>pm10_mean</th>\n",
       "      <th>ozone_max_mean</th>\n",
       "      <th>lead_mean</th>\n",
       "      <th>co_max_mean</th>\n",
       "      <th>no2_mean</th>\n",
       "      <th>so2_mean</th>\n",
       "    </tr>\n",
       "  </thead>\n",
       "  <tbody>\n",
       "    <tr>\n",
       "      <th>0</th>\n",
       "      <td>2000</td>\n",
       "      <td>NaN</td>\n",
       "      <td>64</td>\n",
       "      <td>112</td>\n",
       "      <td>NaN</td>\n",
       "      <td>3.7</td>\n",
       "      <td>30</td>\n",
       "      <td>22</td>\n",
       "    </tr>\n",
       "    <tr>\n",
       "      <th>1</th>\n",
       "      <td>2001</td>\n",
       "      <td>NaN</td>\n",
       "      <td>56</td>\n",
       "      <td>133</td>\n",
       "      <td>NaN</td>\n",
       "      <td>4.2</td>\n",
       "      <td>26</td>\n",
       "      <td>22</td>\n",
       "    </tr>\n",
       "    <tr>\n",
       "      <th>2</th>\n",
       "      <td>2002</td>\n",
       "      <td>23.0</td>\n",
       "      <td>72</td>\n",
       "      <td>131</td>\n",
       "      <td>NaN</td>\n",
       "      <td>2.7</td>\n",
       "      <td>27</td>\n",
       "      <td>18</td>\n",
       "    </tr>\n",
       "    <tr>\n",
       "      <th>3</th>\n",
       "      <td>2003</td>\n",
       "      <td>19.0</td>\n",
       "      <td>52</td>\n",
       "      <td>118</td>\n",
       "      <td>NaN</td>\n",
       "      <td>3.2</td>\n",
       "      <td>24</td>\n",
       "      <td>15</td>\n",
       "    </tr>\n",
       "    <tr>\n",
       "      <th>4</th>\n",
       "      <td>2004</td>\n",
       "      <td>21.0</td>\n",
       "      <td>60</td>\n",
       "      <td>146</td>\n",
       "      <td>NaN</td>\n",
       "      <td>2.8</td>\n",
       "      <td>26</td>\n",
       "      <td>14</td>\n",
       "    </tr>\n",
       "    <tr>\n",
       "      <th>5</th>\n",
       "      <td>2005</td>\n",
       "      <td>21.0</td>\n",
       "      <td>61</td>\n",
       "      <td>159</td>\n",
       "      <td>NaN</td>\n",
       "      <td>2.4</td>\n",
       "      <td>25</td>\n",
       "      <td>14</td>\n",
       "    </tr>\n",
       "    <tr>\n",
       "      <th>6</th>\n",
       "      <td>2006</td>\n",
       "      <td>23.0</td>\n",
       "      <td>120</td>\n",
       "      <td>136</td>\n",
       "      <td>&lt;0.1</td>\n",
       "      <td>2.6</td>\n",
       "      <td>24</td>\n",
       "      <td>11</td>\n",
       "    </tr>\n",
       "    <tr>\n",
       "      <th>7</th>\n",
       "      <td>2007</td>\n",
       "      <td>19.0</td>\n",
       "      <td>53</td>\n",
       "      <td>206</td>\n",
       "      <td>&lt;0.1</td>\n",
       "      <td>1.7</td>\n",
       "      <td>22</td>\n",
       "      <td>12</td>\n",
       "    </tr>\n",
       "    <tr>\n",
       "      <th>8</th>\n",
       "      <td>2008</td>\n",
       "      <td>16.0</td>\n",
       "      <td>49</td>\n",
       "      <td>183</td>\n",
       "      <td>&lt;0.1</td>\n",
       "      <td>1.6</td>\n",
       "      <td>22</td>\n",
       "      <td>11</td>\n",
       "    </tr>\n",
       "    <tr>\n",
       "      <th>9</th>\n",
       "      <td>2009</td>\n",
       "      <td>19.0</td>\n",
       "      <td>59</td>\n",
       "      <td>105</td>\n",
       "      <td>&lt;0.1</td>\n",
       "      <td>1.9</td>\n",
       "      <td>22</td>\n",
       "      <td>9</td>\n",
       "    </tr>\n",
       "  </tbody>\n",
       "</table>\n",
       "</div>"
      ],
      "text/plain": [
       "   year  pm2.5_mean  pm10_mean  ozone_max_mean lead_mean  co_max_mean  \\\n",
       "0  2000         NaN         64             112       NaN          3.7   \n",
       "1  2001         NaN         56             133       NaN          4.2   \n",
       "2  2002        23.0         72             131       NaN          2.7   \n",
       "3  2003        19.0         52             118       NaN          3.2   \n",
       "4  2004        21.0         60             146       NaN          2.8   \n",
       "5  2005        21.0         61             159       NaN          2.4   \n",
       "6  2006        23.0        120             136      <0.1          2.6   \n",
       "7  2007        19.0         53             206      <0.1          1.7   \n",
       "8  2008        16.0         49             183      <0.1          1.6   \n",
       "9  2009        19.0         59             105      <0.1          1.9   \n",
       "\n",
       "   no2_mean  so2_mean  \n",
       "0        30        22  \n",
       "1        26        22  \n",
       "2        27        18  \n",
       "3        24        15  \n",
       "4        26        14  \n",
       "5        25        14  \n",
       "6        24        11  \n",
       "7        22        12  \n",
       "8        22        11  \n",
       "9        22         9  "
      ]
     },
     "execution_count": 51,
     "metadata": {},
     "output_type": "execute_result"
    }
   ],
   "source": [
    "air_qlty.head(10)"
   ]
  },
  {
   "cell_type": "code",
   "execution_count": 52,
   "metadata": {},
   "outputs": [
    {
     "name": "stdout",
     "output_type": "stream",
     "text": [
      "[nan '<0.1']\n"
     ]
    },
    {
     "data": {
      "text/html": [
       "<div>\n",
       "<style scoped>\n",
       "    .dataframe tbody tr th:only-of-type {\n",
       "        vertical-align: middle;\n",
       "    }\n",
       "\n",
       "    .dataframe tbody tr th {\n",
       "        vertical-align: top;\n",
       "    }\n",
       "\n",
       "    .dataframe thead th {\n",
       "        text-align: right;\n",
       "    }\n",
       "</style>\n",
       "<table border=\"1\" class=\"dataframe\">\n",
       "  <thead>\n",
       "    <tr style=\"text-align: right;\">\n",
       "      <th></th>\n",
       "      <th>year</th>\n",
       "      <th>pm2.5_mean</th>\n",
       "      <th>pm10_mean</th>\n",
       "      <th>ozone_max_mean</th>\n",
       "      <th>lead_mean</th>\n",
       "      <th>co_max_mean</th>\n",
       "      <th>no2_mean</th>\n",
       "      <th>so2_mean</th>\n",
       "    </tr>\n",
       "  </thead>\n",
       "  <tbody>\n",
       "    <tr>\n",
       "      <th>0</th>\n",
       "      <td>2000</td>\n",
       "      <td>NaN</td>\n",
       "      <td>64</td>\n",
       "      <td>112</td>\n",
       "      <td>NaN</td>\n",
       "      <td>3.7</td>\n",
       "      <td>30</td>\n",
       "      <td>22</td>\n",
       "    </tr>\n",
       "    <tr>\n",
       "      <th>1</th>\n",
       "      <td>2001</td>\n",
       "      <td>NaN</td>\n",
       "      <td>56</td>\n",
       "      <td>133</td>\n",
       "      <td>NaN</td>\n",
       "      <td>4.2</td>\n",
       "      <td>26</td>\n",
       "      <td>22</td>\n",
       "    </tr>\n",
       "    <tr>\n",
       "      <th>2</th>\n",
       "      <td>2002</td>\n",
       "      <td>23.0</td>\n",
       "      <td>72</td>\n",
       "      <td>131</td>\n",
       "      <td>NaN</td>\n",
       "      <td>2.7</td>\n",
       "      <td>27</td>\n",
       "      <td>18</td>\n",
       "    </tr>\n",
       "    <tr>\n",
       "      <th>3</th>\n",
       "      <td>2003</td>\n",
       "      <td>19.0</td>\n",
       "      <td>52</td>\n",
       "      <td>118</td>\n",
       "      <td>NaN</td>\n",
       "      <td>3.2</td>\n",
       "      <td>24</td>\n",
       "      <td>15</td>\n",
       "    </tr>\n",
       "    <tr>\n",
       "      <th>4</th>\n",
       "      <td>2004</td>\n",
       "      <td>21.0</td>\n",
       "      <td>60</td>\n",
       "      <td>146</td>\n",
       "      <td>NaN</td>\n",
       "      <td>2.8</td>\n",
       "      <td>26</td>\n",
       "      <td>14</td>\n",
       "    </tr>\n",
       "    <tr>\n",
       "      <th>5</th>\n",
       "      <td>2005</td>\n",
       "      <td>21.0</td>\n",
       "      <td>61</td>\n",
       "      <td>159</td>\n",
       "      <td>NaN</td>\n",
       "      <td>2.4</td>\n",
       "      <td>25</td>\n",
       "      <td>14</td>\n",
       "    </tr>\n",
       "    <tr>\n",
       "      <th>6</th>\n",
       "      <td>2006</td>\n",
       "      <td>23.0</td>\n",
       "      <td>120</td>\n",
       "      <td>136</td>\n",
       "      <td>0.1</td>\n",
       "      <td>2.6</td>\n",
       "      <td>24</td>\n",
       "      <td>11</td>\n",
       "    </tr>\n",
       "    <tr>\n",
       "      <th>7</th>\n",
       "      <td>2007</td>\n",
       "      <td>19.0</td>\n",
       "      <td>53</td>\n",
       "      <td>206</td>\n",
       "      <td>0.1</td>\n",
       "      <td>1.7</td>\n",
       "      <td>22</td>\n",
       "      <td>12</td>\n",
       "    </tr>\n",
       "    <tr>\n",
       "      <th>8</th>\n",
       "      <td>2008</td>\n",
       "      <td>16.0</td>\n",
       "      <td>49</td>\n",
       "      <td>183</td>\n",
       "      <td>0.1</td>\n",
       "      <td>1.6</td>\n",
       "      <td>22</td>\n",
       "      <td>11</td>\n",
       "    </tr>\n",
       "    <tr>\n",
       "      <th>9</th>\n",
       "      <td>2009</td>\n",
       "      <td>19.0</td>\n",
       "      <td>59</td>\n",
       "      <td>105</td>\n",
       "      <td>0.1</td>\n",
       "      <td>1.9</td>\n",
       "      <td>22</td>\n",
       "      <td>9</td>\n",
       "    </tr>\n",
       "  </tbody>\n",
       "</table>\n",
       "</div>"
      ],
      "text/plain": [
       "   year  pm2.5_mean  pm10_mean  ozone_max_mean lead_mean  co_max_mean  \\\n",
       "0  2000         NaN         64             112       NaN          3.7   \n",
       "1  2001         NaN         56             133       NaN          4.2   \n",
       "2  2002        23.0         72             131       NaN          2.7   \n",
       "3  2003        19.0         52             118       NaN          3.2   \n",
       "4  2004        21.0         60             146       NaN          2.8   \n",
       "5  2005        21.0         61             159       NaN          2.4   \n",
       "6  2006        23.0        120             136       0.1          2.6   \n",
       "7  2007        19.0         53             206       0.1          1.7   \n",
       "8  2008        16.0         49             183       0.1          1.6   \n",
       "9  2009        19.0         59             105       0.1          1.9   \n",
       "\n",
       "   no2_mean  so2_mean  \n",
       "0        30        22  \n",
       "1        26        22  \n",
       "2        27        18  \n",
       "3        24        15  \n",
       "4        26        14  \n",
       "5        25        14  \n",
       "6        24        11  \n",
       "7        22        12  \n",
       "8        22        11  \n",
       "9        22         9  "
      ]
     },
     "execution_count": 52,
     "metadata": {},
     "output_type": "execute_result"
    }
   ],
   "source": [
    "#noticed lead_mean has value '<0.1'\n",
    "print(air_qlty['lead_mean'].unique())\n",
    "\n",
    "#replace this to \"0.1\"\n",
    "air_qlty = air_qlty.replace({'<0.1': '0.1'})\n",
    "\n",
    "air_qlty.head(10)"
   ]
  },
  {
   "cell_type": "code",
   "execution_count": 53,
   "metadata": {},
   "outputs": [
    {
     "data": {
      "text/html": [
       "<div>\n",
       "<style scoped>\n",
       "    .dataframe tbody tr th:only-of-type {\n",
       "        vertical-align: middle;\n",
       "    }\n",
       "\n",
       "    .dataframe tbody tr th {\n",
       "        vertical-align: top;\n",
       "    }\n",
       "\n",
       "    .dataframe thead th {\n",
       "        text-align: right;\n",
       "    }\n",
       "</style>\n",
       "<table border=\"1\" class=\"dataframe\">\n",
       "  <thead>\n",
       "    <tr style=\"text-align: right;\">\n",
       "      <th></th>\n",
       "      <th>year</th>\n",
       "      <th>pm2.5_mean</th>\n",
       "      <th>pm10_mean</th>\n",
       "      <th>ozone_max_mean</th>\n",
       "      <th>lead_mean</th>\n",
       "      <th>co_max_mean</th>\n",
       "      <th>no2_mean</th>\n",
       "      <th>so2_mean</th>\n",
       "    </tr>\n",
       "  </thead>\n",
       "  <tbody>\n",
       "    <tr>\n",
       "      <th>0</th>\n",
       "      <td>2000</td>\n",
       "      <td>NaN</td>\n",
       "      <td>64.0</td>\n",
       "      <td>112.0</td>\n",
       "      <td>NaN</td>\n",
       "      <td>3.7</td>\n",
       "      <td>30.0</td>\n",
       "      <td>22.0</td>\n",
       "    </tr>\n",
       "    <tr>\n",
       "      <th>1</th>\n",
       "      <td>2001</td>\n",
       "      <td>NaN</td>\n",
       "      <td>56.0</td>\n",
       "      <td>133.0</td>\n",
       "      <td>NaN</td>\n",
       "      <td>4.2</td>\n",
       "      <td>26.0</td>\n",
       "      <td>22.0</td>\n",
       "    </tr>\n",
       "    <tr>\n",
       "      <th>2</th>\n",
       "      <td>2002</td>\n",
       "      <td>23.0</td>\n",
       "      <td>72.0</td>\n",
       "      <td>131.0</td>\n",
       "      <td>NaN</td>\n",
       "      <td>2.7</td>\n",
       "      <td>27.0</td>\n",
       "      <td>18.0</td>\n",
       "    </tr>\n",
       "    <tr>\n",
       "      <th>3</th>\n",
       "      <td>2003</td>\n",
       "      <td>19.0</td>\n",
       "      <td>52.0</td>\n",
       "      <td>118.0</td>\n",
       "      <td>NaN</td>\n",
       "      <td>3.2</td>\n",
       "      <td>24.0</td>\n",
       "      <td>15.0</td>\n",
       "    </tr>\n",
       "    <tr>\n",
       "      <th>4</th>\n",
       "      <td>2004</td>\n",
       "      <td>21.0</td>\n",
       "      <td>60.0</td>\n",
       "      <td>146.0</td>\n",
       "      <td>NaN</td>\n",
       "      <td>2.8</td>\n",
       "      <td>26.0</td>\n",
       "      <td>14.0</td>\n",
       "    </tr>\n",
       "  </tbody>\n",
       "</table>\n",
       "</div>"
      ],
      "text/plain": [
       "   year  pm2.5_mean  pm10_mean  ozone_max_mean  lead_mean  co_max_mean  \\\n",
       "0  2000         NaN       64.0           112.0        NaN          3.7   \n",
       "1  2001         NaN       56.0           133.0        NaN          4.2   \n",
       "2  2002        23.0       72.0           131.0        NaN          2.7   \n",
       "3  2003        19.0       52.0           118.0        NaN          3.2   \n",
       "4  2004        21.0       60.0           146.0        NaN          2.8   \n",
       "\n",
       "   no2_mean  so2_mean  \n",
       "0      30.0      22.0  \n",
       "1      26.0      22.0  \n",
       "2      27.0      18.0  \n",
       "3      24.0      15.0  \n",
       "4      26.0      14.0  "
      ]
     },
     "execution_count": 53,
     "metadata": {},
     "output_type": "execute_result"
    }
   ],
   "source": [
    "#standardize all values to float dtype\n",
    "air_qlty = air_qlty.astype({'pm10_mean':float, \n",
    "                'ozone_max_mean':float, \n",
    "                'lead_mean':float,\n",
    "                'no2_mean':float,\n",
    "                'so2_mean':float})\n",
    "\n",
    "air_qlty.head()"
   ]
  },
  {
   "cell_type": "code",
   "execution_count": 54,
   "metadata": {},
   "outputs": [],
   "source": [
    "#export air_qlty df to csv file\n",
    "import os # to work with files/directories\n",
    "if not os.path.exists('..\\data\\output'): \n",
    "    os.makedirs('..\\data\\output') \n",
    "    air_qlty.to_csv('..\\data\\output\\air_qlty.csv')"
   ]
  },
  {
   "cell_type": "code",
   "execution_count": 55,
   "metadata": {},
   "outputs": [
    {
     "name": "stdout",
     "output_type": "stream",
     "text": [
      "(67968, 6)\n"
     ]
    },
    {
     "data": {
      "text/html": [
       "<div>\n",
       "<style scoped>\n",
       "    .dataframe tbody tr th:only-of-type {\n",
       "        vertical-align: middle;\n",
       "    }\n",
       "\n",
       "    .dataframe tbody tr th {\n",
       "        vertical-align: top;\n",
       "    }\n",
       "\n",
       "    .dataframe thead th {\n",
       "        text-align: right;\n",
       "    }\n",
       "</style>\n",
       "<table border=\"1\" class=\"dataframe\">\n",
       "  <thead>\n",
       "    <tr style=\"text-align: right;\">\n",
       "      <th></th>\n",
       "      <th>24-hr_psi</th>\n",
       "      <th>north</th>\n",
       "      <th>south</th>\n",
       "      <th>east</th>\n",
       "      <th>west</th>\n",
       "      <th>central</th>\n",
       "    </tr>\n",
       "  </thead>\n",
       "  <tbody>\n",
       "    <tr>\n",
       "      <th>0</th>\n",
       "      <td>1/4/2014 1:00</td>\n",
       "      <td>55</td>\n",
       "      <td>54</td>\n",
       "      <td>54</td>\n",
       "      <td>58</td>\n",
       "      <td>54</td>\n",
       "    </tr>\n",
       "    <tr>\n",
       "      <th>1</th>\n",
       "      <td>1/4/2014 2:00</td>\n",
       "      <td>55</td>\n",
       "      <td>54</td>\n",
       "      <td>54</td>\n",
       "      <td>59</td>\n",
       "      <td>54</td>\n",
       "    </tr>\n",
       "    <tr>\n",
       "      <th>2</th>\n",
       "      <td>1/4/2014 3:00</td>\n",
       "      <td>55</td>\n",
       "      <td>55</td>\n",
       "      <td>54</td>\n",
       "      <td>60</td>\n",
       "      <td>55</td>\n",
       "    </tr>\n",
       "    <tr>\n",
       "      <th>3</th>\n",
       "      <td>1/4/2014 4:00</td>\n",
       "      <td>56</td>\n",
       "      <td>55</td>\n",
       "      <td>55</td>\n",
       "      <td>62</td>\n",
       "      <td>55</td>\n",
       "    </tr>\n",
       "    <tr>\n",
       "      <th>4</th>\n",
       "      <td>1/4/2014 5:00</td>\n",
       "      <td>57</td>\n",
       "      <td>55</td>\n",
       "      <td>56</td>\n",
       "      <td>63</td>\n",
       "      <td>56</td>\n",
       "    </tr>\n",
       "  </tbody>\n",
       "</table>\n",
       "</div>"
      ],
      "text/plain": [
       "       24-hr_psi  north  south  east  west  central\n",
       "0  1/4/2014 1:00     55     54    54    58       54\n",
       "1  1/4/2014 2:00     55     54    54    59       54\n",
       "2  1/4/2014 3:00     55     55    54    60       55\n",
       "3  1/4/2014 4:00     56     55    55    62       55\n",
       "4  1/4/2014 5:00     57     55    56    63       56"
      ]
     },
     "execution_count": 55,
     "metadata": {},
     "output_type": "execute_result"
    }
   ],
   "source": [
    "# Check out the first five rows of the psi data\n",
    "print(psi.shape)\n",
    "psi.head()"
   ]
  },
  {
   "cell_type": "code",
   "execution_count": 56,
   "metadata": {},
   "outputs": [
    {
     "name": "stdout",
     "output_type": "stream",
     "text": [
      "<class 'pandas.core.frame.DataFrame'>\n",
      "RangeIndex: 67968 entries, 0 to 67967\n",
      "Data columns (total 6 columns):\n",
      " #   Column     Non-Null Count  Dtype         \n",
      "---  ------     --------------  -----         \n",
      " 0   24-hr_psi  67967 non-null  datetime64[ns]\n",
      " 1   north      67968 non-null  int64         \n",
      " 2   south      67968 non-null  int64         \n",
      " 3   east       67968 non-null  int64         \n",
      " 4   west       67968 non-null  int64         \n",
      " 5   central    67968 non-null  int64         \n",
      "dtypes: datetime64[ns](1), int64(5)\n",
      "memory usage: 3.1 MB\n",
      "None\n"
     ]
    },
    {
     "data": {
      "text/html": [
       "<div>\n",
       "<style scoped>\n",
       "    .dataframe tbody tr th:only-of-type {\n",
       "        vertical-align: middle;\n",
       "    }\n",
       "\n",
       "    .dataframe tbody tr th {\n",
       "        vertical-align: top;\n",
       "    }\n",
       "\n",
       "    .dataframe thead th {\n",
       "        text-align: right;\n",
       "    }\n",
       "</style>\n",
       "<table border=\"1\" class=\"dataframe\">\n",
       "  <thead>\n",
       "    <tr style=\"text-align: right;\">\n",
       "      <th></th>\n",
       "      <th>24-hr_psi</th>\n",
       "      <th>north</th>\n",
       "      <th>south</th>\n",
       "      <th>east</th>\n",
       "      <th>west</th>\n",
       "      <th>central</th>\n",
       "    </tr>\n",
       "  </thead>\n",
       "  <tbody>\n",
       "    <tr>\n",
       "      <th>0</th>\n",
       "      <td>2014-04-01 01:00:00</td>\n",
       "      <td>55</td>\n",
       "      <td>54</td>\n",
       "      <td>54</td>\n",
       "      <td>58</td>\n",
       "      <td>54</td>\n",
       "    </tr>\n",
       "    <tr>\n",
       "      <th>1</th>\n",
       "      <td>2014-04-01 02:00:00</td>\n",
       "      <td>55</td>\n",
       "      <td>54</td>\n",
       "      <td>54</td>\n",
       "      <td>59</td>\n",
       "      <td>54</td>\n",
       "    </tr>\n",
       "    <tr>\n",
       "      <th>2</th>\n",
       "      <td>2014-04-01 03:00:00</td>\n",
       "      <td>55</td>\n",
       "      <td>55</td>\n",
       "      <td>54</td>\n",
       "      <td>60</td>\n",
       "      <td>55</td>\n",
       "    </tr>\n",
       "    <tr>\n",
       "      <th>3</th>\n",
       "      <td>2014-04-01 04:00:00</td>\n",
       "      <td>56</td>\n",
       "      <td>55</td>\n",
       "      <td>55</td>\n",
       "      <td>62</td>\n",
       "      <td>55</td>\n",
       "    </tr>\n",
       "    <tr>\n",
       "      <th>4</th>\n",
       "      <td>2014-04-01 05:00:00</td>\n",
       "      <td>57</td>\n",
       "      <td>55</td>\n",
       "      <td>56</td>\n",
       "      <td>63</td>\n",
       "      <td>56</td>\n",
       "    </tr>\n",
       "  </tbody>\n",
       "</table>\n",
       "</div>"
      ],
      "text/plain": [
       "            24-hr_psi  north  south  east  west  central\n",
       "0 2014-04-01 01:00:00     55     54    54    58       54\n",
       "1 2014-04-01 02:00:00     55     54    54    59       54\n",
       "2 2014-04-01 03:00:00     55     55    54    60       55\n",
       "3 2014-04-01 04:00:00     56     55    55    62       55\n",
       "4 2014-04-01 05:00:00     57     55    56    63       56"
      ]
     },
     "execution_count": 56,
     "metadata": {},
     "output_type": "execute_result"
    }
   ],
   "source": [
    "# convert '24-hr_psi' to date-time Dtype\n",
    "psi['24-hr_psi'] = pd.to_datetime(psi['24-hr_psi'], format=\"%d/%m/%Y %H:%M\", errors='coerce')\n",
    "print(psi.info())\n",
    "\n",
    "# print head again to check\n",
    "psi.head()"
   ]
  },
  {
   "cell_type": "code",
   "execution_count": 57,
   "metadata": {},
   "outputs": [
    {
     "data": {
      "text/html": [
       "<div>\n",
       "<style scoped>\n",
       "    .dataframe tbody tr th:only-of-type {\n",
       "        vertical-align: middle;\n",
       "    }\n",
       "\n",
       "    .dataframe tbody tr th {\n",
       "        vertical-align: top;\n",
       "    }\n",
       "\n",
       "    .dataframe thead th {\n",
       "        text-align: right;\n",
       "    }\n",
       "</style>\n",
       "<table border=\"1\" class=\"dataframe\">\n",
       "  <thead>\n",
       "    <tr style=\"text-align: right;\">\n",
       "      <th></th>\n",
       "      <th>24-hr_psi</th>\n",
       "      <th>north</th>\n",
       "      <th>south</th>\n",
       "      <th>east</th>\n",
       "      <th>west</th>\n",
       "      <th>central</th>\n",
       "    </tr>\n",
       "  </thead>\n",
       "  <tbody>\n",
       "    <tr>\n",
       "      <th>17615</th>\n",
       "      <td>NaT</td>\n",
       "      <td>55</td>\n",
       "      <td>53</td>\n",
       "      <td>52</td>\n",
       "      <td>55</td>\n",
       "      <td>53</td>\n",
       "    </tr>\n",
       "  </tbody>\n",
       "</table>\n",
       "</div>"
      ],
      "text/plain": [
       "      24-hr_psi  north  south  east  west  central\n",
       "17615       NaT     55     53    52    55       53"
      ]
     },
     "execution_count": 57,
     "metadata": {},
     "output_type": "execute_result"
    }
   ],
   "source": [
    "#find the row with null value\n",
    "psi.loc[psi['24-hr_psi'].isna()]"
   ]
  },
  {
   "cell_type": "code",
   "execution_count": 58,
   "metadata": {},
   "outputs": [
    {
     "name": "stderr",
     "output_type": "stream",
     "text": [
      "C:\\Users\\glori\\AppData\\Local\\Temp\\ipykernel_29724\\1072104075.py:2: SettingWithCopyWarning: \n",
      "A value is trying to be set on a copy of a slice from a DataFrame\n",
      "\n",
      "See the caveats in the documentation: https://pandas.pydata.org/pandas-docs/stable/user_guide/indexing.html#returning-a-view-versus-a-copy\n",
      "  psi['24-hr_psi'][17615] = \"4/4/2016 0:00\"\n"
     ]
    },
    {
     "data": {
      "text/plain": [
       "24-hr_psi    2016-04-04 00:00:00\n",
       "north                         55\n",
       "south                         53\n",
       "east                          52\n",
       "west                          55\n",
       "central                       53\n",
       "Name: 17615, dtype: object"
      ]
     },
     "execution_count": 58,
     "metadata": {},
     "output_type": "execute_result"
    }
   ],
   "source": [
    "#Add in missing 24-hr_psi value which became NaT due to wrong formatting\n",
    "psi['24-hr_psi'][17615] = \"4/4/2016 0:00\"\n",
    "psi['24-hr_psi'] = pd.to_datetime(psi['24-hr_psi'], format=\"%d/%m/%Y %H:%M\", errors='coerce')\n",
    "psi.iloc[17615]"
   ]
  },
  {
   "cell_type": "code",
   "execution_count": 59,
   "metadata": {},
   "outputs": [
    {
     "name": "stdout",
     "output_type": "stream",
     "text": [
      "<class 'pandas.core.frame.DataFrame'>\n",
      "RangeIndex: 67968 entries, 0 to 67967\n",
      "Data columns (total 10 columns):\n",
      " #   Column     Non-Null Count  Dtype         \n",
      "---  ------     --------------  -----         \n",
      " 0   24-hr_psi  67968 non-null  datetime64[ns]\n",
      " 1   north      67968 non-null  int64         \n",
      " 2   south      67968 non-null  int64         \n",
      " 3   east       67968 non-null  int64         \n",
      " 4   west       67968 non-null  int64         \n",
      " 5   central    67968 non-null  int64         \n",
      " 6   year       67968 non-null  int64         \n",
      " 7   month      67968 non-null  int64         \n",
      " 8   date       67968 non-null  object        \n",
      " 9   time       67968 non-null  object        \n",
      "dtypes: datetime64[ns](1), int64(7), object(2)\n",
      "memory usage: 5.2+ MB\n",
      "None\n"
     ]
    },
    {
     "data": {
      "text/html": [
       "<div>\n",
       "<style scoped>\n",
       "    .dataframe tbody tr th:only-of-type {\n",
       "        vertical-align: middle;\n",
       "    }\n",
       "\n",
       "    .dataframe tbody tr th {\n",
       "        vertical-align: top;\n",
       "    }\n",
       "\n",
       "    .dataframe thead th {\n",
       "        text-align: right;\n",
       "    }\n",
       "</style>\n",
       "<table border=\"1\" class=\"dataframe\">\n",
       "  <thead>\n",
       "    <tr style=\"text-align: right;\">\n",
       "      <th></th>\n",
       "      <th>24-hr_psi</th>\n",
       "      <th>north</th>\n",
       "      <th>south</th>\n",
       "      <th>east</th>\n",
       "      <th>west</th>\n",
       "      <th>central</th>\n",
       "      <th>year</th>\n",
       "      <th>month</th>\n",
       "      <th>date</th>\n",
       "      <th>time</th>\n",
       "    </tr>\n",
       "  </thead>\n",
       "  <tbody>\n",
       "    <tr>\n",
       "      <th>0</th>\n",
       "      <td>2014-04-01 01:00:00</td>\n",
       "      <td>55</td>\n",
       "      <td>54</td>\n",
       "      <td>54</td>\n",
       "      <td>58</td>\n",
       "      <td>54</td>\n",
       "      <td>2014</td>\n",
       "      <td>4</td>\n",
       "      <td>2014-04-01</td>\n",
       "      <td>01:00:00</td>\n",
       "    </tr>\n",
       "    <tr>\n",
       "      <th>1</th>\n",
       "      <td>2014-04-01 02:00:00</td>\n",
       "      <td>55</td>\n",
       "      <td>54</td>\n",
       "      <td>54</td>\n",
       "      <td>59</td>\n",
       "      <td>54</td>\n",
       "      <td>2014</td>\n",
       "      <td>4</td>\n",
       "      <td>2014-04-01</td>\n",
       "      <td>02:00:00</td>\n",
       "    </tr>\n",
       "    <tr>\n",
       "      <th>2</th>\n",
       "      <td>2014-04-01 03:00:00</td>\n",
       "      <td>55</td>\n",
       "      <td>55</td>\n",
       "      <td>54</td>\n",
       "      <td>60</td>\n",
       "      <td>55</td>\n",
       "      <td>2014</td>\n",
       "      <td>4</td>\n",
       "      <td>2014-04-01</td>\n",
       "      <td>03:00:00</td>\n",
       "    </tr>\n",
       "    <tr>\n",
       "      <th>3</th>\n",
       "      <td>2014-04-01 04:00:00</td>\n",
       "      <td>56</td>\n",
       "      <td>55</td>\n",
       "      <td>55</td>\n",
       "      <td>62</td>\n",
       "      <td>55</td>\n",
       "      <td>2014</td>\n",
       "      <td>4</td>\n",
       "      <td>2014-04-01</td>\n",
       "      <td>04:00:00</td>\n",
       "    </tr>\n",
       "    <tr>\n",
       "      <th>4</th>\n",
       "      <td>2014-04-01 05:00:00</td>\n",
       "      <td>57</td>\n",
       "      <td>55</td>\n",
       "      <td>56</td>\n",
       "      <td>63</td>\n",
       "      <td>56</td>\n",
       "      <td>2014</td>\n",
       "      <td>4</td>\n",
       "      <td>2014-04-01</td>\n",
       "      <td>05:00:00</td>\n",
       "    </tr>\n",
       "  </tbody>\n",
       "</table>\n",
       "</div>"
      ],
      "text/plain": [
       "            24-hr_psi  north  south  east  west  central  year  month  \\\n",
       "0 2014-04-01 01:00:00     55     54    54    58       54  2014      4   \n",
       "1 2014-04-01 02:00:00     55     54    54    59       54  2014      4   \n",
       "2 2014-04-01 03:00:00     55     55    54    60       55  2014      4   \n",
       "3 2014-04-01 04:00:00     56     55    55    62       55  2014      4   \n",
       "4 2014-04-01 05:00:00     57     55    56    63       56  2014      4   \n",
       "\n",
       "         date      time  \n",
       "0  2014-04-01  01:00:00  \n",
       "1  2014-04-01  02:00:00  \n",
       "2  2014-04-01  03:00:00  \n",
       "3  2014-04-01  04:00:00  \n",
       "4  2014-04-01  05:00:00  "
      ]
     },
     "execution_count": 59,
     "metadata": {},
     "output_type": "execute_result"
    }
   ],
   "source": [
    "#split 24-hr_psi column to separate date month year columns\n",
    "psi['year'] = psi['24-hr_psi'].dt.year\n",
    "psi['month'] = psi['24-hr_psi'].dt.month\n",
    "psi['date'] = psi['24-hr_psi'].dt.date\n",
    "psi['time'] = psi['24-hr_psi'].dt.time\n",
    "\n",
    "print(psi.info())\n",
    "psi.head()"
   ]
  },
  {
   "cell_type": "code",
   "execution_count": 60,
   "metadata": {},
   "outputs": [
    {
     "data": {
      "text/plain": [
       "Index(['24-hr_psi', 'north', 'south', 'east', 'west', 'central', 'year',\n",
       "       'month', 'date', 'time'],\n",
       "      dtype='object')"
      ]
     },
     "execution_count": 60,
     "metadata": {},
     "output_type": "execute_result"
    }
   ],
   "source": [
    "psi.columns"
   ]
  },
  {
   "cell_type": "code",
   "execution_count": 61,
   "metadata": {},
   "outputs": [
    {
     "data": {
      "text/html": [
       "<div>\n",
       "<style scoped>\n",
       "    .dataframe tbody tr th:only-of-type {\n",
       "        vertical-align: middle;\n",
       "    }\n",
       "\n",
       "    .dataframe tbody tr th {\n",
       "        vertical-align: top;\n",
       "    }\n",
       "\n",
       "    .dataframe thead th {\n",
       "        text-align: right;\n",
       "    }\n",
       "</style>\n",
       "<table border=\"1\" class=\"dataframe\">\n",
       "  <thead>\n",
       "    <tr style=\"text-align: right;\">\n",
       "      <th></th>\n",
       "      <th>year</th>\n",
       "      <th>month</th>\n",
       "      <th>date</th>\n",
       "      <th>time</th>\n",
       "      <th>north</th>\n",
       "      <th>south</th>\n",
       "      <th>east</th>\n",
       "      <th>west</th>\n",
       "      <th>central</th>\n",
       "    </tr>\n",
       "  </thead>\n",
       "  <tbody>\n",
       "    <tr>\n",
       "      <th>0</th>\n",
       "      <td>2014</td>\n",
       "      <td>4</td>\n",
       "      <td>2014-04-01</td>\n",
       "      <td>01:00:00</td>\n",
       "      <td>55</td>\n",
       "      <td>54</td>\n",
       "      <td>54</td>\n",
       "      <td>58</td>\n",
       "      <td>54</td>\n",
       "    </tr>\n",
       "    <tr>\n",
       "      <th>1</th>\n",
       "      <td>2014</td>\n",
       "      <td>4</td>\n",
       "      <td>2014-04-01</td>\n",
       "      <td>02:00:00</td>\n",
       "      <td>55</td>\n",
       "      <td>54</td>\n",
       "      <td>54</td>\n",
       "      <td>59</td>\n",
       "      <td>54</td>\n",
       "    </tr>\n",
       "    <tr>\n",
       "      <th>2</th>\n",
       "      <td>2014</td>\n",
       "      <td>4</td>\n",
       "      <td>2014-04-01</td>\n",
       "      <td>03:00:00</td>\n",
       "      <td>55</td>\n",
       "      <td>55</td>\n",
       "      <td>54</td>\n",
       "      <td>60</td>\n",
       "      <td>55</td>\n",
       "    </tr>\n",
       "    <tr>\n",
       "      <th>3</th>\n",
       "      <td>2014</td>\n",
       "      <td>4</td>\n",
       "      <td>2014-04-01</td>\n",
       "      <td>04:00:00</td>\n",
       "      <td>56</td>\n",
       "      <td>55</td>\n",
       "      <td>55</td>\n",
       "      <td>62</td>\n",
       "      <td>55</td>\n",
       "    </tr>\n",
       "    <tr>\n",
       "      <th>4</th>\n",
       "      <td>2014</td>\n",
       "      <td>4</td>\n",
       "      <td>2014-04-01</td>\n",
       "      <td>05:00:00</td>\n",
       "      <td>57</td>\n",
       "      <td>55</td>\n",
       "      <td>56</td>\n",
       "      <td>63</td>\n",
       "      <td>56</td>\n",
       "    </tr>\n",
       "  </tbody>\n",
       "</table>\n",
       "</div>"
      ],
      "text/plain": [
       "   year  month        date      time  north  south  east  west  central\n",
       "0  2014      4  2014-04-01  01:00:00     55     54    54    58       54\n",
       "1  2014      4  2014-04-01  02:00:00     55     54    54    59       54\n",
       "2  2014      4  2014-04-01  03:00:00     55     55    54    60       55\n",
       "3  2014      4  2014-04-01  04:00:00     56     55    55    62       55\n",
       "4  2014      4  2014-04-01  05:00:00     57     55    56    63       56"
      ]
     },
     "execution_count": 61,
     "metadata": {},
     "output_type": "execute_result"
    }
   ],
   "source": [
    "#reorder the columns\n",
    "psi = psi[['year', 'month', 'date', 'time', 'north', 'south', 'east', 'west', 'central']]\n",
    "psi.head()"
   ]
  },
  {
   "cell_type": "code",
   "execution_count": 62,
   "metadata": {},
   "outputs": [
    {
     "data": {
      "text/html": [
       "<div>\n",
       "<style scoped>\n",
       "    .dataframe tbody tr th:only-of-type {\n",
       "        vertical-align: middle;\n",
       "    }\n",
       "\n",
       "    .dataframe tbody tr th {\n",
       "        vertical-align: top;\n",
       "    }\n",
       "\n",
       "    .dataframe thead th {\n",
       "        text-align: right;\n",
       "    }\n",
       "</style>\n",
       "<table border=\"1\" class=\"dataframe\">\n",
       "  <thead>\n",
       "    <tr style=\"text-align: right;\">\n",
       "      <th></th>\n",
       "      <th>year</th>\n",
       "      <th>month</th>\n",
       "      <th>date</th>\n",
       "      <th>time</th>\n",
       "      <th>north</th>\n",
       "      <th>south</th>\n",
       "      <th>east</th>\n",
       "      <th>west</th>\n",
       "      <th>central</th>\n",
       "    </tr>\n",
       "  </thead>\n",
       "  <tbody>\n",
       "    <tr>\n",
       "      <th>59202</th>\n",
       "      <td>2020</td>\n",
       "      <td>12</td>\n",
       "      <td>2020-12-31</td>\n",
       "      <td>19:00:00</td>\n",
       "      <td>52</td>\n",
       "      <td>55</td>\n",
       "      <td>55</td>\n",
       "      <td>33</td>\n",
       "      <td>48</td>\n",
       "    </tr>\n",
       "    <tr>\n",
       "      <th>59203</th>\n",
       "      <td>2020</td>\n",
       "      <td>12</td>\n",
       "      <td>2020-12-31</td>\n",
       "      <td>20:00:00</td>\n",
       "      <td>52</td>\n",
       "      <td>55</td>\n",
       "      <td>55</td>\n",
       "      <td>31</td>\n",
       "      <td>47</td>\n",
       "    </tr>\n",
       "    <tr>\n",
       "      <th>59204</th>\n",
       "      <td>2020</td>\n",
       "      <td>12</td>\n",
       "      <td>2020-12-31</td>\n",
       "      <td>21:00:00</td>\n",
       "      <td>52</td>\n",
       "      <td>55</td>\n",
       "      <td>55</td>\n",
       "      <td>30</td>\n",
       "      <td>48</td>\n",
       "    </tr>\n",
       "    <tr>\n",
       "      <th>59205</th>\n",
       "      <td>2020</td>\n",
       "      <td>12</td>\n",
       "      <td>2020-12-31</td>\n",
       "      <td>22:00:00</td>\n",
       "      <td>52</td>\n",
       "      <td>55</td>\n",
       "      <td>55</td>\n",
       "      <td>31</td>\n",
       "      <td>49</td>\n",
       "    </tr>\n",
       "    <tr>\n",
       "      <th>59206</th>\n",
       "      <td>2020</td>\n",
       "      <td>12</td>\n",
       "      <td>2020-12-31</td>\n",
       "      <td>23:00:00</td>\n",
       "      <td>52</td>\n",
       "      <td>55</td>\n",
       "      <td>55</td>\n",
       "      <td>34</td>\n",
       "      <td>49</td>\n",
       "    </tr>\n",
       "  </tbody>\n",
       "</table>\n",
       "</div>"
      ],
      "text/plain": [
       "       year  month        date      time  north  south  east  west  central\n",
       "59202  2020     12  2020-12-31  19:00:00     52     55    55    33       48\n",
       "59203  2020     12  2020-12-31  20:00:00     52     55    55    31       47\n",
       "59204  2020     12  2020-12-31  21:00:00     52     55    55    30       48\n",
       "59205  2020     12  2020-12-31  22:00:00     52     55    55    31       49\n",
       "59206  2020     12  2020-12-31  23:00:00     52     55    55    34       49"
      ]
     },
     "execution_count": 62,
     "metadata": {},
     "output_type": "execute_result"
    }
   ],
   "source": [
    "#omit rows after year 2020\n",
    "#dropping these rows cos none of my other data are analysed past 2020\n",
    "psi = psi.loc[psi['year']<=2020, :]\n",
    "psi.tail()"
   ]
  },
  {
   "cell_type": "markdown",
   "metadata": {},
   "source": [
    "### Health Data Import"
   ]
  },
  {
   "cell_type": "code",
   "execution_count": 63,
   "metadata": {},
   "outputs": [],
   "source": [
    "# Bring in healthcare data\n",
    "cancer_mort = pd.read_csv(r'..\\data\\age-standardised-mortality-rate-for-cancer.csv')\n",
    "stroke_mort = pd.read_csv(r'..\\data\\age-standardised-mortality-rate-for-stroke.csv')\n",
    "heartdis_mort = pd.read_csv(r'..\\data\\age-standardised-mortality-rate-for-ischaemic-heart-disease.csv')\n",
    "hosp_adm = pd.read_csv(r'..\\data\\HospitalAdmissionRatebyAgeandSex.csv')\n",
    "polyclinic_att = pd.read_csv(r'..\\data\\average-daily-polyclinic-attendances-for-selected-diseases.csv')"
   ]
  },
  {
   "cell_type": "code",
   "execution_count": 64,
   "metadata": {},
   "outputs": [
    {
     "name": "stdout",
     "output_type": "stream",
     "text": [
      "(30, 2)\n",
      "<class 'pandas.core.frame.DataFrame'>\n",
      "RangeIndex: 30 entries, 0 to 29\n",
      "Data columns (total 2 columns):\n",
      " #   Column  Non-Null Count  Dtype         \n",
      "---  ------  --------------  -----         \n",
      " 0   year    30 non-null     datetime64[ns]\n",
      " 1   cancer  30 non-null     float64       \n",
      "dtypes: datetime64[ns](1), float64(1)\n",
      "memory usage: 608.0 bytes\n",
      "None\n"
     ]
    },
    {
     "data": {
      "text/html": [
       "<div>\n",
       "<style scoped>\n",
       "    .dataframe tbody tr th:only-of-type {\n",
       "        vertical-align: middle;\n",
       "    }\n",
       "\n",
       "    .dataframe tbody tr th {\n",
       "        vertical-align: top;\n",
       "    }\n",
       "\n",
       "    .dataframe thead th {\n",
       "        text-align: right;\n",
       "    }\n",
       "</style>\n",
       "<table border=\"1\" class=\"dataframe\">\n",
       "  <thead>\n",
       "    <tr style=\"text-align: right;\">\n",
       "      <th></th>\n",
       "      <th>year</th>\n",
       "      <th>cancer</th>\n",
       "    </tr>\n",
       "  </thead>\n",
       "  <tbody>\n",
       "    <tr>\n",
       "      <th>0</th>\n",
       "      <td>1990-01-01</td>\n",
       "      <td>244.5</td>\n",
       "    </tr>\n",
       "    <tr>\n",
       "      <th>1</th>\n",
       "      <td>1991-01-01</td>\n",
       "      <td>241.0</td>\n",
       "    </tr>\n",
       "    <tr>\n",
       "      <th>2</th>\n",
       "      <td>1992-01-01</td>\n",
       "      <td>240.8</td>\n",
       "    </tr>\n",
       "    <tr>\n",
       "      <th>3</th>\n",
       "      <td>1993-01-01</td>\n",
       "      <td>231.8</td>\n",
       "    </tr>\n",
       "    <tr>\n",
       "      <th>4</th>\n",
       "      <td>1994-01-01</td>\n",
       "      <td>240.7</td>\n",
       "    </tr>\n",
       "  </tbody>\n",
       "</table>\n",
       "</div>"
      ],
      "text/plain": [
       "        year  cancer\n",
       "0 1990-01-01   244.5\n",
       "1 1991-01-01   241.0\n",
       "2 1992-01-01   240.8\n",
       "3 1993-01-01   231.8\n",
       "4 1994-01-01   240.7"
      ]
     },
     "execution_count": 64,
     "metadata": {},
     "output_type": "execute_result"
    }
   ],
   "source": [
    "# Check out the first five rows of the cancer_mort data\n",
    "print(cancer_mort.shape) \n",
    "\n",
    "#'year' is currently an int Dtype, itshould be a date-time Dtype.\n",
    "# decided to convert first to avoid errors in merging\n",
    "cancer_mort['year'] = pd.to_datetime(cancer_mort['year'], format='%Y')\n",
    "print(cancer_mort.info())\n",
    "\n",
    "# print head again to check\n",
    "\n",
    "cancer_mort.head()"
   ]
  },
  {
   "cell_type": "code",
   "execution_count": 65,
   "metadata": {},
   "outputs": [
    {
     "name": "stdout",
     "output_type": "stream",
     "text": [
      "(30, 2)\n",
      "<class 'pandas.core.frame.DataFrame'>\n",
      "RangeIndex: 30 entries, 0 to 29\n",
      "Data columns (total 2 columns):\n",
      " #   Column  Non-Null Count  Dtype         \n",
      "---  ------  --------------  -----         \n",
      " 0   year    30 non-null     datetime64[ns]\n",
      " 1   stroke  30 non-null     float64       \n",
      "dtypes: datetime64[ns](1), float64(1)\n",
      "memory usage: 608.0 bytes\n",
      "None\n"
     ]
    },
    {
     "data": {
      "text/html": [
       "<div>\n",
       "<style scoped>\n",
       "    .dataframe tbody tr th:only-of-type {\n",
       "        vertical-align: middle;\n",
       "    }\n",
       "\n",
       "    .dataframe tbody tr th {\n",
       "        vertical-align: top;\n",
       "    }\n",
       "\n",
       "    .dataframe thead th {\n",
       "        text-align: right;\n",
       "    }\n",
       "</style>\n",
       "<table border=\"1\" class=\"dataframe\">\n",
       "  <thead>\n",
       "    <tr style=\"text-align: right;\">\n",
       "      <th></th>\n",
       "      <th>year</th>\n",
       "      <th>stroke</th>\n",
       "    </tr>\n",
       "  </thead>\n",
       "  <tbody>\n",
       "    <tr>\n",
       "      <th>0</th>\n",
       "      <td>1990-01-01</td>\n",
       "      <td>95.8</td>\n",
       "    </tr>\n",
       "    <tr>\n",
       "      <th>1</th>\n",
       "      <td>1991-01-01</td>\n",
       "      <td>95.5</td>\n",
       "    </tr>\n",
       "    <tr>\n",
       "      <th>2</th>\n",
       "      <td>1992-01-01</td>\n",
       "      <td>83.7</td>\n",
       "    </tr>\n",
       "    <tr>\n",
       "      <th>3</th>\n",
       "      <td>1993-01-01</td>\n",
       "      <td>83.1</td>\n",
       "    </tr>\n",
       "    <tr>\n",
       "      <th>4</th>\n",
       "      <td>1994-01-01</td>\n",
       "      <td>81.2</td>\n",
       "    </tr>\n",
       "  </tbody>\n",
       "</table>\n",
       "</div>"
      ],
      "text/plain": [
       "        year  stroke\n",
       "0 1990-01-01    95.8\n",
       "1 1991-01-01    95.5\n",
       "2 1992-01-01    83.7\n",
       "3 1993-01-01    83.1\n",
       "4 1994-01-01    81.2"
      ]
     },
     "execution_count": 65,
     "metadata": {},
     "output_type": "execute_result"
    }
   ],
   "source": [
    "# Check out the first five rows of the stroke_mort data\n",
    "print(stroke_mort.shape) \n",
    "\n",
    "#'year' is currently an int Dtype, itshould be a date-time Dtype.\n",
    "# decided to convert first to avoid errors in merging\n",
    "stroke_mort['year'] = pd.to_datetime(stroke_mort['year'], format='%Y')\n",
    "print(stroke_mort.info())\n",
    "\n",
    "# print head again to check\n",
    "\n",
    "stroke_mort.head()"
   ]
  },
  {
   "cell_type": "code",
   "execution_count": 66,
   "metadata": {},
   "outputs": [
    {
     "name": "stdout",
     "output_type": "stream",
     "text": [
      "(30, 2)\n",
      "<class 'pandas.core.frame.DataFrame'>\n",
      "RangeIndex: 30 entries, 0 to 29\n",
      "Data columns (total 2 columns):\n",
      " #   Column  Non-Null Count  Dtype         \n",
      "---  ------  --------------  -----         \n",
      " 0   year    30 non-null     datetime64[ns]\n",
      " 1   ihd     30 non-null     float64       \n",
      "dtypes: datetime64[ns](1), float64(1)\n",
      "memory usage: 608.0 bytes\n",
      "None\n"
     ]
    },
    {
     "data": {
      "text/html": [
       "<div>\n",
       "<style scoped>\n",
       "    .dataframe tbody tr th:only-of-type {\n",
       "        vertical-align: middle;\n",
       "    }\n",
       "\n",
       "    .dataframe tbody tr th {\n",
       "        vertical-align: top;\n",
       "    }\n",
       "\n",
       "    .dataframe thead th {\n",
       "        text-align: right;\n",
       "    }\n",
       "</style>\n",
       "<table border=\"1\" class=\"dataframe\">\n",
       "  <thead>\n",
       "    <tr style=\"text-align: right;\">\n",
       "      <th></th>\n",
       "      <th>year</th>\n",
       "      <th>ihd</th>\n",
       "    </tr>\n",
       "  </thead>\n",
       "  <tbody>\n",
       "    <tr>\n",
       "      <th>0</th>\n",
       "      <td>1990-01-01</td>\n",
       "      <td>178.9</td>\n",
       "    </tr>\n",
       "    <tr>\n",
       "      <th>1</th>\n",
       "      <td>1991-01-01</td>\n",
       "      <td>165.5</td>\n",
       "    </tr>\n",
       "    <tr>\n",
       "      <th>2</th>\n",
       "      <td>1992-01-01</td>\n",
       "      <td>165.8</td>\n",
       "    </tr>\n",
       "    <tr>\n",
       "      <th>3</th>\n",
       "      <td>1993-01-01</td>\n",
       "      <td>157.0</td>\n",
       "    </tr>\n",
       "    <tr>\n",
       "      <th>4</th>\n",
       "      <td>1994-01-01</td>\n",
       "      <td>158.5</td>\n",
       "    </tr>\n",
       "  </tbody>\n",
       "</table>\n",
       "</div>"
      ],
      "text/plain": [
       "        year    ihd\n",
       "0 1990-01-01  178.9\n",
       "1 1991-01-01  165.5\n",
       "2 1992-01-01  165.8\n",
       "3 1993-01-01  157.0\n",
       "4 1994-01-01  158.5"
      ]
     },
     "execution_count": 66,
     "metadata": {},
     "output_type": "execute_result"
    }
   ],
   "source": [
    "# Check out the first five rows of the heartdis_mort data\n",
    "print(heartdis_mort.shape) \n",
    "\n",
    "#'year' is currently an int Dtype, itshould be a date-time Dtype.\n",
    "# decided to convert first to avoid errors in merging\n",
    "heartdis_mort['year'] = pd.to_datetime(heartdis_mort['year'], format='%Y')\n",
    "print(heartdis_mort.info())\n",
    "\n",
    "# print head again to check\n",
    "\n",
    "heartdis_mort.head()"
   ]
  },
  {
   "cell_type": "code",
   "execution_count": 67,
   "metadata": {},
   "outputs": [],
   "source": [
    "#merge the tables on the 'year' column\n",
    "diseases = pd.merge(left = cancer_mort,\n",
    "                          right = stroke_mort,\n",
    "                          how = 'left',\n",
    "                          on = \"year\")"
   ]
  },
  {
   "cell_type": "code",
   "execution_count": 68,
   "metadata": {},
   "outputs": [],
   "source": [
    "#merge the tables on the 'year' column\n",
    "diseases = pd.merge(left = diseases,\n",
    "                          right = heartdis_mort,\n",
    "                          how = 'left',\n",
    "                          on = \"year\")"
   ]
  },
  {
   "cell_type": "code",
   "execution_count": 69,
   "metadata": {},
   "outputs": [],
   "source": [
    "#replace year with just the actual datetime format year\n",
    "diseases['year'] = diseases['year'].dt.year"
   ]
  },
  {
   "cell_type": "code",
   "execution_count": 70,
   "metadata": {},
   "outputs": [
    {
     "data": {
      "text/html": [
       "<div>\n",
       "<style scoped>\n",
       "    .dataframe tbody tr th:only-of-type {\n",
       "        vertical-align: middle;\n",
       "    }\n",
       "\n",
       "    .dataframe tbody tr th {\n",
       "        vertical-align: top;\n",
       "    }\n",
       "\n",
       "    .dataframe thead th {\n",
       "        text-align: right;\n",
       "    }\n",
       "</style>\n",
       "<table border=\"1\" class=\"dataframe\">\n",
       "  <thead>\n",
       "    <tr style=\"text-align: right;\">\n",
       "      <th></th>\n",
       "      <th>year</th>\n",
       "      <th>cancer</th>\n",
       "      <th>stroke</th>\n",
       "      <th>ihd</th>\n",
       "    </tr>\n",
       "  </thead>\n",
       "  <tbody>\n",
       "    <tr>\n",
       "      <th>0</th>\n",
       "      <td>1990</td>\n",
       "      <td>244.5</td>\n",
       "      <td>95.8</td>\n",
       "      <td>178.9</td>\n",
       "    </tr>\n",
       "    <tr>\n",
       "      <th>1</th>\n",
       "      <td>1991</td>\n",
       "      <td>241.0</td>\n",
       "      <td>95.5</td>\n",
       "      <td>165.5</td>\n",
       "    </tr>\n",
       "    <tr>\n",
       "      <th>2</th>\n",
       "      <td>1992</td>\n",
       "      <td>240.8</td>\n",
       "      <td>83.7</td>\n",
       "      <td>165.8</td>\n",
       "    </tr>\n",
       "    <tr>\n",
       "      <th>3</th>\n",
       "      <td>1993</td>\n",
       "      <td>231.8</td>\n",
       "      <td>83.1</td>\n",
       "      <td>157.0</td>\n",
       "    </tr>\n",
       "    <tr>\n",
       "      <th>4</th>\n",
       "      <td>1994</td>\n",
       "      <td>240.7</td>\n",
       "      <td>81.2</td>\n",
       "      <td>158.5</td>\n",
       "    </tr>\n",
       "  </tbody>\n",
       "</table>\n",
       "</div>"
      ],
      "text/plain": [
       "   year  cancer  stroke    ihd\n",
       "0  1990   244.5    95.8  178.9\n",
       "1  1991   241.0    95.5  165.5\n",
       "2  1992   240.8    83.7  165.8\n",
       "3  1993   231.8    83.1  157.0\n",
       "4  1994   240.7    81.2  158.5"
      ]
     },
     "execution_count": 70,
     "metadata": {},
     "output_type": "execute_result"
    }
   ],
   "source": [
    "diseases.head()"
   ]
  },
  {
   "cell_type": "code",
   "execution_count": 71,
   "metadata": {
    "scrolled": true
   },
   "outputs": [
    {
     "name": "stdout",
     "output_type": "stream",
     "text": [
      "(216, 5)\n",
      "<class 'pandas.core.frame.DataFrame'>\n",
      "RangeIndex: 216 entries, 0 to 215\n",
      "Data columns (total 5 columns):\n",
      " #   Column           Non-Null Count  Dtype         \n",
      "---  ------           --------------  -----         \n",
      " 0   year             216 non-null    datetime64[ns]\n",
      " 1   facility_type_a  216 non-null    object        \n",
      " 2   sex              216 non-null    object        \n",
      " 3   age              216 non-null    object        \n",
      " 4   rate             216 non-null    float64       \n",
      "dtypes: datetime64[ns](1), float64(1), object(3)\n",
      "memory usage: 8.6+ KB\n",
      "None\n"
     ]
    },
    {
     "data": {
      "text/html": [
       "<div>\n",
       "<style scoped>\n",
       "    .dataframe tbody tr th:only-of-type {\n",
       "        vertical-align: middle;\n",
       "    }\n",
       "\n",
       "    .dataframe tbody tr th {\n",
       "        vertical-align: top;\n",
       "    }\n",
       "\n",
       "    .dataframe thead th {\n",
       "        text-align: right;\n",
       "    }\n",
       "</style>\n",
       "<table border=\"1\" class=\"dataframe\">\n",
       "  <thead>\n",
       "    <tr style=\"text-align: right;\">\n",
       "      <th></th>\n",
       "      <th>year</th>\n",
       "      <th>facility_type_a</th>\n",
       "      <th>sex</th>\n",
       "      <th>age</th>\n",
       "      <th>rate</th>\n",
       "    </tr>\n",
       "  </thead>\n",
       "  <tbody>\n",
       "    <tr>\n",
       "      <th>0</th>\n",
       "      <td>2009</td>\n",
       "      <td>Acute</td>\n",
       "      <td>Male</td>\n",
       "      <td>0-14 Years</td>\n",
       "      <td>100.1</td>\n",
       "    </tr>\n",
       "    <tr>\n",
       "      <th>1</th>\n",
       "      <td>2009</td>\n",
       "      <td>Acute</td>\n",
       "      <td>Male</td>\n",
       "      <td>15-64 years</td>\n",
       "      <td>62.7</td>\n",
       "    </tr>\n",
       "    <tr>\n",
       "      <th>2</th>\n",
       "      <td>2009</td>\n",
       "      <td>Acute</td>\n",
       "      <td>Male</td>\n",
       "      <td>65 years &amp; over</td>\n",
       "      <td>323.0</td>\n",
       "    </tr>\n",
       "    <tr>\n",
       "      <th>3</th>\n",
       "      <td>2009</td>\n",
       "      <td>Acute</td>\n",
       "      <td>Female</td>\n",
       "      <td>0-14 Years</td>\n",
       "      <td>84.9</td>\n",
       "    </tr>\n",
       "    <tr>\n",
       "      <th>4</th>\n",
       "      <td>2009</td>\n",
       "      <td>Acute</td>\n",
       "      <td>Female</td>\n",
       "      <td>15-64 years</td>\n",
       "      <td>73.5</td>\n",
       "    </tr>\n",
       "  </tbody>\n",
       "</table>\n",
       "</div>"
      ],
      "text/plain": [
       "   year facility_type_a     sex              age   rate\n",
       "0  2009           Acute    Male       0-14 Years  100.1\n",
       "1  2009           Acute    Male      15-64 years   62.7\n",
       "2  2009           Acute    Male  65 years & over  323.0\n",
       "3  2009           Acute  Female       0-14 Years   84.9\n",
       "4  2009           Acute  Female      15-64 years   73.5"
      ]
     },
     "execution_count": 71,
     "metadata": {},
     "output_type": "execute_result"
    }
   ],
   "source": [
    "# Check out the first five rows of the hosp_adm data\n",
    "print(hosp_adm.shape) \n",
    "\n",
    "#'year' is currently an int Dtype, itshould be a date-time Dtype.\n",
    "# decided to convert first to avoid errors in merging\n",
    "hosp_adm['year'] = pd.to_datetime(hosp_adm['year'], format='%Y')\n",
    "print(hosp_adm.info())\n",
    "\n",
    "#replace year with just the actual datetime format year\n",
    "hosp_adm['year'] = hosp_adm['year'].dt.year\n",
    "\n",
    "# print head again to check\n",
    "hosp_adm.head()"
   ]
  },
  {
   "cell_type": "code",
   "execution_count": 72,
   "metadata": {
    "scrolled": true
   },
   "outputs": [
    {
     "name": "stdout",
     "output_type": "stream",
     "text": [
      "(2557, 3)\n",
      "<class 'pandas.core.frame.DataFrame'>\n",
      "RangeIndex: 2557 entries, 0 to 2556\n",
      "Data columns (total 5 columns):\n",
      " #   Column        Non-Null Count  Dtype         \n",
      "---  ------        --------------  -----         \n",
      " 0   epi_week      2557 non-null   datetime64[ns]\n",
      " 1   disease       2557 non-null   object        \n",
      " 2   no._of_cases  2557 non-null   int64         \n",
      " 3   year          2557 non-null   int64         \n",
      " 4   month         2557 non-null   int64         \n",
      "dtypes: datetime64[ns](1), int64(3), object(1)\n",
      "memory usage: 100.0+ KB\n",
      "None\n"
     ]
    },
    {
     "data": {
      "text/html": [
       "<div>\n",
       "<style scoped>\n",
       "    .dataframe tbody tr th:only-of-type {\n",
       "        vertical-align: middle;\n",
       "    }\n",
       "\n",
       "    .dataframe tbody tr th {\n",
       "        vertical-align: top;\n",
       "    }\n",
       "\n",
       "    .dataframe thead th {\n",
       "        text-align: right;\n",
       "    }\n",
       "</style>\n",
       "<table border=\"1\" class=\"dataframe\">\n",
       "  <thead>\n",
       "    <tr style=\"text-align: right;\">\n",
       "      <th></th>\n",
       "      <th>epi_week</th>\n",
       "      <th>disease</th>\n",
       "      <th>no._of_cases</th>\n",
       "      <th>year</th>\n",
       "      <th>month</th>\n",
       "    </tr>\n",
       "  </thead>\n",
       "  <tbody>\n",
       "    <tr>\n",
       "      <th>0</th>\n",
       "      <td>2012-01-02</td>\n",
       "      <td>Acute Upper Respiratory Tract infections</td>\n",
       "      <td>2932</td>\n",
       "      <td>2012</td>\n",
       "      <td>1</td>\n",
       "    </tr>\n",
       "    <tr>\n",
       "      <th>1</th>\n",
       "      <td>2012-01-02</td>\n",
       "      <td>Acute Conjunctivitis</td>\n",
       "      <td>120</td>\n",
       "      <td>2012</td>\n",
       "      <td>1</td>\n",
       "    </tr>\n",
       "    <tr>\n",
       "      <th>2</th>\n",
       "      <td>2012-01-02</td>\n",
       "      <td>Acute Diarrhoea</td>\n",
       "      <td>491</td>\n",
       "      <td>2012</td>\n",
       "      <td>1</td>\n",
       "    </tr>\n",
       "    <tr>\n",
       "      <th>3</th>\n",
       "      <td>2012-01-02</td>\n",
       "      <td>Chickenpox</td>\n",
       "      <td>18</td>\n",
       "      <td>2012</td>\n",
       "      <td>1</td>\n",
       "    </tr>\n",
       "    <tr>\n",
       "      <th>4</th>\n",
       "      <td>2012-01-09</td>\n",
       "      <td>Acute Upper Respiratory Tract infections</td>\n",
       "      <td>3189</td>\n",
       "      <td>2012</td>\n",
       "      <td>1</td>\n",
       "    </tr>\n",
       "  </tbody>\n",
       "</table>\n",
       "</div>"
      ],
      "text/plain": [
       "    epi_week                                   disease  no._of_cases  year  \\\n",
       "0 2012-01-02  Acute Upper Respiratory Tract infections          2932  2012   \n",
       "1 2012-01-02                      Acute Conjunctivitis           120  2012   \n",
       "2 2012-01-02                           Acute Diarrhoea           491  2012   \n",
       "3 2012-01-02                                Chickenpox            18  2012   \n",
       "4 2012-01-09  Acute Upper Respiratory Tract infections          3189  2012   \n",
       "\n",
       "   month  \n",
       "0      1  \n",
       "1      1  \n",
       "2      1  \n",
       "3      1  \n",
       "4      1  "
      ]
     },
     "execution_count": 72,
     "metadata": {},
     "output_type": "execute_result"
    }
   ],
   "source": [
    "# Check out the shape of the polyclinic_att data\n",
    "print(polyclinic_att.shape)\n",
    "\n",
    "# Extract year and month into separate columns\n",
    "polyclinic_att['epi_week'] = pd.to_datetime(polyclinic_att['epi_week'] + '-1', format='%Y-W%W-%w')\n",
    "\n",
    "# Optionally, you can convert the month column to month name\n",
    "polyclinic_att['year'] = polyclinic_att['epi_week'].dt.year\n",
    "polyclinic_att['month'] = polyclinic_att['epi_week'].dt.month\n",
    "\n",
    "# Print the first five rows of the polyclinic_att data\n",
    "print(polyclinic_att.info())\n",
    "polyclinic_att.head()"
   ]
  },
  {
   "cell_type": "code",
   "execution_count": 74,
   "metadata": {},
   "outputs": [
    {
     "data": {
      "text/html": [
       "<div>\n",
       "<style scoped>\n",
       "    .dataframe tbody tr th:only-of-type {\n",
       "        vertical-align: middle;\n",
       "    }\n",
       "\n",
       "    .dataframe tbody tr th {\n",
       "        vertical-align: top;\n",
       "    }\n",
       "\n",
       "    .dataframe thead th {\n",
       "        text-align: right;\n",
       "    }\n",
       "</style>\n",
       "<table border=\"1\" class=\"dataframe\">\n",
       "  <thead>\n",
       "    <tr style=\"text-align: right;\">\n",
       "      <th></th>\n",
       "      <th>year</th>\n",
       "      <th>month</th>\n",
       "      <th>disease</th>\n",
       "      <th>num_cases</th>\n",
       "    </tr>\n",
       "  </thead>\n",
       "  <tbody>\n",
       "    <tr>\n",
       "      <th>0</th>\n",
       "      <td>2012</td>\n",
       "      <td>1</td>\n",
       "      <td>Acute Upper Respiratory Tract infections</td>\n",
       "      <td>2932</td>\n",
       "    </tr>\n",
       "    <tr>\n",
       "      <th>1</th>\n",
       "      <td>2012</td>\n",
       "      <td>1</td>\n",
       "      <td>Acute Conjunctivitis</td>\n",
       "      <td>120</td>\n",
       "    </tr>\n",
       "    <tr>\n",
       "      <th>2</th>\n",
       "      <td>2012</td>\n",
       "      <td>1</td>\n",
       "      <td>Acute Diarrhoea</td>\n",
       "      <td>491</td>\n",
       "    </tr>\n",
       "    <tr>\n",
       "      <th>3</th>\n",
       "      <td>2012</td>\n",
       "      <td>1</td>\n",
       "      <td>Chickenpox</td>\n",
       "      <td>18</td>\n",
       "    </tr>\n",
       "    <tr>\n",
       "      <th>4</th>\n",
       "      <td>2012</td>\n",
       "      <td>1</td>\n",
       "      <td>Acute Upper Respiratory Tract infections</td>\n",
       "      <td>3189</td>\n",
       "    </tr>\n",
       "  </tbody>\n",
       "</table>\n",
       "</div>"
      ],
      "text/plain": [
       "   year  month                                   disease  num_cases\n",
       "0  2012      1  Acute Upper Respiratory Tract infections       2932\n",
       "1  2012      1                      Acute Conjunctivitis        120\n",
       "2  2012      1                           Acute Diarrhoea        491\n",
       "3  2012      1                                Chickenpox         18\n",
       "4  2012      1  Acute Upper Respiratory Tract infections       3189"
      ]
     },
     "execution_count": 74,
     "metadata": {},
     "output_type": "execute_result"
    }
   ],
   "source": [
    "#reorder columns\n",
    "polyclinic_att = polyclinic_att[['year', 'month', 'disease', 'no._of_cases']]\n",
    "\n",
    "#rename columns\n",
    "polyclinic_att.rename(columns={'no._of_cases':'num_cases'},\n",
    "                         inplace=True)\n",
    "\n",
    "polyclinic_att.head()"
   ]
  },
  {
   "cell_type": "code",
   "execution_count": null,
   "metadata": {},
   "outputs": [],
   "source": [
    "#export diseases df to csv file\n",
    "import os # to work with files/directories\n",
    "if not os.path.exists('..\\data\\output'): \n",
    "    os.makedirs('..\\data\\output') \n",
    "diseases.to_csv('..\\data\\output\\diseases.csv')"
   ]
  },
  {
   "cell_type": "code",
   "execution_count": 75,
   "metadata": {},
   "outputs": [],
   "source": [
    "#export diseases df to csv file\n",
    "import os # to work with files/directories\n",
    "if not os.path.exists('..\\data\\output'): \n",
    "    os.makedirs('..\\data\\output') \n",
    "polyclinic_att.to_csv('..\\data\\output\\polyclinic_att.csv')"
   ]
  },
  {
   "cell_type": "markdown",
   "metadata": {},
   "source": [
    "---"
   ]
  },
  {
   "cell_type": "markdown",
   "metadata": {},
   "source": [
    "## Data Dictionary\n",
    "\n",
    "<details>\n",
    "<summary>More about Data Dictionary</summary>\n",
    "Now that we've fixed our data, and given it appropriate names, let's create a [data dictionary](http://library.ucmerced.edu/node/10249). \n",
    "\n",
    "A data dictionary provides a quick overview of features/variables/columns, alongside data types and descriptions. The more descriptive you can be, the more useful this document is.\n",
    "\n",
    "[Here's a quick link to a short guide for formatting markdown in Jupyter notebooks](https://jupyter-notebook.readthedocs.io/en/stable/examples/Notebook/Working%20With%20Markdown%20Cells.html).\n",
    "</details>\n",
    "<br>\n",
    "\n",
    "<mark>COME BACK TO THIS</mark>\n",
    "|Feature|Type|Dataset|Description|\n",
    "|---|---|---|---|\n",
    "|**rainf_rain_days**|*int*|rainfall-monthly-number-of-rain-days|The number of rain days (day with rainfall amount of 0.2mm or more) in a month recorded| \n",
    "|**rainf_total**|*float*|rainfall-monthly-total|The total monthly rainfall in mm|\n",
    "|**rainf_daily_high**|*float*|rainfall-monthly-highest-daily-total|The highest daily total rainfall for the month recorded|\n",
    "|**humi_mean**|*float*|relative-humidity-monthly-mean|The monthly mean relative humidity recorded|\n",
    "|**temp_min**|*float*|surface-air-temperature-monthly-mean-daily-minimum|The monthly and annual mean daily minimum temperature recorded|\n",
    "|**ozone_max_mean**|*float*|air-pollutant-ozone|Annual daily maximum 8-hr means for ozone (µg/m3) are based on WHO Air Quality Guidelines|\n",
    "|**pm_mean**|*float*|air-pollutant-particulate-matter-pm2-5|Annual means for PM2.5 (µg/m3) are based on WHO Air Quality Guidelines|\n"
   ]
  },
  {
   "cell_type": "markdown",
   "metadata": {},
   "source": [
    "## Exploratory Data Analysis\n",
    "\n",
    "Complete the following steps to explore your data. You are welcome to do more EDA than the steps outlined here as you feel necessary:\n",
    "1. Summary Statistics.\n",
    "2. Use a **dictionary comprehension** to apply the standard deviation function you create in part 1 to each numeric column in the dataframe.  **No loops**.\n",
    "    - Assign the output to variable `sd` as a dictionary where: \n",
    "        - Each column name is now a key \n",
    "        - That standard deviation of the column is the value \n",
    "        - *Example Output :* `{'rainfall-monthly-total': xxx, 'no_of_rainy_days': xxx, ...}`\n",
    "3. Investigate trends in the data.\n",
    "    - Using sorting and/or masking (along with the `.head()` method to avoid printing our entire dataframe), consider questions relevant to your problem statement. Some examples are provided below (but feel free to change these questions for your specific problem):\n",
    "        - Which month have the highest and lowest total rainfall in 2000, 2005, 2010, 2015 and 2020?\n",
    "        - Which year have the highest and lowest total rainfall in the date range of analysis (2000-2020)?\n",
    "        - Which month have the highest and lowest number of rainy days in 2000, 2005, 2010, 2015 and 2020?\n",
    "        - Which year have the highest and lowest number of rainy days in the date range of analysis (2000-2020)?\n",
    "        - Are there any outliers months in the dataset?\n",
    "\n",
    "   \n",
    "    - **The above 5 questions are compulsory. Feel free to explore other trends based on the datasets that you have choosen for analysis. You should comment on your findings at each step in a markdown cell below your code block**. Make sure you include at least one example of sorting your dataframe by a column, and one example of using boolean filtering (i.e., masking) to select a subset of the dataframe.<br>\n",
    "  \n",
    "    - **Other areas I would like to explore are:**\n",
    "        - How are the various weather conditions (Mean relative humidity, min daily temperature, sunshine duration, etc) associated with rainfall in Singapore?\n",
    "        - How does rainfall impact the Air Quality Index (AQI) in Singapore? Is there a correlation between rainfall and improvements or deteriorations in air quality? Are certain pollutants more responsive to rainfall?\n",
    "        - How do the various air pollutants (that contribute to AQI) relate to each other?\n",
    "        - How does Singapore's Particulate Matter (PM2.5) measure compared to WHO's target of 5µm/h?\n",
    "        - Are there time lags or temporal relationships between rainfall events and subsequent changes in the AQI? Do the effects of rainfall on air quality persist over a specific period?"
   ]
  },
  {
   "cell_type": "markdown",
   "metadata": {},
   "source": [
    "---"
   ]
  },
  {
   "cell_type": "markdown",
   "metadata": {},
   "source": [
    "# Show summary statistics\n",
    "weather.describe()"
   ]
  },
  {
   "cell_type": "code",
   "execution_count": null,
   "metadata": {},
   "outputs": [],
   "source": [
    "weather.head()"
   ]
  },
  {
   "cell_type": "code",
   "execution_count": null,
   "metadata": {},
   "outputs": [],
   "source": [
    "#Use a dictionary comprehension to apply the std dev function to each numeric column in the dataframe\n",
    "sd = {columns: std_dev(values) for columns, values in weather.items()}\n",
    "sd"
   ]
  },
  {
   "cell_type": "markdown",
   "metadata": {},
   "source": [
    "\n",
    "#### Analysing Total Rainfall and No of Rainy Days per month\n",
    "*Compulsory Questions*"
   ]
  },
  {
   "cell_type": "code",
   "execution_count": null,
   "metadata": {},
   "outputs": [],
   "source": [
    "#compulsory question 1\n",
    "#Which months have the highest and lowest total rainfall in 2000, 2005, 2010, 2015, 2020?\n",
    "\n",
    "selected_years = [2000, 2005, 2010, 2015, 2020]\n",
    "\n",
    "#Filter the DataFrame for the selected years\n",
    "filtered_weather = weather[weather['year'].isin(selected_years)]\n",
    "filtered_weather.head()"
   ]
  },
  {
   "cell_type": "code",
   "execution_count": null,
   "metadata": {},
   "outputs": [],
   "source": [
    "#Extract 'year', 'month', 'total rainfall' into new df\n",
    "rainf_by_month = filtered_weather[['year', 'month', 'total_rainfall']]\n",
    "rainf_by_month.reset_index(drop=True, inplace=True)\n",
    "rainf_by_month.head()"
   ]
  },
  {
   "cell_type": "code",
   "execution_count": null,
   "metadata": {},
   "outputs": [],
   "source": [
    "#Find the months with the highest rainfall for each year\n",
    "high_rainf = rainf_by_month.loc[rainf_by_month.groupby('year')['total_rainfall'].idxmax()]\n",
    "high_rainf.head()"
   ]
  },
  {
   "cell_type": "code",
   "execution_count": null,
   "metadata": {},
   "outputs": [],
   "source": [
    "#Find the months with the lowest total rainfall for each year\n",
    "low_rainf = rainf_by_month.loc[rainf_by_month.groupby('year')['total_rainfall'].idxmin()]\n",
    "low_rainf.head()"
   ]
  },
  {
   "cell_type": "markdown",
   "metadata": {},
   "source": [
    "The 2 dataframes above show us that the highest rainfall largely occur towards the end of the year (in the months of November to December), while lowest total rainfall occur largely in February.\n",
    "\n",
    "This proposes that total rainfall is a cyclical / seasonal factor. "
   ]
  },
  {
   "cell_type": "code",
   "execution_count": null,
   "metadata": {},
   "outputs": [],
   "source": [
    "#compulsory question 2\n",
    "#Which years have the highest and lowest total rainfall in the date range of analysis?\n",
    "#date range = between(2000-2020)\n",
    "\n",
    "#Extract 'year', 'month', 'total rainfall' into new df\n",
    "total_rainf = weather.loc[(weather['year'] >= 2000) & (weather['year'] <= 2020), ['year', 'month', 'total_rainfall']]\n",
    "total_rainf.head()"
   ]
  },
  {
   "cell_type": "code",
   "execution_count": null,
   "metadata": {},
   "outputs": [],
   "source": [
    "#Year with highest total rainfall\n",
    "high_total_rainf = total_rainf['total_rainfall'].max()\n",
    "highest_rainfall_row = total_rainf[total_rainf['total_rainfall'] == high_total_rainf]\n",
    "high_rainf_year = total_rainf['year'].loc[total_rainf['total_rainfall'].idxmax()]\n",
    "\n",
    "print(f\"The year with the highest total rainfall is {high_rainf_year}.\")\n",
    "highest_rainfall_row"
   ]
  },
  {
   "cell_type": "code",
   "execution_count": null,
   "metadata": {},
   "outputs": [],
   "source": [
    "#Year with lowest total rainfall\n",
    "low_total_rainf = total_rainf['total_rainfall'].min()\n",
    "lowest_rainfall_row = total_rainf[total_rainf['total_rainfall'] == low_total_rainf]\n",
    "low_rainf_year = total_rainf['year'].loc[total_rainf['total_rainfall'].idxmin()]\n",
    "\n",
    "print(f\"The year with the lowest total rainfall is {low_rainf_year}.\")\n",
    "lowest_rainfall_row"
   ]
  },
  {
   "cell_type": "markdown",
   "metadata": {},
   "source": [
    "We are not able to deduce much from just knowing the highest and lowest total rainfall years. However, we could use this years to later compare with our disease graphs to see if there is any relationship."
   ]
  },
  {
   "cell_type": "code",
   "execution_count": null,
   "metadata": {},
   "outputs": [],
   "source": [
    "#compulsory question 3\n",
    "#Which month have the highest and lowest number of rainy days in 2000, 2005, 2010, 2015, 2020?\n",
    "\n",
    "#Extract 'year', 'month', 'total rainfall' into new df\n",
    "sel_rainy_days = filtered_weather[['year', 'month', 'rainy_days']]\n",
    "sel_rainy_days.reset_index(drop=True, inplace=True)\n",
    "sel_rainy_days.head()"
   ]
  },
  {
   "cell_type": "code",
   "execution_count": null,
   "metadata": {},
   "outputs": [],
   "source": [
    "#Find the months with the highestnumber of rainy days for each year\n",
    "high_rainy_days = sel_rainy_days.loc[sel_rainy_days.groupby('year')['rainy_days'].idxmax()]\n",
    "high_rainy_days.head()"
   ]
  },
  {
   "cell_type": "code",
   "execution_count": null,
   "metadata": {},
   "outputs": [],
   "source": [
    "#Find the months with the lowest number of rainy days for each year\n",
    "low_rainy_days = sel_rainy_days.loc[sel_rainy_days.groupby('year')['rainy_days'].idxmin()]\n",
    "low_rainy_days.head()"
   ]
  },
  {
   "cell_type": "markdown",
   "metadata": {},
   "source": [
    "This reinforces the earlier trend that we identified from question 1.\n",
    "Rainfall is a cyclical / seasonal factor - the hot season with lesser rainy days takes place in the earlier half of the year, while the months taking place towards the end of year see more rainy days."
   ]
  },
  {
   "cell_type": "code",
   "execution_count": null,
   "metadata": {},
   "outputs": [],
   "source": [
    "#compulsory question 4\n",
    "#Which year have the highest and lowest number of rainy days in the date range of analysis?\n",
    "\n",
    "#Extract 'year', 'month', 'rainy_days' into new df\n",
    "rainy_days = weather.loc[(weather['year'] >= 2000) & (weather['year'] <= 2020), ['year', 'month', 'rainy_days']]\n",
    "\n",
    "#Year with highest number of rainy days\n",
    "high_rainy_d = rainy_days['rainy_days'].max()\n",
    "high_rainy_d_row = rainy_days[rainy_days['rainy_days'] == high_rainy_d]\n",
    "high_rainf_year = rainy_days['year'].loc[rainy_days['rainy_days'].idxmax()]\n",
    "\n",
    "print(f\"The year with the highest number of rainy days is {high_rainf_year}.\")\n",
    "high_rainy_d_row"
   ]
  },
  {
   "cell_type": "code",
   "execution_count": null,
   "metadata": {},
   "outputs": [],
   "source": [
    "#Year with lowest number of rainy days\n",
    "low_rainy_d = rainy_days['rainy_days'].min()\n",
    "low_rainy_d_row = rainy_days[rainy_days['rainy_days'] == low_rainy_d]\n",
    "low_rainf_year = rainy_days['year'].loc[rainy_days['rainy_days'].idxmin()]\n",
    "\n",
    "print(f\"The year with the lowest number of rainy days is {low_rainf_year}.\")\n",
    "low_rainy_d_row"
   ]
  },
  {
   "cell_type": "code",
   "execution_count": null,
   "metadata": {},
   "outputs": [],
   "source": [
    "#compulsory question 5\n",
    "#Are there any outliers months in the dataset?\n",
    "\n",
    "#use a histogram to check for outliers\n",
    "plt.hist(total_rainf['total_rainfall'])\n",
    "plt.title('Total Rainfall per Month');\n",
    "\n",
    "# notation indicating a possible outlier\n",
    "plt.annotate('Possible outlier', xy=(700, 0.03), xytext=(600, 8), fontsize=7,\n",
    "            arrowprops=dict(arrowstyle='->', ec='grey', lw=2), bbox=dict(boxstyle=\"round\", fc=\"0.8\"));"
   ]
  },
  {
   "cell_type": "markdown",
   "metadata": {},
   "source": [
    "From the histogram, we can identify an outlier (isolated bar) for the variable of Total Rainfall per Month."
   ]
  },
  {
   "cell_type": "code",
   "execution_count": null,
   "metadata": {},
   "outputs": [],
   "source": [
    "#use a histogram to check for outliers\n",
    "plt.hist(rainy_days['rainy_days'])\n",
    "plt.title('Number of Rainy Days per Month');"
   ]
  },
  {
   "cell_type": "markdown",
   "metadata": {},
   "source": [
    "From the histogram, there are no outliers for number of rainy days per month."
   ]
  },
  {
   "cell_type": "code",
   "execution_count": null,
   "metadata": {},
   "outputs": [],
   "source": [
    "weather.columns"
   ]
  },
  {
   "cell_type": "markdown",
   "metadata": {},
   "source": [
    "#### Correlation between the various weather conditions"
   ]
  },
  {
   "cell_type": "code",
   "execution_count": null,
   "metadata": {},
   "outputs": [],
   "source": [
    "#How are the various weather conditions (Mean relative humidity, min daily temperature, sunshine duration, etc) associated with rainfall in Singapore?\n",
    "#find correlation between various weather conditions using .corr()\n",
    "weather_cond = weather.loc[:,['year', 'rainy_days', 'total_rainfall', 'max_daily_rainfall', 'mean_rh',\n",
    "       'min_daily_temp', 'max_daily_temp', 'mean_sunshine_hrs', 'extr_max_temp',\n",
    "       'extr_min_temp']]\n",
    "weather_cond = weather_cond.set_index('year')\n",
    "weather_cond.corr()"
   ]
  },
  {
   "cell_type": "markdown",
   "metadata": {},
   "source": [
    "We can tell that temperature and sunshine hours are generally inversely correlated to the other humidity and rainfall. We shall plot this in a heatmap later on to be able to identify correlation more easily."
   ]
  },
  {
   "cell_type": "markdown",
   "metadata": {},
   "source": [
    "#### Analysing mean temperature variations (differences between min and max temperatures)"
   ]
  },
  {
   "cell_type": "code",
   "execution_count": null,
   "metadata": {},
   "outputs": [],
   "source": [
    "#What's the diff btwn the monthly extreme min and max temperature? \n",
    "# comparing present difference between min and max would confirm the trend of weather becoming increasingly extreme and erratic these days\n",
    "\n",
    "#add new column showing diff in extreme temps\n",
    "weather['extr_temp_diff'] = weather['extr_max_temp'] - weather['extr_min_temp']\n",
    "\n",
    "weather.head()"
   ]
  },
  {
   "cell_type": "code",
   "execution_count": null,
   "metadata": {
    "scrolled": true
   },
   "outputs": [],
   "source": [
    "#Find the mean extreme_temp_diff per year from 2000-2020\n",
    "df_extr_temp_diff = weather[(weather['year'] >= 2000) & (weather['year'] <= 2020)].groupby('year')[['extr_temp_diff']].mean()\n",
    "df_extr_temp_diff"
   ]
  },
  {
   "cell_type": "code",
   "execution_count": null,
   "metadata": {},
   "outputs": [],
   "source": [
    "#From the above, find the year with the max and min difference in extreme max, min temperature\n",
    "max_year = int(df_extr_temp_diff.idxmax())\n",
    "min_year = int(df_extr_temp_diff.idxmin())\n",
    "\n",
    "print(f\"The year {max_year} has the maximum difference of {float(df_extr_temp_diff.max()):.2f} degcelc, between the mean monthly absolute extreme max and min temperatures.\")\n",
    "print(f\"The year {min_year} has the minimum difference of {float(df_extr_temp_diff.min()):.2f} degcelc, between the mean monthly absolute extreme max and min temperatures.\")"
   ]
  },
  {
   "cell_type": "code",
   "execution_count": null,
   "metadata": {},
   "outputs": [],
   "source": [
    "#What's the diff btwn the mean daily min and max temperature? \n",
    "#add new column showing diff in extreme temps\n",
    "weather['daily_temp_diff'] = weather['max_daily_temp'] - weather['min_daily_temp']\n",
    "\n",
    "weather.head()"
   ]
  },
  {
   "cell_type": "code",
   "execution_count": null,
   "metadata": {
    "scrolled": true
   },
   "outputs": [],
   "source": [
    "#Find the mean extreme_temp_diff per year from 2000-2020\n",
    "df_daily_temp_diff = weather[(weather['year'] >= 2000) & (weather['year'] <= 2020)].groupby('year')[['daily_temp_diff']].mean()\n",
    "df_daily_temp_diff"
   ]
  },
  {
   "cell_type": "code",
   "execution_count": null,
   "metadata": {},
   "outputs": [],
   "source": [
    "#From the above, find the year with the max and min difference in min and max daily temperature\n",
    "max_year = int(df_daily_temp_diff.idxmax())\n",
    "min_year = int(df_daily_temp_diff.idxmin())\n",
    "\n",
    "print(f\"The year {max_year} has the maximum difference of {float(df_daily_temp_diff.max()):.2f} degcelc, between the mean min and max daily temperature.\")\n",
    "print(f\"The year {min_year} has the minimum difference of {float(df_daily_temp_diff.min()):.2f} degcelc, between the mean min and max daily temperature.\")"
   ]
  },
  {
   "cell_type": "code",
   "execution_count": null,
   "metadata": {},
   "outputs": [],
   "source": [
    "#Count number and percentage of months that temperature went above the 20 year mean min and max daily temperature\n",
    "#calculate the 20 year mean min daily temperature\n",
    "mean_min_daily = weather['min_daily_temp'].mean()\n",
    "mean_min_daily"
   ]
  },
  {
   "cell_type": "code",
   "execution_count": null,
   "metadata": {},
   "outputs": [],
   "source": [
    "#calculate the 20 year mean max daily temperature\n",
    "mean_max_daily = weather['max_daily_temp'].mean()\n",
    "mean_max_daily"
   ]
  },
  {
   "cell_type": "code",
   "execution_count": null,
   "metadata": {
    "scrolled": true
   },
   "outputs": [],
   "source": [
    "#Highlight all max daily temps that exceed mean_max_daily, and highlight all min daily temps that fall below mean_min_daily\n",
    "df_daily_temp = weather.loc[(weather['year'] >= 2000) & (weather['year'] <= 2020), ['year', 'month', 'min_daily_temp', 'max_daily_temp']]\n",
    "\n",
    "#Create the function to color values below mean min to blue\n",
    "#Create the function to color values above mean max to orange\n",
    "def color_for_temp(value):\n",
    "    if value >= mean_max_daily and value < 2000:\n",
    "        return 'color: red'\n",
    "\n",
    "    elif value >= 2000:\n",
    "        return 'color: black'\n",
    "\n",
    "    elif value <= mean_min_daily and value > 12:\n",
    "        return 'color: blue'\n",
    "        \n",
    "    else:\n",
    "        return 'color: black'\n",
    "        \n",
    "#We apply the function to all the element in the data frame by using the applymap function\n",
    "df_daily_temp.style.applymap(color_for_temp)"
   ]
  },
  {
   "cell_type": "code",
   "execution_count": null,
   "metadata": {},
   "outputs": [],
   "source": [
    "#Calculate no & percentage of months that max daily temps that exceed mean_max_daily, and no & percentage of months that min daily temps that fall below mean_min_daily"
   ]
  },
  {
   "cell_type": "code",
   "execution_count": null,
   "metadata": {},
   "outputs": [],
   "source": [
    "#Count number and percentage of months that total rainfall went below its 20 year mean \n",
    "#calculate the 20 year mean total rainfall\n",
    "mean_tot_rainf = weather['total_rainfall'].mean()\n",
    "mean_tot_rainf"
   ]
  },
  {
   "cell_type": "code",
   "execution_count": null,
   "metadata": {
    "scrolled": true
   },
   "outputs": [],
   "source": [
    "#Highlight all months that total rainfall fall below mean \n",
    "df_tot_rainf = weather.loc[(weather['year'] >= 2000) & (weather['year'] <= 2020), ['year', 'month', 'total_rainfall']]\n",
    "\n",
    "#Create the function to color values below mean min to blue\n",
    "#Create the function to color values above mean max to orange\n",
    "def color_rainf_under(value):\n",
    "    if value <= mean_tot_rainf and value > 12:\n",
    "        return 'color: blue'\n",
    "\n",
    "    else:\n",
    "        return 'color: black'\n",
    "        \n",
    "#We apply the function to all the element in the data frame by using the applymap function\n",
    "df_tot_rainf.style.applymap(color_rainf_under)"
   ]
  },
  {
   "cell_type": "code",
   "execution_count": null,
   "metadata": {},
   "outputs": [],
   "source": [
    "#Calculate no & percentage of months that total rainfall fall below 20 year mean value"
   ]
  },
  {
   "cell_type": "code",
   "execution_count": 77,
   "metadata": {},
   "outputs": [
    {
     "data": {
      "text/html": [
       "<div>\n",
       "<style scoped>\n",
       "    .dataframe tbody tr th:only-of-type {\n",
       "        vertical-align: middle;\n",
       "    }\n",
       "\n",
       "    .dataframe tbody tr th {\n",
       "        vertical-align: top;\n",
       "    }\n",
       "\n",
       "    .dataframe thead th {\n",
       "        text-align: right;\n",
       "    }\n",
       "</style>\n",
       "<table border=\"1\" class=\"dataframe\">\n",
       "  <thead>\n",
       "    <tr style=\"text-align: right;\">\n",
       "      <th></th>\n",
       "      <th>pm2.5_mean</th>\n",
       "      <th>pm10_mean</th>\n",
       "      <th>ozone_max_mean</th>\n",
       "      <th>lead_mean</th>\n",
       "      <th>co_max_mean</th>\n",
       "      <th>no2_mean</th>\n",
       "      <th>so2_mean</th>\n",
       "    </tr>\n",
       "    <tr>\n",
       "      <th>year</th>\n",
       "      <th></th>\n",
       "      <th></th>\n",
       "      <th></th>\n",
       "      <th></th>\n",
       "      <th></th>\n",
       "      <th></th>\n",
       "      <th></th>\n",
       "    </tr>\n",
       "  </thead>\n",
       "  <tbody>\n",
       "    <tr>\n",
       "      <th>2000</th>\n",
       "      <td>NaN</td>\n",
       "      <td>64.0</td>\n",
       "      <td>112.0</td>\n",
       "      <td>NaN</td>\n",
       "      <td>3.7</td>\n",
       "      <td>30.0</td>\n",
       "      <td>22.0</td>\n",
       "    </tr>\n",
       "    <tr>\n",
       "      <th>2001</th>\n",
       "      <td>NaN</td>\n",
       "      <td>56.0</td>\n",
       "      <td>133.0</td>\n",
       "      <td>NaN</td>\n",
       "      <td>4.2</td>\n",
       "      <td>26.0</td>\n",
       "      <td>22.0</td>\n",
       "    </tr>\n",
       "    <tr>\n",
       "      <th>2002</th>\n",
       "      <td>23.0</td>\n",
       "      <td>72.0</td>\n",
       "      <td>131.0</td>\n",
       "      <td>NaN</td>\n",
       "      <td>2.7</td>\n",
       "      <td>27.0</td>\n",
       "      <td>18.0</td>\n",
       "    </tr>\n",
       "    <tr>\n",
       "      <th>2003</th>\n",
       "      <td>19.0</td>\n",
       "      <td>52.0</td>\n",
       "      <td>118.0</td>\n",
       "      <td>NaN</td>\n",
       "      <td>3.2</td>\n",
       "      <td>24.0</td>\n",
       "      <td>15.0</td>\n",
       "    </tr>\n",
       "    <tr>\n",
       "      <th>2004</th>\n",
       "      <td>21.0</td>\n",
       "      <td>60.0</td>\n",
       "      <td>146.0</td>\n",
       "      <td>NaN</td>\n",
       "      <td>2.8</td>\n",
       "      <td>26.0</td>\n",
       "      <td>14.0</td>\n",
       "    </tr>\n",
       "  </tbody>\n",
       "</table>\n",
       "</div>"
      ],
      "text/plain": [
       "      pm2.5_mean  pm10_mean  ozone_max_mean  lead_mean  co_max_mean  no2_mean  \\\n",
       "year                                                                            \n",
       "2000         NaN       64.0           112.0        NaN          3.7      30.0   \n",
       "2001         NaN       56.0           133.0        NaN          4.2      26.0   \n",
       "2002        23.0       72.0           131.0        NaN          2.7      27.0   \n",
       "2003        19.0       52.0           118.0        NaN          3.2      24.0   \n",
       "2004        21.0       60.0           146.0        NaN          2.8      26.0   \n",
       "\n",
       "      so2_mean  \n",
       "year            \n",
       "2000      22.0  \n",
       "2001      22.0  \n",
       "2002      18.0  \n",
       "2003      15.0  \n",
       "2004      14.0  "
      ]
     },
     "execution_count": 77,
     "metadata": {},
     "output_type": "execute_result"
    }
   ],
   "source": [
    "#filter air_qlty table to show only 2000-2020\n",
    "#make year the index in air_qlty df\n",
    "air_qlty = air_qlty.set_index('year')\n",
    "\n",
    "#filter to include only 2000-2020\n",
    "air_qlty = air_qlty.loc[(air_qlty.index >= 2000) & (air_qlty.index <= 2020),:]\n",
    "air_qlty.head()"
   ]
  },
  {
   "cell_type": "code",
   "execution_count": 78,
   "metadata": {},
   "outputs": [
    {
     "name": "stdout",
     "output_type": "stream",
     "text": [
      "Index(['year', 'month', 'date', 'time', 'north', 'south', 'east', 'west',\n",
      "       'central'],\n",
      "      dtype='object')\n"
     ]
    },
    {
     "data": {
      "text/html": [
       "<div>\n",
       "<style scoped>\n",
       "    .dataframe tbody tr th:only-of-type {\n",
       "        vertical-align: middle;\n",
       "    }\n",
       "\n",
       "    .dataframe tbody tr th {\n",
       "        vertical-align: top;\n",
       "    }\n",
       "\n",
       "    .dataframe thead th {\n",
       "        text-align: right;\n",
       "    }\n",
       "</style>\n",
       "<table border=\"1\" class=\"dataframe\">\n",
       "  <thead>\n",
       "    <tr style=\"text-align: right;\">\n",
       "      <th></th>\n",
       "      <th>year</th>\n",
       "      <th>month</th>\n",
       "      <th>date</th>\n",
       "      <th>time</th>\n",
       "      <th>north</th>\n",
       "      <th>south</th>\n",
       "      <th>east</th>\n",
       "      <th>west</th>\n",
       "      <th>central</th>\n",
       "    </tr>\n",
       "  </thead>\n",
       "  <tbody>\n",
       "    <tr>\n",
       "      <th>0</th>\n",
       "      <td>2014</td>\n",
       "      <td>4</td>\n",
       "      <td>2014-04-01</td>\n",
       "      <td>01:00:00</td>\n",
       "      <td>55</td>\n",
       "      <td>54</td>\n",
       "      <td>54</td>\n",
       "      <td>58</td>\n",
       "      <td>54</td>\n",
       "    </tr>\n",
       "    <tr>\n",
       "      <th>1</th>\n",
       "      <td>2014</td>\n",
       "      <td>4</td>\n",
       "      <td>2014-04-01</td>\n",
       "      <td>02:00:00</td>\n",
       "      <td>55</td>\n",
       "      <td>54</td>\n",
       "      <td>54</td>\n",
       "      <td>59</td>\n",
       "      <td>54</td>\n",
       "    </tr>\n",
       "    <tr>\n",
       "      <th>2</th>\n",
       "      <td>2014</td>\n",
       "      <td>4</td>\n",
       "      <td>2014-04-01</td>\n",
       "      <td>03:00:00</td>\n",
       "      <td>55</td>\n",
       "      <td>55</td>\n",
       "      <td>54</td>\n",
       "      <td>60</td>\n",
       "      <td>55</td>\n",
       "    </tr>\n",
       "    <tr>\n",
       "      <th>3</th>\n",
       "      <td>2014</td>\n",
       "      <td>4</td>\n",
       "      <td>2014-04-01</td>\n",
       "      <td>04:00:00</td>\n",
       "      <td>56</td>\n",
       "      <td>55</td>\n",
       "      <td>55</td>\n",
       "      <td>62</td>\n",
       "      <td>55</td>\n",
       "    </tr>\n",
       "    <tr>\n",
       "      <th>4</th>\n",
       "      <td>2014</td>\n",
       "      <td>4</td>\n",
       "      <td>2014-04-01</td>\n",
       "      <td>05:00:00</td>\n",
       "      <td>57</td>\n",
       "      <td>55</td>\n",
       "      <td>56</td>\n",
       "      <td>63</td>\n",
       "      <td>56</td>\n",
       "    </tr>\n",
       "  </tbody>\n",
       "</table>\n",
       "</div>"
      ],
      "text/plain": [
       "   year  month        date      time  north  south  east  west  central\n",
       "0  2014      4  2014-04-01  01:00:00     55     54    54    58       54\n",
       "1  2014      4  2014-04-01  02:00:00     55     54    54    59       54\n",
       "2  2014      4  2014-04-01  03:00:00     55     55    54    60       55\n",
       "3  2014      4  2014-04-01  04:00:00     56     55    55    62       55\n",
       "4  2014      4  2014-04-01  05:00:00     57     55    56    63       56"
      ]
     },
     "execution_count": 78,
     "metadata": {},
     "output_type": "execute_result"
    }
   ],
   "source": [
    "print(psi.columns)\n",
    "psi.head()"
   ]
  },
  {
   "cell_type": "code",
   "execution_count": 79,
   "metadata": {},
   "outputs": [
    {
     "data": {
      "text/html": [
       "<div>\n",
       "<style scoped>\n",
       "    .dataframe tbody tr th:only-of-type {\n",
       "        vertical-align: middle;\n",
       "    }\n",
       "\n",
       "    .dataframe tbody tr th {\n",
       "        vertical-align: top;\n",
       "    }\n",
       "\n",
       "    .dataframe thead th {\n",
       "        text-align: right;\n",
       "    }\n",
       "</style>\n",
       "<table border=\"1\" class=\"dataframe\">\n",
       "  <thead>\n",
       "    <tr style=\"text-align: right;\">\n",
       "      <th></th>\n",
       "      <th>north</th>\n",
       "      <th>south</th>\n",
       "      <th>east</th>\n",
       "      <th>west</th>\n",
       "      <th>central</th>\n",
       "    </tr>\n",
       "    <tr>\n",
       "      <th>year</th>\n",
       "      <th></th>\n",
       "      <th></th>\n",
       "      <th></th>\n",
       "      <th></th>\n",
       "      <th></th>\n",
       "    </tr>\n",
       "  </thead>\n",
       "  <tbody>\n",
       "    <tr>\n",
       "      <th>2014</th>\n",
       "      <td>56.412638</td>\n",
       "      <td>54.805274</td>\n",
       "      <td>54.801637</td>\n",
       "      <td>57.248674</td>\n",
       "      <td>54.194726</td>\n",
       "    </tr>\n",
       "    <tr>\n",
       "      <th>2015</th>\n",
       "      <td>62.502740</td>\n",
       "      <td>62.880822</td>\n",
       "      <td>62.933333</td>\n",
       "      <td>65.582991</td>\n",
       "      <td>58.274087</td>\n",
       "    </tr>\n",
       "    <tr>\n",
       "      <th>2016</th>\n",
       "      <td>53.841075</td>\n",
       "      <td>51.736339</td>\n",
       "      <td>50.436362</td>\n",
       "      <td>49.148110</td>\n",
       "      <td>50.490323</td>\n",
       "    </tr>\n",
       "    <tr>\n",
       "      <th>2017</th>\n",
       "      <td>52.183333</td>\n",
       "      <td>50.879338</td>\n",
       "      <td>50.023973</td>\n",
       "      <td>46.142922</td>\n",
       "      <td>47.094863</td>\n",
       "    </tr>\n",
       "    <tr>\n",
       "      <th>2018</th>\n",
       "      <td>52.567237</td>\n",
       "      <td>53.880023</td>\n",
       "      <td>51.160388</td>\n",
       "      <td>47.656164</td>\n",
       "      <td>52.549087</td>\n",
       "    </tr>\n",
       "    <tr>\n",
       "      <th>2019</th>\n",
       "      <td>51.573402</td>\n",
       "      <td>54.689726</td>\n",
       "      <td>53.405251</td>\n",
       "      <td>50.224543</td>\n",
       "      <td>52.810160</td>\n",
       "    </tr>\n",
       "    <tr>\n",
       "      <th>2020</th>\n",
       "      <td>44.141052</td>\n",
       "      <td>45.189208</td>\n",
       "      <td>44.736111</td>\n",
       "      <td>38.477573</td>\n",
       "      <td>44.487136</td>\n",
       "    </tr>\n",
       "  </tbody>\n",
       "</table>\n",
       "</div>"
      ],
      "text/plain": [
       "          north      south       east       west    central\n",
       "year                                                       \n",
       "2014  56.412638  54.805274  54.801637  57.248674  54.194726\n",
       "2015  62.502740  62.880822  62.933333  65.582991  58.274087\n",
       "2016  53.841075  51.736339  50.436362  49.148110  50.490323\n",
       "2017  52.183333  50.879338  50.023973  46.142922  47.094863\n",
       "2018  52.567237  53.880023  51.160388  47.656164  52.549087\n",
       "2019  51.573402  54.689726  53.405251  50.224543  52.810160\n",
       "2020  44.141052  45.189208  44.736111  38.477573  44.487136"
      ]
     },
     "execution_count": 79,
     "metadata": {},
     "output_type": "execute_result"
    }
   ],
   "source": [
    "#Create a column in air_qlty to show PSI as indicator ranges\n",
    "\n",
    "#Calculate average PSI (a way of measuring AQI) from PSI df\n",
    "psi_yearly_mean = psi.groupby('year')[['north', 'south', 'east', 'west',\n",
    "       'central']].mean()\n",
    "\n",
    "psi_yearly_mean"
   ]
  },
  {
   "cell_type": "code",
   "execution_count": null,
   "metadata": {},
   "outputs": [],
   "source": [
    "#Add a column for overall mean psi\n",
    "psi_yearly_mean['overall'] = (psi_yearly_mean['north']+psi_yearly_mean['south']+psi_yearly_mean['east']+psi_yearly_mean['west']+psi_yearly_mean['central'])/5\n",
    "psi_yearly_mean.tail()"
   ]
  },
  {
   "cell_type": "code",
   "execution_count": null,
   "metadata": {},
   "outputs": [],
   "source": [
    "#merge overall PSI to air_qlty dataframe\n",
    "air_qlty_psi = air_qlty.merge(psi_yearly_mean[['overall']], left_index=True, right_index=True, how='left')\n",
    "\n",
    "#rename overall to overall_psi\n",
    "air_qlty_psi.rename(columns={'overall':'overall_psi'},\n",
    "                         inplace=True)\n",
    "\n",
    "air_qlty_psi.tail()"
   ]
  },
  {
   "cell_type": "code",
   "execution_count": null,
   "metadata": {},
   "outputs": [],
   "source": [
    "#Create a column in air_qlty to show PSI as indicator ranges\n",
    "\n",
    "#Sort psi into ranges - according to Singapore's indicator indexes\n",
    "#create function, and use apply to overwrite ages to range\n",
    "def psi_range(value):\n",
    "    if value == \"NaN\":\n",
    "        return None\n",
    "    elif value <= 50:\n",
    "        return \"Good\"\n",
    "    elif value <= 100:\n",
    "        return \"Moderate\"\n",
    "    elif value < 200:\n",
    "        return \"Unhealthy\"\n",
    "    elif value < 300:\n",
    "        return \"Very Unhealthy\"\n",
    "    else:\n",
    "        return \"Hazardous\"\n",
    "\n",
    "# Apply the function to replace values within the range\n",
    "air_qlty_psi['psi_index'] = air_qlty_psi['overall_psi'].apply(psi_range)\n",
    "\n",
    "air_qlty_psi.tail()"
   ]
  },
  {
   "cell_type": "code",
   "execution_count": null,
   "metadata": {},
   "outputs": [],
   "source": [
    "#For years where temperature exceeds mean, what is the percentage for each indicator poor, very poor or hazardous \n",
    "\n",
    "#filter weather df years to 2000-2020\n",
    "weather = weather.loc[(weather['year'] >= 2000) & (weather['year'] <= 2020),:]\n",
    "weather.head()"
   ]
  },
  {
   "cell_type": "code",
   "execution_count": null,
   "metadata": {},
   "outputs": [],
   "source": [
    "#get a psi df that groups by year, month and get monthly mean\n",
    "#Calculate average PSI (a way of measuring AQI) from PSI df\n",
    "mean_monthly = psi.groupby(['year', 'month']).mean()[['north', 'south', 'east', 'west', 'central']]\n",
    "mean_monthly.reset_index(drop=False, inplace=True)\n",
    "\n",
    "#Add a column for overall mean psi\n",
    "mean_monthly['overall_psi'] = (mean_monthly['north']+mean_monthly['south']+mean_monthly['east']+mean_monthly['west']+mean_monthly['central'])/5\n",
    "\n",
    "# Create new psi indicator column for mean_monthly df\n",
    "mean_monthly['psi_index'] = mean_monthly['overall_psi'].apply(psi_range)\n",
    "\n",
    "mean_monthly.tail()"
   ]
  },
  {
   "cell_type": "code",
   "execution_count": null,
   "metadata": {},
   "outputs": [],
   "source": [
    "#merge weather_cond with mean_monthly psi df\n",
    "weather_aqi_psi = pd.merge(left = weather,\n",
    "                          right = mean_monthly,\n",
    "                          how = 'left',on=['year', 'month'])\n",
    "\n",
    "#extract only likely required columns for new table\n",
    "weather_aqi_psi = weather_aqi_psi[['year', 'month', 'total_rainfall', 'min_daily_temp', 'max_daily_temp', 'extr_max_temp', 'extr_min_temp', 'extr_temp_diff', 'daily_temp_diff', 'overall_psi', 'psi_index']]\n",
    "\n",
    "weather_aqi_psi.tail()"
   ]
  },
  {
   "cell_type": "code",
   "execution_count": null,
   "metadata": {},
   "outputs": [],
   "source": [
    "#since PSI data only available from 2014 onwards, lets do a more focused study instead for this segment, and just filter years 2015 to 2020\n",
    "weather_aqi_psi = weather_aqi_psi.loc[(weather_aqi_psi['year'] >= 2015) & (weather_aqi_psi['year'] <= 2020),:]\n",
    "weather_aqi_psi.reset_index(drop=True, inplace=True)\n",
    "weather_aqi_psi.head()"
   ]
  },
  {
   "cell_type": "code",
   "execution_count": null,
   "metadata": {},
   "outputs": [],
   "source": [
    "#To see if increase in max_daily_temp or fall in total rainfall contributes to unhealthy psi_index"
   ]
  },
  {
   "cell_type": "code",
   "execution_count": null,
   "metadata": {},
   "outputs": [],
   "source": [
    "#calculate the percentage where temperature exceeds the overall 20yr mean max_daily temperature of 31.52 degcelc  for each psi_index range\n",
    "\n",
    "#Group by psi_index\n",
    "grouped_psi_index = weather_aqi_psi.groupby('psi_index')\n",
    "\n",
    "#define function to get percentage where temperature exceeds the overall 20yr mean max_daily temp in a psi_index range\n",
    "def exceed_max(index):\n",
    "    return (len(grouped_psi_index.get_group(index).loc[weather_aqi_psi['max_daily_temp'] > 31.52, :]) / len(weather_aqi_psi['max_daily_temp'])) * 100\n",
    "\n",
    "#Create loop to count percentage and print percentage\n",
    "psi_index = ['Good', 'Moderate', 'Unhealthy', 'Very Unhealthy', 'Hazardous']\n",
    "\n",
    "for index in psi_index:\n",
    "    try:\n",
    "        if len(grouped_psi_index.get_group(index)) > 0:\n",
    "            print(f\"The percentage of values for psi_index '{index}' whereby temperature exceeds the overall 20yr mean max_daily temp is: {exceed_max(index):.2f}%\")\n",
    "        else:\n",
    "            print(f\"The percentage of values for psi_index '{index}' whereby temperature exceeds the overall 20yr mean max_daily temp is: 0.00%\")\n",
    "    except:\n",
    "        print(f\"The percentage of values for psi_index '{index}' whereby temperature exceeds the overall 20yr mean max_daily temp is: 0.00%\")"
   ]
  },
  {
   "cell_type": "code",
   "execution_count": null,
   "metadata": {},
   "outputs": [],
   "source": [
    "#calculate the percentage where total rainfall falls below the overall 20yr mean total rainfall of 177.16  for each psi_index range\n",
    "\n",
    "#Group by psi_index\n",
    "grouped_psi_index = weather_aqi_psi.groupby('psi_index')\n",
    "\n",
    "#define function to get percentage where temperature exceeds the overall 20yr mean max_daily temp in a psi_index range\n",
    "def below_mean_rainf(index):\n",
    "    return (len(grouped_psi_index.get_group(index).loc[weather_aqi_psi['total_rainfall'] > 177.16, :]) / len(weather_aqi_psi['total_rainfall'])) * 100\n",
    "\n",
    "#Create loop to count percentage and print percentage\n",
    "psi_index = ['Good', 'Moderate', 'Unhealthy', 'Very Unhealthy', 'Hazardous']\n",
    "\n",
    "for index in psi_index:\n",
    "    try:\n",
    "        if len(grouped_psi_index.get_group(index)) > 0:\n",
    "            print(f\"The percentage of values for psi_index '{index}' whereby total rainfall falls below the overall 20yr mean total rainfall is: {below_mean_rainf(index):.2f}%\")\n",
    "        else:\n",
    "            print(f\"The percentage of values for psi_index '{index}' whereby total rainfall falls below the overall 20yr mean total rainfall is: 0.00%\")\n",
    "    except:\n",
    "        print(f\"The percentage of values for psi_index '{index}' whereby total rainfall falls below the overall 20yr mean total rainfall is: 0.00%\")"
   ]
  },
  {
   "cell_type": "markdown",
   "metadata": {},
   "source": [
    "Unfortunately, through the above results, we are unable to draw a strong correlation that higher temperatures or lack of rainfall would contribute to a more unhealthy psi index.\n",
    "This could be due to a few factors:\n",
    "1) Computation of PSI is based on the 6 different pollutants. Perhaps temperature or rainfall impacts only a few of the pollutants and hence this did not translate in the analysis.\n",
    "2) Measurement of PSI in this project is only available from 2014 onwards (and 2015 to 2020 was used instead). Since the worst haze crisis was in 2013, values of unhealthy and hazardous level PSI were not captured in the analysis."
   ]
  },
  {
   "cell_type": "code",
   "execution_count": 76,
   "metadata": {},
   "outputs": [
    {
     "data": {
      "text/html": [
       "<div>\n",
       "<style scoped>\n",
       "    .dataframe tbody tr th:only-of-type {\n",
       "        vertical-align: middle;\n",
       "    }\n",
       "\n",
       "    .dataframe tbody tr th {\n",
       "        vertical-align: top;\n",
       "    }\n",
       "\n",
       "    .dataframe thead th {\n",
       "        text-align: right;\n",
       "    }\n",
       "</style>\n",
       "<table border=\"1\" class=\"dataframe\">\n",
       "  <thead>\n",
       "    <tr style=\"text-align: right;\">\n",
       "      <th></th>\n",
       "      <th>year</th>\n",
       "      <th>month</th>\n",
       "      <th>disease</th>\n",
       "      <th>num_cases</th>\n",
       "    </tr>\n",
       "  </thead>\n",
       "  <tbody>\n",
       "    <tr>\n",
       "      <th>0</th>\n",
       "      <td>2012</td>\n",
       "      <td>1</td>\n",
       "      <td>Acute Upper Respiratory Tract infections</td>\n",
       "      <td>2932</td>\n",
       "    </tr>\n",
       "    <tr>\n",
       "      <th>1</th>\n",
       "      <td>2012</td>\n",
       "      <td>1</td>\n",
       "      <td>Acute Conjunctivitis</td>\n",
       "      <td>120</td>\n",
       "    </tr>\n",
       "    <tr>\n",
       "      <th>2</th>\n",
       "      <td>2012</td>\n",
       "      <td>1</td>\n",
       "      <td>Acute Diarrhoea</td>\n",
       "      <td>491</td>\n",
       "    </tr>\n",
       "    <tr>\n",
       "      <th>3</th>\n",
       "      <td>2012</td>\n",
       "      <td>1</td>\n",
       "      <td>Chickenpox</td>\n",
       "      <td>18</td>\n",
       "    </tr>\n",
       "    <tr>\n",
       "      <th>4</th>\n",
       "      <td>2012</td>\n",
       "      <td>1</td>\n",
       "      <td>Acute Upper Respiratory Tract infections</td>\n",
       "      <td>3189</td>\n",
       "    </tr>\n",
       "  </tbody>\n",
       "</table>\n",
       "</div>"
      ],
      "text/plain": [
       "   year  month                                   disease  num_cases\n",
       "0  2012      1  Acute Upper Respiratory Tract infections       2932\n",
       "1  2012      1                      Acute Conjunctivitis        120\n",
       "2  2012      1                           Acute Diarrhoea        491\n",
       "3  2012      1                                Chickenpox         18\n",
       "4  2012      1  Acute Upper Respiratory Tract infections       3189"
      ]
     },
     "execution_count": 76,
     "metadata": {},
     "output_type": "execute_result"
    }
   ],
   "source": [
    "#Calculate percentage of polyclinic diseases that are Acute Upper Respiratory Tract infections per month\n",
    "polyclinic_att.groupby("
   ]
  },
  {
   "cell_type": "markdown",
   "metadata": {},
   "source": [
    "**To-Do:** *Edit this cell with your findings on trends in the data (step 3 above).*"
   ]
  },
  {
   "cell_type": "markdown",
   "metadata": {},
   "source": [
    "## Visualize the Data\n",
    "\n",
    "There's not a magic bullet recommendation for the right number of plots to understand a given dataset, but visualizing your data is *always* a good idea. Not only does it allow you to quickly convey your findings (even if you have a non-technical audience), it will often reveal trends in your data that escaped you when you were looking only at numbers. It is important to not only create visualizations, but to **interpret your visualizations** as well.\n",
    "\n",
    "**Every plot should**:\n",
    "- Have a title\n",
    "- Have axis labels\n",
    "- Have appropriate tick labels\n",
    "- Text is legible in a plot\n",
    "- Plots demonstrate meaningful and valid relationships\n",
    "- Have an interpretation to aid understanding\n",
    "\n",
    "Here is an example of what your plots should look like following the above guidelines. Note that while the content of this example is unrelated, the principles of visualization hold:\n",
    "\n",
    "![](https://snag.gy/hCBR1U.jpg)\n",
    "*Interpretation: The above image shows that as we increase our spending on advertising, our sales numbers also tend to increase. There is a positive correlation between advertising spending and sales.*\n",
    "\n",
    "---\n",
    "\n",
    "Here are some prompts to get you started with visualizations. Feel free to add additional visualizations as you see fit:\n",
    "1. Use Seaborn's heatmap with pandas `.corr()` to visualize correlations between all numeric features.\n",
    "    - Heatmaps are generally not appropriate for presentations, and should often be excluded from reports as they can be visually overwhelming. **However**, they can be extremely useful in identify relationships of potential interest (as well as identifying potential collinearity before modeling).\n",
    "    - Please take time to format your output, adding a title. Look through some of the additional arguments and options. (Axis labels aren't really necessary, as long as the title is informative).\n",
    "2. Visualize distributions using histograms. If you have a lot, consider writing a custom function and use subplots.\n",
    "    - *OPTIONAL*: Summarize the underlying distributions of your features (in words & statistics)\n",
    "         - Be thorough in your verbal description of these distributions.\n",
    "         - Be sure to back up these summaries with statistics.\n",
    "         - We generally assume that data we sample from a population will be normally distributed. Do we observe this trend? Explain your answers for each distribution and how you think this will affect estimates made from these data.\n",
    "3. Plot and interpret boxplots. \n",
    "    - Boxplots demonstrate central tendency and spread in variables. In a certain sense, these are somewhat redundant with histograms, but you may be better able to identify clear outliers or differences in IQR, etc.\n",
    "    - Multiple values can be plotted to a single boxplot as long as they are of the same relative scale (meaning they have similar min/max values).\n",
    "    - Each boxplot should:\n",
    "        - Only include variables of a similar scale\n",
    "        - Have clear labels for each variable\n",
    "        - Have appropriate titles and labels\n",
    "4. Plot and interpret scatter plots to view relationships between features. Feel free to write a custom function, and subplot if you'd like. Functions save both time and space.\n",
    "    - Your plots should have:\n",
    "        - Two clearly labeled axes\n",
    "        - A proper title\n",
    "        - Colors and symbols that are clear and unmistakable\n",
    "5. Additional plots of your choosing.\n",
    "    - Are there any additional trends or relationships you haven't explored? Was there something interesting you saw that you'd like to dive further into? It's likely that there are a few more plots you might want to generate to support your narrative and recommendations that you are building toward. **As always, make sure you're interpreting your plots as you go**."
   ]
  },
  {
   "cell_type": "markdown",
   "metadata": {},
   "source": [
    "Some ideas for plots that can be generated:\n",
    "\n",
    "- Plot the histogram of the rainfall data with various bins and comment on the distribution of the data - is it centered, skewed?\n",
    "- Plot the box-and-whiskers plot. Comment on the different quartiles and identify any outliers in the dataset. \n",
    "- Is there a correlation between the number of rainy days and total rainfall in the month? What kind of correlation do your suspect? Does the graph show the same?\n"
   ]
  },
  {
   "cell_type": "code",
   "execution_count": null,
   "metadata": {},
   "outputs": [],
   "source": [
    "#Mapping the general trend between various weather conditions from 2000 - 2020\n",
    "#(Rainfall, mean relative humidity, min daily temperature, sunshine duration, etc)\n",
    "\n",
    "conditions = weather.columns[2:]\n",
    "conditions"
   ]
  },
  {
   "cell_type": "code",
   "execution_count": null,
   "metadata": {},
   "outputs": [],
   "source": [
    "#group by year and get yearly mean for all weather conditions\n",
    "grouped_year = weather.groupby('year')[['rainy_days', 'total_rainfall', 'max_daily_rainfall', 'mean_rh',\n",
    "       'min_daily_temp', 'max_daily_temp', 'mean_sunshine_hrs',\n",
    "       'extr_max_temp', 'extr_min_temp']]\n",
    "mean_conditions = grouped_year.mean()\n",
    "\n",
    "#filter to include only 2000-2020\n",
    "mean_conditions = mean_conditions.loc[(mean_conditions.index >= 2000) & (mean_conditions.index <= 2020),:]\n",
    "mean_conditions.head()"
   ]
  },
  {
   "cell_type": "code",
   "execution_count": null,
   "metadata": {},
   "outputs": [],
   "source": [
    "# Establish the size of the figure.\n",
    "plt.figure(figsize = (15, 8))\n",
    "\n",
    "#get iterable list of conditions, create line plot of all mean_conditions conditions\n",
    "conditions = ['rainy_days', 'total_rainfall', 'max_daily_rainfall', 'mean_rh',\n",
    "       'min_daily_temp', 'max_daily_temp', 'mean_sunshine_hrs',\n",
    "       'extr_max_temp', 'extr_min_temp']\n",
    "\n",
    "for condition in conditions:\n",
    "    time = mean_conditions.index\n",
    "    condition_mean = mean_conditions[condition]\n",
    "    plt.plot(time,\n",
    "             condition_mean,\n",
    "             label = condition, marker = 'o');\n",
    "    \n",
    "# legend placement on plot\n",
    "plt.legend(loc = 'upper right', fontsize = 'x-small');\n",
    "\n",
    "# Create a grid in the background.\n",
    "plt.grid(True, linewidth = 0.5, linestyle = '--', c = 'black', alpha = 0.2) # recap: alpha-->transparency. 0.1--> 10% opaque\n",
    "\n",
    "\n",
    "# Create tick mark labels on the X,Y axis without rotating them.\n",
    "tick_positions = np.arange(2000, 2021, 1)\n",
    "plt.xticks(tick_positions, fontsize = 10)\n",
    "plt.yticks(fontsize = 10)\n",
    "\n",
    "# Create title.\n",
    "plt.title(\"Charting yearly mean of various weather conditions\", fontsize = 13);"
   ]
  },
  {
   "cell_type": "markdown",
   "metadata": {},
   "source": [
    "As a form of preliminary investigation, we can see from the above line chart that the various weather conditions are correlated to each other. In the most substantial fall in mean total rainfall in 1997, we can see that mean relative humidity and mean no of rainy days fell as well.\n",
    "\n",
    "Only mean sunshine hours is inversely correlated to the relative humidity and rainfall."
   ]
  },
  {
   "cell_type": "code",
   "execution_count": null,
   "metadata": {},
   "outputs": [],
   "source": [
    "#Plot heat map for weather condition correlations\n",
    "# Establish size of figure.\n",
    "plt.figure(figsize = (12,7))\n",
    "\n",
    "# Set up mask to be \"True\" in the upper triangle.\n",
    "# because it will be the mirror image of lower triangle we'll see on our plot.\n",
    "mask = np.zeros_like(weather_cond.corr())\n",
    "mask[np.triu_indices_from(mask)] = True\n",
    "\n",
    "# plotting a heatmap with contrasting color scheme\n",
    "with sns.axes_style(\"white\"):\n",
    "    sns.heatmap(weather_cond.corr(), mask = mask, square = True, annot = True, vmin = -1, vmax = 1, linewidths = 0.5, cmap='coolwarm')"
   ]
  },
  {
   "cell_type": "markdown",
   "metadata": {},
   "source": [
    "The heat map shows more clearly the positive and inverse correlations between the weather conditions. As expected, maximum daily rainfall has the strongest positive correlation to total rainfall measured, at 0.81."
   ]
  },
  {
   "cell_type": "code",
   "execution_count": null,
   "metadata": {},
   "outputs": [],
   "source": [
    "#How do the various air pollutants (that contribute to AQI) relate to each other?\n",
    "# Establish the size of the figure.\n",
    "plt.figure(figsize = (15, 8))\n",
    "\n",
    "#get iterable list of pollutants, create line plot of all air pollutants contributing to AQI\n",
    "for pollutants in air_qlty:\n",
    "    pollut_time = air_qlty.index\n",
    "    pollut_mean = air_qlty[pollutants]\n",
    "    plt.plot(pollut_time,\n",
    "             pollut_mean,\n",
    "             label = pollutants, marker = 'o');\n",
    "    \n",
    "# legend placement on plot\n",
    "plt.legend(loc = 'upper right', fontsize = 'small');\n",
    "\n",
    "# Create a grid in the background.\n",
    "plt.grid(True, linewidth = 0.5, linestyle = '--', c = 'black', alpha = 0.2) # recap: alpha-->transparency. 0.1--> 10% opaque\n",
    "\n",
    "\n",
    "# Create tick mark labels on the X,Y axis without rotating them.\n",
    "tick_positions = np.arange(2000, 2021, 1)\n",
    "plt.xticks(tick_positions, fontsize = 10)\n",
    "plt.yticks(fontsize = 10)\n",
    "\n",
    "# Create title.\n",
    "plt.title(\"Charting yearly mean of various AQI air pollutants\", fontsize = 13);"
   ]
  },
  {
   "cell_type": "markdown",
   "metadata": {},
   "source": [
    "As preliminary investigation, mapping out the yearly mean of the AQI pollutants shows that there is correlation between ozone, pm2.5 and pm10. However it is still not very clear what this relationship is for now."
   ]
  },
  {
   "cell_type": "code",
   "execution_count": null,
   "metadata": {},
   "outputs": [],
   "source": [
    "air_qlty.columns"
   ]
  },
  {
   "cell_type": "code",
   "execution_count": null,
   "metadata": {},
   "outputs": [],
   "source": [
    "import matplotlib.ticker as ticker\n",
    "\n",
    "#lets chart the yearly mean of air pollutants individually, against Singapore & WHO's air quality targets\n",
    "# Establish figure size.\n",
    "plt.figure(figsize = (15,17))\n",
    "\n",
    "# We can create subplots, which allows us to have multiple subplots in the same plot area.\n",
    "ax1 = plt.subplot(3, 2, 1)\n",
    "ax1.set_title('Sulphur Dioxide (SO2)')\n",
    "plt.plot(air_qlty.index,\n",
    "         air_qlty['so2_mean'],\n",
    "         label = pollutants, marker = 'o');\n",
    "ax1.xaxis.set_major_locator(ticker.MultipleLocator(5))\n",
    "ax1.axhline(y=50, color='red', linestyle='--')\n",
    "\n",
    "ax2 = plt.subplot(3, 2, 2)\n",
    "ax2.set_title('Particulate Matter (PM2.5)')\n",
    "plt.plot(air_qlty.index,\n",
    "         air_qlty['pm2.5_mean'],\n",
    "         label = pollutants, marker = 'o');\n",
    "ax2.xaxis.set_major_locator(ticker.MultipleLocator(5))\n",
    "ax2.axhline(y=12, color='red', linestyle='--')\n",
    "\n",
    "ax3 = plt.subplot(3, 2, 3)\n",
    "ax3.set_title('Particulate Matter (PM10)')\n",
    "plt.plot(air_qlty.index,\n",
    "         air_qlty['pm10_mean'],\n",
    "         label = pollutants, marker = 'o');\n",
    "ax3.xaxis.set_major_locator(ticker.MultipleLocator(5))\n",
    "ax3.axhline(y=20, color='red', linestyle='--')\n",
    "\n",
    "ax4 = plt.subplot(3, 2, 4)\n",
    "ax4.set_title('Ozone')\n",
    "plt.plot(air_qlty.index,\n",
    "         air_qlty['ozone_max_mean'],\n",
    "         label = pollutants, marker = 'o');\n",
    "ax4.xaxis.set_major_locator(ticker.MultipleLocator(5))\n",
    "ax4.axhline(y=100, color='red', linestyle='--')\n",
    "\n",
    "ax5 = plt.subplot(3, 2, 5)\n",
    "ax5.set_title('Nitrogen Dioxide (NO2)')\n",
    "plt.plot(air_qlty.index,\n",
    "         air_qlty['no2_mean'],\n",
    "         label = pollutants, marker = 'o');\n",
    "ax5.xaxis.set_major_locator(ticker.MultipleLocator(5))\n",
    "ax5.axhline(y=200, color='red', linestyle='--')\n",
    "\n",
    "ax6 = plt.subplot(3, 2, 6)\n",
    "ax6.set_title('Carbon Monoxide (CO)')\n",
    "plt.plot(air_qlty.index,\n",
    "         air_qlty['co_max_mean'],\n",
    "         label = pollutants, marker = 'o');\n",
    "ax6.xaxis.set_major_locator(ticker.MultipleLocator(5))\n",
    "ax6.axhline(y=30, color='red', linestyle='--')\n",
    "\n",
    "#plt.tight_layout() # help to add more space/adjust the plots to best layout (like a print job, best fit)\n",
    "plt.subplots_adjust(wspace=0.2, hspace=0.2)"
   ]
  },
  {
   "cell_type": "markdown",
   "metadata": {},
   "source": [
    "The 6 charts above plot the 6 different air pollutants which we use to measure air quality. Each pollutant is plotted against the Singapore"
   ]
  },
  {
   "cell_type": "code",
   "execution_count": null,
   "metadata": {},
   "outputs": [],
   "source": [
    "#plot correlation chart between all weather conditions and pollutants in AQI\n",
    "\n",
    "#First, merge weather_cond df with air_qlty df\n",
    "weather_aqi = pd.merge(left = weather_cond,\n",
    "                          right = air_qlty,\n",
    "                          how = 'left',left_index=True, right_index=True)\n",
    "weather_aqi.head()"
   ]
  },
  {
   "cell_type": "code",
   "execution_count": null,
   "metadata": {
    "scrolled": true
   },
   "outputs": [],
   "source": [
    "#find correlation between all weather conditions and pollutants in AQI\n",
    "weather_aqi.corr()"
   ]
  },
  {
   "cell_type": "markdown",
   "metadata": {},
   "source": [
    "After seeing the correlation table, I decided on 2 more steps that could help me achieve clearer visualisation:\n",
    "1. To drop lead_mean from the dataframe. As mean lead amounts were constantly <0.1 for all years, and there would be no point including it.\n",
    "2. Perhaps i should not find correlation of all factors (for both weather and AQI) on a 12x12 heatmap. I could measure weather conditions on one axis against pollutants on another axis, on a 6x5 heatmap."
   ]
  },
  {
   "cell_type": "code",
   "execution_count": null,
   "metadata": {},
   "outputs": [],
   "source": [
    "#drop lead_mean from weather_aqi\n",
    "air_qlty_no_lead = air_qlty.drop(columns=['lead_mean'])\n",
    "air_qlty_no_lead.head()"
   ]
  },
  {
   "cell_type": "code",
   "execution_count": null,
   "metadata": {},
   "outputs": [],
   "source": [
    "#Plot weather conditions on one axis against pollutants on another axis, on a 6x5 heatmap\n",
    "# Establish size of figure.\n",
    "plt.figure(figsize = (12,7));\n",
    "\n",
    "# Calculate correlation matrix\n",
    "corr_matrix = pd.concat([weather_cond, air_qlty_no_lead], axis=1).corr()\n",
    "\n",
    "# Plot correlation heatmap\n",
    "fig, ax = plt.subplots();\n",
    "sns.heatmap(corr_matrix.iloc[:len(weather_cond.columns), len(weather_cond.columns):], annot=True, cmap='coolwarm', ax=ax, vmin = -0.35, vmax = 0.35,linewidths = 0.5);\n",
    "\n",
    "# Set x-axis and y-axis labels\n",
    "ax.set_xticklabels(air_qlty_no_lead.columns, rotation=90, fontsize = 8);\n",
    "ax.set_yticklabels(weather_cond.columns, rotation=0, fontsize = 8);\n",
    "\n",
    "# Set plot title\n",
    "plt.title('Correlation Between Weather Conditions vs Air Pollutants');\n"
   ]
  },
  {
   "cell_type": "markdown",
   "metadata": {},
   "source": [
    "From the above correlation heatmap, correlation is not strong. This may not be most accurate, since the data we are measuring is only looking at yearly mean values.\n",
    "Stronger correlations are between mean relative humidity to sulfur dioxide mean."
   ]
  },
  {
   "cell_type": "code",
   "execution_count": null,
   "metadata": {},
   "outputs": [],
   "source": [
    "#Plot histogram of mean extreme_temp_diff per year from 2000-2020\n",
    "# high frquency of increasing"
   ]
  },
  {
   "cell_type": "code",
   "execution_count": null,
   "metadata": {},
   "outputs": [],
   "source": [
    "#plot bar chart of monthly min and max daily temp on top of each other\n",
    "#Plot line chart of temp diff"
   ]
  },
  {
   "cell_type": "markdown",
   "metadata": {},
   "source": [
    "\n",
    "Exposure to PM2.5, tiny particles that penetrate the respiratory system, can lead to various health effects like irritation of the eyes, nose, throat, and lungs, as well as coughing, sneezing, and breathlessness. Long-term exposure is associated with worsened heart and lung function, increased risk of heart attack, and higher mortality rates from heart disease. "
   ]
  },
  {
   "cell_type": "code",
   "execution_count": null,
   "metadata": {},
   "outputs": [],
   "source": [
    "#Measure mean rate of pm2.5 from 2000-2020, plot mean rate, actual pm 2.5 values and WHO target for comparisen"
   ]
  },
  {
   "cell_type": "code",
   "execution_count": null,
   "metadata": {},
   "outputs": [],
   "source": [
    "#Is there any seasonal trend for temperature if we analyse by months of the year?\n",
    "#use heat map - plot min daily temp\n",
    "\n",
    "#extract required columns\n",
    "heatmap_min_daily_temp = weather[['year', 'month', 'min_daily_temp']]\n",
    "heatmap_min_daily_temp.head()"
   ]
  },
  {
   "cell_type": "code",
   "execution_count": null,
   "metadata": {},
   "outputs": [],
   "source": [
    "#pivot to plot year on x axis, month on y-axis\n",
    "heatmap_min_daily_temp_pivot = heatmap_min_daily_temp.pivot('month', 'year', 'min_daily_temp')\n",
    "heatmap_min_daily_temp_pivot.head()"
   ]
  },
  {
   "cell_type": "code",
   "execution_count": null,
   "metadata": {},
   "outputs": [],
   "source": [
    "#use heat map - plot min daily temp\n",
    "\n",
    "#extract required columns\n",
    "heatmap_max_daily_temp = weather[['year', 'month', 'max_daily_temp']]\n",
    "heatmap_max_daily_temp.head()\n",
    "\n",
    "#pivot to plot year on x axis, month on y-axis\n",
    "heatmap_max_daily_temp_pivot = heatmap_max_daily_temp.pivot('month', 'year', 'max_daily_temp')\n",
    "heatmap_max_daily_temp_pivot.head()"
   ]
  },
  {
   "cell_type": "code",
   "execution_count": null,
   "metadata": {},
   "outputs": [],
   "source": [
    "#plot a heatmap each, for min and max daily temp\n",
    "fig, axs = plt.subplots(1, 2, figsize=(25, 10), sharey=True)\n",
    "\n",
    "sns.heatmap(heatmap_min_daily_temp_pivot,\n",
    "    linewidths=0.5,\n",
    "    cmap=\"rocket_r\",\n",
    "    center=26,\n",
    "    ax=axs[0]\n",
    "    )\n",
    "\n",
    "sns.heatmap(heatmap_max_daily_temp_pivot,\n",
    "    linewidths=0.5,\n",
    "    cmap=\"rocket_r\",\n",
    "    center=32,\n",
    "    ax=axs[1]\n",
    "    )\n",
    "fig.suptitle(\"Mean Min Daily Temperatures (Left) and Max Daily Temperatures (Right)\", fontsize=17)\n",
    "axs[0].set_yticklabels(['Jan', 'Feb', 'Mar', 'Apr', 'May', 'Jun', 'Jul', 'Aug', 'Sep', 'Oct', 'Nov', 'Dec'], fontsize=12)\n",
    "axs[1].set_yticklabels(['Jan', 'Feb', 'Mar', 'Apr', 'May', 'Jun', 'Jul', 'Aug', 'Sep', 'Oct', 'Nov', 'Dec'], fontsize=12)\n",
    "axs[0].set_ylabel(\"Month\", fontsize=15)\n",
    "axs[1].set_ylabel(\"Month\", fontsize=15)\n",
    "plt.show()"
   ]
  },
  {
   "cell_type": "markdown",
   "metadata": {},
   "source": [
    "From both charts, we can see that both the min daily temperatures and max daily temperatures have been increasing over the years. This is possibly due to global warming, as we face rising temperatures.<br>\n",
    "From the max daily temperature heatmap, we can see that temperatures are hottest in the period of February to June. From the min daily temperature heatmap, we can see temperatures are cooler in the months of November, December and January."
   ]
  },
  {
   "cell_type": "code",
   "execution_count": null,
   "metadata": {},
   "outputs": [],
   "source": [
    "diseases.columns"
   ]
  },
  {
   "cell_type": "code",
   "execution_count": null,
   "metadata": {},
   "outputs": [],
   "source": [
    "#analyse for seasonality - compare rainfall to mortality rate for Acute Upper Respiratory Tract infections\n",
    "#extract relevant dataframes\n",
    "\n",
    "#dataframe for rainfall\n",
    "rainfall_df = weather[['year', 'month', 'total_rainfall']]\n",
    "\n",
    "#dataframe for Acute Upper Respiratory Tract infections\n",
    "resp_inf = polyclinic_att.loc[polyclinic_att['disease']=='Acute Upper Respiratory Tract infections', ['year', 'month', 'no._of_cases']]"
   ]
  },
  {
   "cell_type": "code",
   "execution_count": null,
   "metadata": {},
   "outputs": [],
   "source": [
    "resp_inf.head()"
   ]
  },
  {
   "cell_type": "code",
   "execution_count": null,
   "metadata": {},
   "outputs": [],
   "source": [
    "#create time decomposition chart for max daily temp\n",
    "from statsmodels.tsa.seasonal import seasonal_decompose\n",
    "\n",
    "# Convert 'year' and 'month' columns to datetime format\n",
    "heatmap_max_daily_temp['date'] = pd.to_datetime(heatmap_max_daily_temp[['year', 'month']].assign(day=1))\n",
    "\n",
    "# Set the 'date' column as the index\n",
    "heatmap_max_daily_temp.set_index('date', inplace=True)\n",
    "\n",
    "# Perform seasonal decomposition\n",
    "decomposition = seasonal_decompose(heatmap_max_daily_temp['max_daily_temp'], model='multiplicative')\n",
    "\n",
    "# Plot the decomposition\n",
    "decomposition.plot()\n",
    "plt.show()"
   ]
  },
  {
   "cell_type": "code",
   "execution_count": null,
   "metadata": {},
   "outputs": [],
   "source": [
    "#create time decomposition chart for rainfall\n",
    "from statsmodels.tsa.seasonal import seasonal_decompose\n",
    "\n",
    "# Convert 'year' and 'month' columns to datetime format\n",
    "rainfall_df['date'] = pd.to_datetime(rainfall_df[['year', 'month']].assign(day=1))\n",
    "\n",
    "# Set the 'date' column as the index\n",
    "rainfall_df.set_index('date', inplace=True)\n",
    "\n",
    "# Perform seasonal decomposition\n",
    "decomposition = seasonal_decompose(rainfall_df['total_rainfall'], model='multiplicative')\n",
    "\n",
    "# Plot the decomposition\n",
    "decomposition.plot()\n",
    "plt.show()"
   ]
  },
  {
   "cell_type": "code",
   "execution_count": null,
   "metadata": {},
   "outputs": [],
   "source": [
    "#create time decomposition chart for rainfall\n",
    "from statsmodels.tsa.seasonal import seasonal_decompose\n",
    "\n",
    "# Convert 'year' and 'month' columns to datetime format\n",
    "resp_inf['date'] = pd.to_datetime(resp_inf[['year', 'month']].assign(day=1))\n",
    "\n",
    "# Set the 'date' column as the index\n",
    "resp_inf.set_index('date', inplace=True)\n",
    "\n",
    "# Perform seasonal decomposition\n",
    "decomposition = seasonal_decompose(resp_inf['no._of_cases'], model='multiplicative')\n",
    "\n",
    "# Plot the decomposition\n",
    "decomposition.plot()\n",
    "plt.show()"
   ]
  },
  {
   "cell_type": "code",
   "execution_count": null,
   "metadata": {},
   "outputs": [],
   "source": [
    "#analyse average-daily-polyclinic-attendances-for-selected-diseases and calculate percentage of diseases linked to air pollution (heart, lungs)\n",
    "#is this percentage seasonal? (time decomposition chart thing)"
   ]
  },
  {
   "cell_type": "code",
   "execution_count": null,
   "metadata": {},
   "outputs": [],
   "source": [
    "#Analyse the duration of peaks and fall for the various cycles of temperature going up\n",
    "#What's the max duration of the cycle, what's the min duration"
   ]
  },
  {
   "cell_type": "code",
   "execution_count": null,
   "metadata": {},
   "outputs": [],
   "source": []
  },
  {
   "cell_type": "code",
   "execution_count": null,
   "metadata": {},
   "outputs": [],
   "source": [
    "#Plot mortality rate for heart disease and stroke "
   ]
  },
  {
   "cell_type": "code",
   "execution_count": null,
   "metadata": {},
   "outputs": [],
   "source": []
  },
  {
   "cell_type": "markdown",
   "metadata": {},
   "source": [
    "## Conclusions and Recommendations"
   ]
  },
  {
   "cell_type": "markdown",
   "metadata": {},
   "source": [
    "Based on your exploration of the data, what are you key takeaways and recommendations? Make sure to answer your question of interest or address your problem statement here."
   ]
  },
  {
   "cell_type": "markdown",
   "metadata": {},
   "source": [
    "**To-Do:** *Edit this cell with your conclusions and recommendations.*"
   ]
  },
  {
   "cell_type": "markdown",
   "metadata": {},
   "source": [
    "Lessons learnt:\n",
    "* In future, to be more organised with dataframes and sub-dataframes. Try to perform calculations on the more detailed dataframe, and then carrying out groupby at the end where necessary."
   ]
  },
  {
   "cell_type": "markdown",
   "metadata": {},
   "source": [
    "Don't forget to create your README!\n",
    "\n",
    "**To-Do:** *If you combine your problem statement, data dictionary, brief summary of your analysis, and conclusions/recommendations, you have an amazing README.md file that quickly aligns your audience to the contents of your project.* Don't forget to cite your data sources!"
   ]
  }
 ],
 "metadata": {
  "anaconda-cloud": {},
  "kernelspec": {
   "display_name": "Python 3 (ipykernel)",
   "language": "python",
   "name": "python3"
  },
  "language_info": {
   "codemirror_mode": {
    "name": "ipython",
    "version": 3
   },
   "file_extension": ".py",
   "mimetype": "text/x-python",
   "name": "python",
   "nbconvert_exporter": "python",
   "pygments_lexer": "ipython3",
   "version": "3.8.17"
  }
 },
 "nbformat": 4,
 "nbformat_minor": 4
}
